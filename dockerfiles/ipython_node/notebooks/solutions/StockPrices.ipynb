{
 "metadata": {
  "name": "",
  "signature": "sha256:da9ec0ef3ca0686e4489ad8cae7632ca7718abda7a7955b37e8b017717aac1ac"
 },
 "nbformat": 3,
 "nbformat_minor": 0,
 "worksheets": [
  {
   "cells": [
    {
     "cell_type": "code",
     "collapsed": false,
     "input": [
      "import pandas as pd\n",
      "import numpy as np\n",
      "from pandas import DataFrame, Series\n",
      "import glob"
     ],
     "language": "python",
     "metadata": {},
     "outputs": []
    },
    {
     "cell_type": "code",
     "collapsed": false,
     "input": [
      "stock_prices = glob.glob('../labs/stock_prices/*.csv.gz')\n",
      "stock_prices"
     ],
     "language": "python",
     "metadata": {},
     "outputs": []
    },
    {
     "cell_type": "code",
     "collapsed": false,
     "input": [
      "stock_data = DataFrame()\n",
      "for file in stock_prices :\n",
      "    current_data = pd.read_csv(file,parse_dates=2,compression='gzip')\n",
      "    stock_data = stock_data.append(current_data)\n",
      "stock_data"
     ],
     "language": "python",
     "metadata": {},
     "outputs": []
    },
    {
     "cell_type": "code",
     "collapsed": false,
     "input": [
      "stock_data['stock_price_high'] "
     ],
     "language": "python",
     "metadata": {},
     "outputs": []
    },
    {
     "cell_type": "code",
     "collapsed": false,
     "input": [
      "stock_data[['stock_symbol','date','stock_price_high']] "
     ],
     "language": "python",
     "metadata": {},
     "outputs": []
    },
    {
     "cell_type": "code",
     "collapsed": false,
     "input": [
      "stock_data[stock_data['stock_volume'] >= 10000000]"
     ],
     "language": "python",
     "metadata": {},
     "outputs": []
    },
    {
     "cell_type": "code",
     "collapsed": false,
     "input": [
      "stock_data[stock_data['stock_volume'] >= 10000000].tail(20)"
     ],
     "language": "python",
     "metadata": {},
     "outputs": []
    },
    {
     "cell_type": "code",
     "collapsed": false,
     "input": [
      "stock_data.groupby('stock_symbol').size() "
     ],
     "language": "python",
     "metadata": {},
     "outputs": []
    },
    {
     "cell_type": "code",
     "collapsed": false,
     "input": [
      "stock_data.groupby('stock_symbol')['stock_price_high'].max() "
     ],
     "language": "python",
     "metadata": {},
     "outputs": []
    },
    {
     "cell_type": "code",
     "collapsed": false,
     "input": [
      "stock_data.groupby('stock_symbol')['stock_price_low'].min() "
     ],
     "language": "python",
     "metadata": {},
     "outputs": []
    },
    {
     "cell_type": "code",
     "collapsed": false,
     "input": [
      "stock_data.groupby('stock_symbol')['stock_volume'].mean() "
     ],
     "language": "python",
     "metadata": {},
     "outputs": []
    },
    {
     "cell_type": "code",
     "collapsed": false,
     "input": [
      "stock_data.groupby('stock_symbol').agg({'stock_price_high':[np.max, np.min, np.mean]}) "
     ],
     "language": "python",
     "metadata": {},
     "outputs": []
    },
    {
     "cell_type": "code",
     "collapsed": false,
     "input": [
      "stock_data[(stock_data['stock_symbol'] == 'AYI')].stock_price_close.max()"
     ],
     "language": "python",
     "metadata": {},
     "outputs": []
    },
    {
     "cell_type": "code",
     "collapsed": false,
     "input": [
      "stock_data[(stock_data['stock_symbol'] == 'ABA')].stock_volume.plot() "
     ],
     "language": "python",
     "metadata": {},
     "outputs": []
    },
    {
     "cell_type": "code",
     "collapsed": false,
     "input": [
      "stock_data[(stock_data['stock_symbol'] == 'ABA')].plot(x='date',y='stock_price_high') "
     ],
     "language": "python",
     "metadata": {},
     "outputs": []
    },
    {
     "cell_type": "code",
     "collapsed": false,
     "input": [
      "stock_data2 = DataFrame()\n",
      "for file in stock_prices :\n",
      "    current_data = pd.read_csv(file,parse_dates=2,index_col=[1,2])\n",
      "    if stock_data2.empty :\n",
      "        stock_data2 = current_data\n",
      "    else :\n",
      "        stock_data2 = stock_data2.append(current_data)\n",
      "stock_data2 "
     ],
     "language": "python",
     "metadata": {},
     "outputs": []
    },
    {
     "cell_type": "code",
     "collapsed": false,
     "input": [
      "stock_data2.stock_price_high.max()"
     ],
     "language": "python",
     "metadata": {},
     "outputs": []
    },
    {
     "cell_type": "code",
     "collapsed": false,
     "input": [
      "stock_data2.stock_price_high.max(level=0) "
     ],
     "language": "python",
     "metadata": {},
     "outputs": []
    },
    {
     "cell_type": "code",
     "collapsed": false,
     "input": [
      "stock_data2.stock_price_low.min(level=0) "
     ],
     "language": "python",
     "metadata": {},
     "outputs": []
    },
    {
     "cell_type": "code",
     "collapsed": false,
     "input": [
      "stock_data2.stock_volume.sum(level=0) "
     ],
     "language": "python",
     "metadata": {},
     "outputs": []
    },
    {
     "cell_type": "code",
     "collapsed": false,
     "input": [
      "stock_data2.stock_volume.sum() "
     ],
     "language": "python",
     "metadata": {},
     "outputs": []
    },
    {
     "cell_type": "code",
     "collapsed": false,
     "input": [
      "stock_data2.ix[['CLI']]"
     ],
     "language": "python",
     "metadata": {},
     "outputs": []
    },
    {
     "cell_type": "code",
     "collapsed": false,
     "input": [
      "stock_data2.ix[['CLI']].stock_price_high.max()"
     ],
     "language": "python",
     "metadata": {},
     "outputs": []
    },
    {
     "cell_type": "code",
     "collapsed": false,
     "input": [
      "stock_data2.ix[['CLI']].stock_price_high.plot()"
     ],
     "language": "python",
     "metadata": {},
     "outputs": []
    },
    {
     "cell_type": "code",
     "collapsed": false,
     "input": [],
     "language": "python",
     "metadata": {},
     "outputs": []
    }
   ],
   "metadata": {}
  }
 ]
}