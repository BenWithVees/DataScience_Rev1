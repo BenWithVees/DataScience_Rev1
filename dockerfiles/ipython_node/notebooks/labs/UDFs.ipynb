{
 "metadata": {
  "name": "",
  "signature": "sha256:1c9bfd53eee83d54c46b51b475100f0299408ed964ae138e2c655bd5a5197160"
 },
 "nbformat": 3,
 "nbformat_minor": 0,
 "worksheets": [
  {
   "cells": [
    {
     "cell_type": "code",
     "collapsed": false,
     "input": [
      "#! /usr/bin/env python\n",
      "\n",
      "\n",
      "\n",
      "for_split = [',', '\\n', '\\t', '\\'', '.', '\\\"', '!', '?', '-', '~', '[', ']', \n",
      "        '=', '(', ')', '\\\"', ':', ';', '{', '}', '<', '>']\n",
      "ignored = ['Re:', 'the', 'and', 'i', 'to', 'of', 'a', 'in', 'was', 'that', 'had',\n",
      "        'he', 'you', 'his','my', 'it', 'as', 'with', 'her', 'for', 'on']\n",
      "\n"
     ],
     "language": "python",
     "metadata": {},
     "outputs": []
    }
   ],
   "metadata": {}
  }
 ]
}