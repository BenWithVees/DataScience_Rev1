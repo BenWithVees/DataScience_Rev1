{
 "metadata": {
  "name": "",
  "signature": "sha256:eb27544cffe3def60b1bffb518e3c55a30806a3ae524900358d7a0a8b3a92bf2"
 },
 "nbformat": 3,
 "nbformat_minor": 0,
 "worksheets": [
  {
   "cells": [
    {
     "cell_type": "code",
     "collapsed": false,
     "input": [],
     "language": "python",
     "metadata": {},
     "outputs": []
    },
    {
     "cell_type": "code",
     "collapsed": false,
     "input": [
      "def knn(X, dataSet, k):\n",
      "    dataSetSize = dataSet.shape[0]\n",
      "    #distance calculation\n",
      "\n",
      "    \n",
      "    #sort results\n",
      "\n",
      "    \n",
      "    #vote using k lowest distances\n",
      "    classCount={}\n",
      "    top_labels = distances.head(k).index.tolist()\n",
      "    label_counts = dict((i, top_labels.count(i)) for i in top_labels)\n",
      "    return max(label_counts.iteritems(), key=operator.itemgetter(1))[0]\n",
      "    \n",
      "    \n"
     ],
     "language": "python",
     "metadata": {},
     "outputs": []
    },
    {
     "cell_type": "code",
     "collapsed": false,
     "input": [
      "labels = [\"A\", \"B\", \"C\", \"D\"] * 25\n",
      "random.shuffle(labels)\n",
      "\n",
      "N = 100\n",
      "data = DataFrame(np.random.randint(0, 100, size=(N, 2)), columns = [\"x\", \"y\"], index = labels)\n",
      "#Define a test point\n",
      "\n",
      "\n",
      "result_label = knn(test_point, data, 5)\n",
      "print \"***Result = %s***\" % result_label"
     ],
     "language": "python",
     "metadata": {},
     "outputs": []
    },
    {
     "cell_type": "code",
     "collapsed": false,
     "input": [
      "# Plot the points\n",
      "f = plt.figure()\n",
      "ax = f.add_subplot(1, 1, 1)\n",
      "ax.set_title(\"K-Nearest Neighbor\")\n",
      "a = ax.scatter(data.ix[\"A\"][\"x\"], data.ix[\"A\"][\"y\"], c=\"Blue\", s=75)\n",
      "b = ax.scatter(data.ix[\"B\"][\"x\"], data.ix[\"B\"][\"y\"], c=\"Green\", s=75)\n",
      "c = ax.scatter(data.ix[\"C\"][\"x\"], data.ix[\"C\"][\"y\"], c=\"Red\", s=75)\n",
      "d = ax.scatter(data.ix[\"D\"][\"x\"], data.ix[\"D\"][\"y\"], c=\"Black\", s=75)\n",
      "point = ax.scatter(test_point[\"x\"], test_point[\"y\"], c=\"Yellow\", s=100)\n",
      "ax.legend((a,b,c,d, point), (\"A\", \"B\", \"C\", \"D\", \"test point\"), bbox_to_anchor=(1.05, 1), loc=2, borderaxespad=0.)"
     ],
     "language": "python",
     "metadata": {},
     "outputs": []
    }
   ],
   "metadata": {}
  }
 ]
}