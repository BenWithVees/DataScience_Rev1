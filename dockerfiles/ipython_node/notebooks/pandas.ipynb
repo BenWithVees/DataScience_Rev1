{
 "metadata": {
  "name": ""
 },
 "nbformat": 3,
 "nbformat_minor": 0,
 "worksheets": [
  {
   "cells": [
    {
     "cell_type": "code",
     "collapsed": false,
     "input": [
      "from pandas import DataFrame, Series\n",
      "#or from pandas import *\n",
      "import pandas as pd\n",
      "import numpy as np"
     ],
     "language": "python",
     "metadata": {},
     "outputs": [],
     "prompt_number": 1
    },
    {
     "cell_type": "code",
     "collapsed": false,
     "input": [
      "#concatenate some text files using OS commands \n",
      "!pwd"
     ],
     "language": "python",
     "metadata": {},
     "outputs": [
      {
       "output_type": "stream",
       "stream": "stdout",
       "text": [
        "/Users/marklaney/Desktop/python classification/ipython/notebooks\r\n"
       ]
      }
     ],
     "prompt_number": 2
    },
    {
     "cell_type": "code",
     "collapsed": false,
     "input": [
      "!ls"
     ],
     "language": "python",
     "metadata": {},
     "outputs": [
      {
       "output_type": "stream",
       "stream": "stdout",
       "text": [
        "\u001b[34mbnames\u001b[m\u001b[m                    names.csv                 run clustering docs.ipynb\r\n",
        "doc clustering.ipynb      namesfile                 script.py\r\n",
        "doc clustering2.ipynb     \u001b[34mold\u001b[m\u001b[m                       testing ipython.ipynb\r\n",
        "kmeans.ipynb              pandas.ipynb              txt2csv.ipynb\r\n",
        "load Boston housing.py    plot kmeans digits.ipynb\r\n",
        "\u001b[34mnames\u001b[m\u001b[m                     plot_kmeans_digits.py\r\n"
       ]
      }
     ],
     "prompt_number": 3
    },
    {
     "cell_type": "code",
     "collapsed": false,
     "input": [
      "!ls bnames"
     ],
     "language": "python",
     "metadata": {},
     "outputs": [
      {
       "output_type": "stream",
       "stream": "stdout",
       "text": [
        "names.csv   \u001b[31myob1880.txt\u001b[m\u001b[m \u001b[31myob1881.txt\u001b[m\u001b[m \u001b[31myob1882.txt\u001b[m\u001b[m \u001b[31myob1883.txt\u001b[m\u001b[m\r\n"
       ]
      }
     ],
     "prompt_number": 4
    },
    {
     "cell_type": "code",
     "collapsed": false,
     "input": [
      "!cat bnames/*.txt > bnames/names.csv"
     ],
     "language": "python",
     "metadata": {},
     "outputs": [],
     "prompt_number": 5
    },
    {
     "cell_type": "code",
     "collapsed": false,
     "input": [
      "#example reading a file.  r+ means mode is read and write\n",
      "openedFile = open('bnames/names.csv','r+')\n",
      "openedFile"
     ],
     "language": "python",
     "metadata": {},
     "outputs": [
      {
       "metadata": {},
       "output_type": "pyout",
       "prompt_number": 6,
       "text": [
        "<open file 'bnames/names.csv', mode 'r+' at 0x10e61c5d0>"
       ]
      }
     ],
     "prompt_number": 6
    },
    {
     "cell_type": "code",
     "collapsed": false,
     "input": [
      "print (openedFile)"
     ],
     "language": "python",
     "metadata": {},
     "outputs": [
      {
       "output_type": "stream",
       "stream": "stdout",
       "text": [
        "<open file 'bnames/names.csv', mode 'r+' at 0x10e61c5d0>\n"
       ]
      }
     ],
     "prompt_number": 7
    },
    {
     "cell_type": "code",
     "collapsed": false,
     "input": [
      "openedFile.read()"
     ],
     "language": "python",
     "metadata": {},
     "outputs": [
      {
       "metadata": {},
       "output_type": "pyout",
       "prompt_number": 8,
       "text": [
        "'Mary,F,7065\\r\\nAnna,F,2604\\r\\nEmma,F,2003\\r\\nElizabeth,F,1939\\r\\nMinnie,F,1746\\r\\nMargaret,F,1578\\r\\nIda,F,1472\\r\\nAlice,F,1414\\r\\nBertha,F,1320\\r\\nSarah,F,1288\\r\\nAnnie,F,1258\\r\\nClara,F,1226\\r\\nElla,F,1156\\r\\nFlorence,F,1063\\r\\nCora,F,1045\\r\\nMartha,F,1040\\r\\nLaura,F,1012\\r\\nNellie,F,995\\r\\nGrace,F,982\\r\\nCarrie,F,949\\r\\nMaude,F,858\\r\\nMabel,F,808\\r\\nBessie,F,796\\r\\nJennie,F,793\\r\\nGertrude,F,787\\r\\nJulia,F,783\\r\\nHattie,F,769\\r\\nEdith,F,768\\r\\nMattie,F,704\\r\\nRose,F,700\\r\\nCatherine,F,688\\r\\nLillian,F,672\\r\\nAda,F,652\\r\\nLillie,F,647\\r\\nHelen,F,636\\r\\nJessie,F,635\\r\\nLouise,F,635\\r\\nEthel,F,633\\r\\nLula,F,621\\r\\nMyrtle,F,615\\r\\nEva,F,614\\r\\nFrances,F,605\\r\\nLena,F,603\\r\\nLucy,F,590\\r\\nEdna,F,588\\r\\nMaggie,F,582\\r\\nPearl,F,569\\r\\nDaisy,F,564\\r\\nFannie,F,560\\r\\nJosephine,F,544\\r\\nDora,F,524\\r\\nRosa,F,507\\r\\nKatherine,F,502\\r\\nAgnes,F,473\\r\\nMarie,F,471\\r\\nNora,F,471\\r\\nMay,F,462\\r\\nMamie,F,436\\r\\nBlanche,F,427\\r\\nStella,F,414\\r\\nEllen,F,411\\r\\nNancy,F,411\\r\\nEffie,F,406\\r\\nSallie,F,404\\r\\nNettie,F,403\\r\\nDella,F,391\\r\\nLizzie,F,388\\r\\nFlora,F,365\\r\\nSusie,F,361\\r\\nMaud,F,345\\r\\nMae,F,344\\r\\nEtta,F,323\\r\\nHarriet,F,319\\r\\nSadie,F,317\\r\\nCaroline,F,306\\r\\nKatie,F,303\\r\\nLydia,F,302\\r\\nElsie,F,301\\r\\nKate,F,299\\r\\nSusan,F,286\\r\\nMollie,F,283\\r\\nAlma,F,277\\r\\nAddie,F,274\\r\\nGeorgia,F,259\\r\\nEliza,F,252\\r\\nLulu,F,249\\r\\nNannie,F,248\\r\\nLottie,F,245\\r\\nAmanda,F,241\\r\\nBelle,F,238\\r\\nCharlotte,F,237\\r\\nRebecca,F,236\\r\\nRuth,F,234\\r\\nViola,F,229\\r\\nOlive,F,224\\r\\nAmelia,F,221\\r\\nHannah,F,221\\r\\nJane,F,215\\r\\nVirginia,F,213\\r\\nEmily,F,210\\r\\nMatilda,F,210\\r\\nIrene,F,204\\r\\nKathryn,F,204\\r\\nEsther,F,198\\r\\nWillie,F,192\\r\\nHenrietta,F,191\\r\\nOllie,F,183\\r\\nAmy,F,167\\r\\nRachel,F,166\\r\\nSara,F,165\\r\\nEstella,F,162\\r\\nTheresa,F,153\\r\\nAugusta,F,151\\r\\nOra,F,149\\r\\nPauline,F,144\\r\\nJosie,F,141\\r\\nLola,F,138\\r\\nSophia,F,138\\r\\nLeona,F,137\\r\\nAnne,F,136\\r\\nMildred,F,132\\r\\nAnn,F,131\\r\\nBeulah,F,131\\r\\nCallie,F,131\\r\\nLou,F,131\\r\\nDelia,F,129\\r\\nEleanor,F,129\\r\\nBarbara,F,127\\r\\nIva,F,127\\r\\nLouisa,F,126\\r\\nMaria,F,125\\r\\nMayme,F,124\\r\\nEvelyn,F,122\\r\\nEstelle,F,119\\r\\nNina,F,119\\r\\nBetty,F,117\\r\\nMarion,F,115\\r\\nBettie,F,113\\r\\nDorothy,F,112\\r\\nLuella,F,111\\r\\nInez,F,106\\r\\nLela,F,106\\r\\nRosie,F,106\\r\\nAllie,F,105\\r\\nMillie,F,105\\r\\nJanie,F,96\\r\\nCornelia,F,94\\r\\nVictoria,F,93\\r\\nRuby,F,92\\r\\nWinifred,F,92\\r\\nAlta,F,91\\r\\nCelia,F,90\\r\\nChristine,F,89\\r\\nBeatrice,F,87\\r\\nBirdie,F,85\\r\\nHarriett,F,83\\r\\nMable,F,83\\r\\nMyra,F,83\\r\\nSophie,F,83\\r\\nTillie,F,83\\r\\nIsabel,F,81\\r\\nSylvia,F,81\\r\\nCarolyn,F,80\\r\\nIsabelle,F,80\\r\\nLeila,F,80\\r\\nSally,F,80\\r\\nIna,F,79\\r\\nEssie,F,78\\r\\nBertie,F,77\\r\\nNell,F,77\\r\\nAlberta,F,76\\r\\nKatharine,F,76\\r\\nLora,F,74\\r\\nRena,F,74\\r\\nMina,F,73\\r\\nRhoda,F,73\\r\\nMathilda,F,72\\r\\nAbbie,F,71\\r\\nEula,F,70\\r\\nDollie,F,69\\r\\nHettie,F,69\\r\\nEunice,F,67\\r\\nFanny,F,67\\r\\nOla,F,67\\r\\nLenora,F,66\\r\\nAdelaide,F,65\\r\\nChristina,F,65\\r\\nLelia,F,65\\r\\nNelle,F,65\\r\\nSue,F,65\\r\\nJohanna,F,64\\r\\nLilly,F,64\\r\\nLucinda,F,63\\r\\nMinerva,F,63\\r\\nLettie,F,62\\r\\nRoxie,F,62\\r\\nCynthia,F,61\\r\\nHelena,F,60\\r\\nHilda,F,60\\r\\nHulda,F,60\\r\\nBernice,F,59\\r\\nGenevieve,F,59\\r\\nJean,F,59\\r\\nCordelia,F,58\\r\\nMarian,F,56\\r\\nFrancis,F,55\\r\\nJeanette,F,55\\r\\nAdeline,F,54\\r\\nGussie,F,54\\r\\nLeah,F,54\\r\\nLois,F,53\\r\\nLura,F,53\\r\\nMittie,F,53\\r\\nHallie,F,51\\r\\nIsabella,F,50\\r\\nOlga,F,50\\r\\nPhoebe,F,50\\r\\nTeresa,F,50\\r\\nHester,F,49\\r\\nLida,F,49\\r\\nLina,F,49\\r\\nWinnie,F,49\\r\\nClaudia,F,48\\r\\nMarguerite,F,48\\r\\nVera,F,48\\r\\nCecelia,F,47\\r\\nBess,F,46\\r\\nEmilie,F,46\\r\\nJohn,F,46\\r\\nRosetta,F,46\\r\\nVerna,F,46\\r\\nMyrtie,F,45\\r\\nCecilia,F,44\\r\\nElva,F,44\\r\\nOlivia,F,44\\r\\nOphelia,F,44\\r\\nGeorgie,F,43\\r\\nElnora,F,42\\r\\nViolet,F,42\\r\\nAdele,F,41\\r\\nLily,F,41\\r\\nLinnie,F,41\\r\\nLoretta,F,41\\r\\nMadge,F,41\\r\\nPolly,F,41\\r\\nVirgie,F,41\\r\\nEugenia,F,40\\r\\nLucile,F,40\\r\\nLucille,F,40\\r\\nMabelle,F,39\\r\\nRosalie,F,39\\r\\nKittie,F,38\\r\\nMeta,F,37\\r\\nAngie,F,36\\r\\nDessie,F,36\\r\\nGeorgiana,F,36\\r\\nLila,F,36\\r\\nRegina,F,36\\r\\nSelma,F,36\\r\\nWilhelmina,F,36\\r\\nBridget,F,35\\r\\nLilla,F,35\\r\\nMalinda,F,35\\r\\nVina,F,35\\r\\nFreda,F,34\\r\\nGertie,F,34\\r\\nJeannette,F,34\\r\\nLouella,F,34\\r\\nMandy,F,34\\r\\nRoberta,F,34\\r\\nCassie,F,33\\r\\nCorinne,F,33\\r\\nIvy,F,33\\r\\nMelissa,F,33\\r\\nLyda,F,32\\r\\nNaomi,F,32\\r\\nNorma,F,32\\r\\nBell,F,31\\r\\nMargie,F,31\\r\\nNona,F,31\\r\\nZella,F,31\\r\\nDovie,F,30\\r\\nElvira,F,30\\r\\nErma,F,30\\r\\nIrma,F,30\\r\\nLeota,F,30\\r\\nWilliam,F,30\\r\\nArtie,F,29\\r\\nBlanch,F,29\\r\\nCharity,F,29\\r\\nLorena,F,29\\r\\nLucretia,F,29\\r\\nOrpha,F,29\\r\\nAlvina,F,28\\r\\nAnnette,F,28\\r\\nCatharine,F,28\\r\\nElma,F,28\\r\\nGeneva,F,28\\r\\nJanet,F,28\\r\\nLee,F,28\\r\\nLeora,F,28\\r\\nLona,F,28\\r\\nMiriam,F,28\\r\\nZora,F,28\\r\\nLinda,F,27\\r\\nOctavia,F,27\\r\\nSudie,F,27\\r\\nZula,F,27\\r\\nAdella,F,26\\r\\nAlpha,F,26\\r\\nFrieda,F,26\\r\\nGeorge,F,26\\r\\nJoanna,F,26\\r\\nLeonora,F,26\\r\\nPriscilla,F,26\\r\\nTennie,F,26\\r\\nAngeline,F,25\\r\\nDocia,F,25\\r\\nEttie,F,25\\r\\nFlossie,F,25\\r\\nHanna,F,25\\r\\nLetha,F,25\\r\\nMinta,F,25\\r\\nRetta,F,25\\r\\nRosella,F,25\\r\\nAdah,F,24\\r\\nBerta,F,24\\r\\nElisabeth,F,24\\r\\nElise,F,24\\r\\nGoldie,F,24\\r\\nLeola,F,24\\r\\nMargret,F,24\\r\\nAdaline,F,23\\r\\nFloy,F,23\\r\\nIdella,F,23\\r\\nJuanita,F,23\\r\\nLenna,F,23\\r\\nLucie,F,23\\r\\nMissouri,F,23\\r\\nNola,F,23\\r\\nZoe,F,23\\r\\nEda,F,22\\r\\nIsabell,F,22\\r\\nJames,F,22\\r\\nJulie,F,22\\r\\nLetitia,F,22\\r\\nMadeline,F,22\\r\\nMalissa,F,22\\r\\nMariah,F,22\\r\\nPattie,F,22\\r\\nVivian,F,22\\r\\nAlmeda,F,21\\r\\nAurelia,F,21\\r\\nClaire,F,21\\r\\nDolly,F,21\\r\\nHazel,F,21\\r\\nJannie,F,21\\r\\nKathleen,F,21\\r\\nKathrine,F,21\\r\\nLavinia,F,21\\r\\nMarietta,F,21\\r\\nMelvina,F,21\\r\\nOna,F,21\\r\\nPinkie,F,21\\r\\nSamantha,F,21\\r\\nSusanna,F,21\\r\\nChloe,F,20\\r\\nDonnie,F,20\\r\\nElsa,F,20\\r\\nGladys,F,20\\r\\nMatie,F,20\\r\\nPearle,F,20\\r\\nVesta,F,20\\r\\nVinnie,F,20\\r\\nAntoinette,F,19\\r\\nClementine,F,19\\r\\nEdythe,F,19\\r\\nHarriette,F,19\\r\\nLibbie,F,19\\r\\nLilian,F,19\\r\\nLue,F,19\\r\\nLutie,F,19\\r\\nMagdalena,F,19\\r\\nMeda,F,19\\r\\nRita,F,19\\r\\nTena,F,19\\r\\nZelma,F,19\\r\\nAdelia,F,18\\r\\nAnnetta,F,18\\r\\nAntonia,F,18\\r\\nDona,F,18\\r\\nElizebeth,F,18\\r\\nGeorgianna,F,18\\r\\nGracie,F,18\\r\\nIona,F,18\\r\\nLessie,F,18\\r\\nLeta,F,18\\r\\nLiza,F,18\\r\\nMertie,F,18\\r\\nMolly,F,18\\r\\nNeva,F,18\\r\\nOma,F,18\\r\\nAlida,F,17\\r\\nAlva,F,17\\r\\nCecile,F,17\\r\\nCleo,F,17\\r\\nDonna,F,17\\r\\nEllie,F,17\\r\\nErnestine,F,17\\r\\nEvie,F,17\\r\\nFrankie,F,17\\r\\nHelene,F,17\\r\\nMinna,F,17\\r\\nMyrta,F,17\\r\\nPrudence,F,17\\r\\nQueen,F,17\\r\\nRilla,F,17\\r\\nSavannah,F,17\\r\\nTessie,F,17\\r\\nTina,F,17\\r\\nAgatha,F,16\\r\\nAmerica,F,16\\r\\nAnita,F,16\\r\\nArminta,F,16\\r\\nDorothea,F,16\\r\\nIra,F,16\\r\\nLuvenia,F,16\\r\\nMarjorie,F,16\\r\\nMaybelle,F,16\\r\\nMellie,F,16\\r\\nNan,F,16\\r\\nPearlie,F,16\\r\\nSidney,F,16\\r\\nVelma,F,16\\r\\nClare,F,15\\r\\nConstance,F,15\\r\\nDixie,F,15\\r\\nIla,F,15\\r\\nIola,F,15\\r\\nJimmie,F,15\\r\\nLouvenia,F,15\\r\\nLucia,F,15\\r\\nLudie,F,15\\r\\nLuna,F,15\\r\\nMetta,F,15\\r\\nPatsy,F,15\\r\\nPhebe,F,15\\r\\nSophronia,F,15\\r\\nAdda,F,14\\r\\nAvis,F,14\\r\\nBetsy,F,14\\r\\nBonnie,F,14\\r\\nCecil,F,14\\r\\nCordie,F,14\\r\\nEmmaline,F,14\\r\\nEthelyn,F,14\\r\\nHortense,F,14\\r\\nJune,F,14\\r\\nLouie,F,14\\r\\nLovie,F,14\\r\\nMarcella,F,14\\r\\nMelinda,F,14\\r\\nMona,F,14\\r\\nOdessa,F,14\\r\\nVeronica,F,14\\r\\nAimee,F,13\\r\\nAnnabel,F,13\\r\\nAva,F,13\\r\\nBella,F,13\\r\\nCarolina,F,13\\r\\nCathrine,F,13\\r\\nChristena,F,13\\r\\nClyde,F,13\\r\\nDena,F,13\\r\\nDolores,F,13\\r\\nEleanore,F,13\\r\\nElmira,F,13\\r\\nFay,F,13\\r\\nFrank,F,13\\r\\nJenny,F,13\\r\\nKizzie,F,13\\r\\nLonnie,F,13\\r\\nLoula,F,13\\r\\nMagdalene,F,13\\r\\nMettie,F,13\\r\\nMintie,F,13\\r\\nPeggy,F,13\\r\\nReba,F,13\\r\\nSerena,F,13\\r\\nVida,F,13\\r\\nZada,F,13\\r\\nAbigail,F,12\\r\\nCelestine,F,12\\r\\nCelina,F,12\\r\\nClaudie,F,12\\r\\nClemmie,F,12\\r\\nConnie,F,12\\r\\nDaisie,F,12\\r\\nDeborah,F,12\\r\\nDessa,F,12\\r\\nEaster,F,12\\r\\nEddie,F,12\\r\\nEmelia,F,12\\r\\nEmmie,F,12\\r\\nImogene,F,12\\r\\nIndia,F,12\\r\\nJeanne,F,12\\r\\nJoan,F,12\\r\\nLenore,F,12\\r\\nLiddie,F,12\\r\\nLotta,F,12\\r\\nMame,F,12\\r\\nNevada,F,12\\r\\nRachael,F,12\\r\\nSina,F,12\\r\\nWilla,F,12\\r\\nAline,F,11\\r\\nBeryl,F,11\\r\\nCharles,F,11\\r\\nDaisey,F,11\\r\\nDorcas,F,11\\r\\nEdmonia,F,11\\r\\nEffa,F,11\\r\\nEldora,F,11\\r\\nEloise,F,11\\r\\nEmmer,F,11\\r\\nEra,F,11\\r\\nGena,F,11\\r\\nHenry,F,11\\r\\nIris,F,11\\r\\nIzora,F,11\\r\\nLennie,F,11\\r\\nLissie,F,11\\r\\nMallie,F,11\\r\\nMalvina,F,11\\r\\nMathilde,F,11\\r\\nMazie,F,11\\r\\nQueenie,F,11\\r\\nRobert,F,11\\r\\nRosina,F,11\\r\\nSalome,F,11\\r\\nTheodora,F,11\\r\\nTherese,F,11\\r\\nVena,F,11\\r\\nWanda,F,11\\r\\nWilda,F,11\\r\\nAltha,F,10\\r\\nAnastasia,F,10\\r\\nBesse,F,10\\r\\nBird,F,10\\r\\nBirtie,F,10\\r\\nClarissa,F,10\\r\\nClaude,F,10\\r\\nDelilah,F,10\\r\\nDiana,F,10\\r\\nEmelie,F,10\\r\\nErna,F,10\\r\\nFern,F,10\\r\\nFlorida,F,10\\r\\nFrona,F,10\\r\\nHilma,F,10\\r\\nJoseph,F,10\\r\\nJuliet,F,10\\r\\nLeonie,F,10\\r\\nLugenia,F,10\\r\\nMammie,F,10\\r\\nManda,F,10\\r\\nManerva,F,10\\r\\nManie,F,10\\r\\nNella,F,10\\r\\nPaulina,F,10\\r\\nPhilomena,F,10\\r\\nRae,F,10\\r\\nSelina,F,10\\r\\nSena,F,10\\r\\nTheodosia,F,10\\r\\nTommie,F,10\\r\\nUna,F,10\\r\\nVernie,F,10\\r\\nAdela,F,9\\r\\nAlthea,F,9\\r\\nAmalia,F,9\\r\\nAmber,F,9\\r\\nAngelina,F,9\\r\\nAnnabelle,F,9\\r\\nAnner,F,9\\r\\nArie,F,9\\r\\nClarice,F,9\\r\\nCorda,F,9\\r\\nCorrie,F,9\\r\\nDell,F,9\\r\\nDellar,F,9\\r\\nDonie,F,9\\r\\nDoris,F,9\\r\\nElda,F,9\\r\\nElinor,F,9\\r\\nEmeline,F,9\\r\\nEmilia,F,9\\r\\nEsta,F,9\\r\\nEstell,F,9\\r\\nEtha,F,9\\r\\nFred,F,9\\r\\nHope,F,9\\r\\nIndiana,F,9\\r\\nIone,F,9\\r\\nJettie,F,9\\r\\nJohnnie,F,9\\r\\nJosiephine,F,9\\r\\nKitty,F,9\\r\\nLavina,F,9\\r\\nLeda,F,9\\r\\nLetta,F,9\\r\\nMahala,F,9\\r\\nMarcia,F,9\\r\\nMargarette,F,9\\r\\nMaudie,F,9\\r\\nMaye,F,9\\r\\nNorah,F,9\\r\\nOda,F,9\\r\\nPatty,F,9\\r\\nPaula,F,9\\r\\nPermelia,F,9\\r\\nRosalia,F,9\\r\\nRoxanna,F,9\\r\\nSula,F,9\\r\\nVada,F,9\\r\\nWinnifred,F,9\\r\\nAdline,F,8\\r\\nAlmira,F,8\\r\\nAlvena,F,8\\r\\nArizona,F,8\\r\\nBecky,F,8\\r\\nBennie,F,8\\r\\nBernadette,F,8\\r\\nCamille,F,8\\r\\nCordia,F,8\\r\\nCorine,F,8\\r\\nDicie,F,8\\r\\nDove,F,8\\r\\nDrusilla,F,8\\r\\nElena,F,8\\r\\nElenora,F,8\\r\\nElmina,F,8\\r\\nEthyl,F,8\\r\\nEvalyn,F,8\\r\\nEvelina,F,8\\r\\nFaye,F,8\\r\\nHuldah,F,8\\r\\nIdell,F,8\\r\\nInga,F,8\\r\\nIrena,F,8\\r\\nJewell,F,8\\r\\nKattie,F,8\\r\\nLavenia,F,8\\r\\nLeslie,F,8\\r\\nLovina,F,8\\r\\nLulie,F,8\\r\\nMagnolia,F,8\\r\\nMargeret,F,8\\r\\nMargery,F,8\\r\\nMedia,F,8\\r\\nMillicent,F,8\\r\\nNena,F,8\\r\\nOcie,F,8\\r\\nOrilla,F,8\\r\\nOsie,F,8\\r\\nPansy,F,8\\r\\nRay,F,8\\r\\nRosia,F,8\\r\\nRowena,F,8\\r\\nShirley,F,8\\r\\nTabitha,F,8\\r\\nThomas,F,8\\r\\nVerdie,F,8\\r\\nWalter,F,8\\r\\nZetta,F,8\\r\\nZoa,F,8\\r\\nZona,F,8\\r\\nAlbertina,F,7\\r\\nAlbina,F,7\\r\\nAlyce,F,7\\r\\nAmie,F,7\\r\\nAngela,F,7\\r\\nAnnis,F,7\\r\\nCarol,F,7\\r\\nCarra,F,7\\r\\nClarence,F,7\\r\\nClarinda,F,7\\r\\nDelphia,F,7\\r\\nDillie,F,7\\r\\nDoshie,F,7\\r\\nDrucilla,F,7\\r\\nEtna,F,7\\r\\nEugenie,F,7\\r\\nEulalia,F,7\\r\\nEve,F,7\\r\\nFelicia,F,7\\r\\nFlorance,F,7\\r\\nFronie,F,7\\r\\nGeraldine,F,7\\r\\nGina,F,7\\r\\nGlenna,F,7\\r\\nGrayce,F,7\\r\\nHedwig,F,7\\r\\nJessica,F,7\\r\\nJossie,F,7\\r\\nKatheryn,F,7\\r\\nKaty,F,7\\r\\nLea,F,7\\r\\nLeanna,F,7\\r\\nLeitha,F,7\\r\\nLeone,F,7\\r\\nLidie,F,7\\r\\nLoma,F,7\\r\\nLular,F,7\\r\\nMagdalen,F,7\\r\\nMaymie,F,7\\r\\nMinervia,F,7\\r\\nMuriel,F,7\\r\\nNeppie,F,7\\r\\nOlie,F,7\\r\\nOnie,F,7\\r\\nOsa,F,7\\r\\nOtelia,F,7\\r\\nParalee,F,7\\r\\nPatience,F,7\\r\\nRella,F,7\\r\\nRillie,F,7\\r\\nRosanna,F,7\\r\\nTheo,F,7\\r\\nTilda,F,7\\r\\nTishie,F,7\\r\\nTressa,F,7\\r\\nViva,F,7\\r\\nYetta,F,7\\r\\nZena,F,7\\r\\nZola,F,7\\r\\nAbby,F,6\\r\\nAileen,F,6\\r\\nAlba,F,6\\r\\nAlda,F,6\\r\\nAlla,F,6\\r\\nAlverta,F,6\\r\\nAra,F,6\\r\\nArdelia,F,6\\r\\nArdella,F,6\\r\\nArrie,F,6\\r\\nArvilla,F,6\\r\\nAugustine,F,6\\r\\nAurora,F,6\\r\\nBama,F,6\\r\\nBena,F,6\\r\\nByrd,F,6\\r\\nCalla,F,6\\r\\nCamilla,F,6\\r\\nCarey,F,6\\r\\nCarlotta,F,6\\r\\nCelestia,F,6\\r\\nCherry,F,6\\r\\nCinda,F,6\\r\\nClassie,F,6\\r\\nClaudine,F,6\\r\\nClemie,F,6\\r\\nClifford,F,6\\r\\nClyda,F,6\\r\\nCreola,F,6\\r\\nDebbie,F,6\\r\\nDee,F,6\\r\\nDinah,F,6\\r\\nDoshia,F,6\\r\\nEdnah,F,6\\r\\nEdyth,F,6\\r\\nEleanora,F,6\\r\\nElecta,F,6\\r\\nEola,F,6\\r\\nErie,F,6\\r\\nEudora,F,6\\r\\nEuphemia,F,6\\r\\nEvalena,F,6\\r\\nEvaline,F,6\\r\\nFaith,F,6\\r\\nFidelia,F,6\\r\\nFreddie,F,6\\r\\nGolda,F,6\\r\\nHarry,F,6\\r\\nHelma,F,6\\r\\nHermine,F,6\\r\\nHessie,F,6\\r\\nIvah,F,6\\r\\nJanette,F,6\\r\\nJennette,F,6\\r\\nJoella,F,6\\r\\nKathryne,F,6\\r\\nLacy,F,6\\r\\nLanie,F,6\\r\\nLauretta,F,6\\r\\nLeana,F,6\\r\\nLeatha,F,6\\r\\nLeo,F,6\\r\\nLiller,F,6\\r\\nLillis,F,6\\r\\nLouetta,F,6\\r\\nMadie,F,6\\r\\nMai,F,6\\r\\nMartina,F,6\\r\\nMaryann,F,6\\r\\nMelva,F,6\\r\\nMena,F,6\\r\\nMercedes,F,6\\r\\nMerle,F,6\\r\\nMima,F,6\\r\\nMinda,F,6\\r\\nMonica,F,6\\r\\nNealie,F,6\\r\\nNetta,F,6\\r\\nNolia,F,6\\r\\nNonie,F,6\\r\\nOdelia,F,6\\r\\nOttilie,F,6\\r\\nPhyllis,F,6\\r\\nRobbie,F,6\\r\\nSabina,F,6\\r\\nSada,F,6\\r\\nSammie,F,6\\r\\nSuzanne,F,6\\r\\nSybilla,F,6\\r\\nThea,F,6\\r\\nTressie,F,6\\r\\nVallie,F,6\\r\\nVenie,F,6\\r\\nViney,F,6\\r\\nWilhelmine,F,6\\r\\nWinona,F,6\\r\\nZelda,F,6\\r\\nZilpha,F,6\\r\\nAdelle,F,5\\r\\nAdina,F,5\\r\\nAdrienne,F,5\\r\\nAlbertine,F,5\\r\\nAlys,F,5\\r\\nAna,F,5\\r\\nAraminta,F,5\\r\\nArthur,F,5\\r\\nBirtha,F,5\\r\\nBulah,F,5\\r\\nCaddie,F,5\\r\\nCelie,F,5\\r\\nCharlotta,F,5\\r\\nClair,F,5\\r\\nConcepcion,F,5\\r\\nCordella,F,5\\r\\nCorrine,F,5\\r\\nDelila,F,5\\r\\nDelphine,F,5\\r\\nDosha,F,5\\r\\nEdgar,F,5\\r\\nElaine,F,5\\r\\nElisa,F,5\\r\\nEllar,F,5\\r\\nElmire,F,5\\r\\nElvina,F,5\\r\\nEna,F,5\\r\\nEstie,F,5\\r\\nEtter,F,5\\r\\nFronnie,F,5\\r\\nGenie,F,5\\r\\nGeorgina,F,5\\r\\nGlenn,F,5\\r\\nGracia,F,5\\r\\nGuadalupe,F,5\\r\\nGwendolyn,F,5\\r\\nHassie,F,5\\r\\nHonora,F,5\\r\\nIcy,F,5\\r\\nIsa,F,5\\r\\nIsadora,F,5\\r\\nJesse,F,5\\r\\nJewel,F,5\\r\\nJoe,F,5\\r\\nJohannah,F,5\\r\\nJuana,F,5\\r\\nJudith,F,5\\r\\nJudy,F,5\\r\\nJunie,F,5\\r\\nLavonia,F,5\\r\\nLella,F,5\\r\\nLemma,F,5\\r\\nLetty,F,5\\r\\nLinna,F,5\\r\\nLittie,F,5\\r\\nLollie,F,5\\r\\nLorene,F,5\\r\\nLouis,F,5\\r\\nLove,F,5\\r\\nLovisa,F,5\\r\\nLucina,F,5\\r\\nLynn,F,5\\r\\nMadora,F,5\\r\\nMahalia,F,5\\r\\nManervia,F,5\\r\\nManuela,F,5\\r\\nMargarett,F,5\\r\\nMargaretta,F,5\\r\\nMargarita,F,5\\r\\nMarilla,F,5\\r\\nMignon,F,5\\r\\nMozella,F,5\\r\\nNatalie,F,5\\r\\nNelia,F,5\\r\\nNolie,F,5\\r\\nOmie,F,5\\r\\nOpal,F,5\\r\\nOssie,F,5\\r\\nOttie,F,5\\r\\nOttilia,F,5\\r\\nParthenia,F,5\\r\\nPenelope,F,5\\r\\nPinkey,F,5\\r\\nPollie,F,5\\r\\nRennie,F,5\\r\\nReta,F,5\\r\\nRoena,F,5\\r\\nRosalee,F,5\\r\\nRoseanna,F,5\\r\\nRuthie,F,5\\r\\nSabra,F,5\\r\\nSannie,F,5\\r\\nSelena,F,5\\r\\nSibyl,F,5\\r\\nTella,F,5\\r\\nTempie,F,5\\r\\nTennessee,F,5\\r\\nTeressa,F,5\\r\\nTexas,F,5\\r\\nTheda,F,5\\r\\nThelma,F,5\\r\\nThursa,F,5\\r\\nUla,F,5\\r\\nVannie,F,5\\r\\nVerona,F,5\\r\\nVertie,F,5\\r\\nWilma,F,5\\r\\nJohn,M,9655\\r\\nWilliam,M,9532\\r\\nJames,M,5927\\r\\nCharles,M,5348\\r\\nGeorge,M,5126\\r\\nFrank,M,3242\\r\\nJoseph,M,2632\\r\\nThomas,M,2534\\r\\nHenry,M,2444\\r\\nRobert,M,2415\\r\\nEdward,M,2364\\r\\nHarry,M,2152\\r\\nWalter,M,1755\\r\\nArthur,M,1599\\r\\nFred,M,1569\\r\\nAlbert,M,1493\\r\\nSamuel,M,1024\\r\\nDavid,M,869\\r\\nLouis,M,828\\r\\nJoe,M,731\\r\\nCharlie,M,730\\r\\nClarence,M,730\\r\\nRichard,M,728\\r\\nAndrew,M,644\\r\\nDaniel,M,643\\r\\nErnest,M,615\\r\\nWill,M,588\\r\\nJesse,M,569\\r\\nOscar,M,544\\r\\nLewis,M,517\\r\\nPeter,M,496\\r\\nBenjamin,M,490\\r\\nFrederick,M,483\\r\\nWillie,M,476\\r\\nAlfred,M,469\\r\\nSam,M,457\\r\\nRoy,M,440\\r\\nHerbert,M,424\\r\\nJacob,M,404\\r\\nTom,M,399\\r\\nElmer,M,373\\r\\nCarl,M,372\\r\\nLee,M,361\\r\\nHoward,M,357\\r\\nMartin,M,357\\r\\nMichael,M,354\\r\\nBert,M,348\\r\\nHerman,M,347\\r\\nJim,M,345\\r\\nFrancis,M,344\\r\\nHarvey,M,344\\r\\nEarl,M,335\\r\\nEugene,M,328\\r\\nRalph,M,317\\r\\nEd,M,310\\r\\nClaude,M,309\\r\\nEdwin,M,309\\r\\nBen,M,305\\r\\nCharley,M,305\\r\\nPaul,M,301\\r\\nEdgar,M,283\\r\\nIsaac,M,274\\r\\nOtto,M,271\\r\\nLuther,M,260\\r\\nLawrence,M,257\\r\\nIra,M,249\\r\\nPatrick,M,248\\r\\nGuy,M,239\\r\\nOliver,M,234\\r\\nTheodore,M,232\\r\\nHugh,M,224\\r\\nClyde,M,221\\r\\nAlexander,M,211\\r\\nAugust,M,210\\r\\nFloyd,M,206\\r\\nHomer,M,205\\r\\nJack,M,204\\r\\nLeonard,M,200\\r\\nHorace,M,199\\r\\nMarion,M,189\\r\\nPhilip,M,186\\r\\nAllen,M,184\\r\\nArchie,M,183\\r\\nStephen,M,176\\r\\nChester,M,168\\r\\nWillis,M,166\\r\\nRaymond,M,165\\r\\nRufus,M,163\\r\\nWarren,M,158\\r\\nJessie,M,154\\r\\nMilton,M,149\\r\\nAlex,M,147\\r\\nLeo,M,147\\r\\nJulius,M,143\\r\\nRay,M,142\\r\\nSidney,M,142\\r\\nBernard,M,140\\r\\nDan,M,140\\r\\nJerry,M,136\\r\\nCalvin,M,134\\r\\nPerry,M,134\\r\\nDave,M,131\\r\\nAnthony,M,130\\r\\nEddie,M,129\\r\\nAmos,M,128\\r\\nDennis,M,128\\r\\nClifford,M,127\\r\\nLeroy,M,124\\r\\nWesley,M,123\\r\\nAlonzo,M,122\\r\\nGarfield,M,122\\r\\nFranklin,M,120\\r\\nEmil,M,119\\r\\nLeon,M,118\\r\\nNathan,M,114\\r\\nHarold,M,113\\r\\nMatthew,M,113\\r\\nLevi,M,112\\r\\nMoses,M,111\\r\\nEverett,M,110\\r\\nLester,M,109\\r\\nWinfield,M,108\\r\\nAdam,M,104\\r\\nLloyd,M,104\\r\\nMack,M,104\\r\\nFredrick,M,103\\r\\nJay,M,103\\r\\nJess,M,103\\r\\nMelvin,M,103\\r\\nNoah,M,103\\r\\nAaron,M,102\\r\\nAlvin,M,102\\r\\nNorman,M,102\\r\\nGilbert,M,101\\r\\nElijah,M,100\\r\\nVictor,M,100\\r\\nGus,M,99\\r\\nNelson,M,99\\r\\nJasper,M,98\\r\\nSilas,M,98\\r\\nJake,M,96\\r\\nChristopher,M,95\\r\\nMike,M,95\\r\\nPercy,M,94\\r\\nAdolph,M,93\\r\\nMaurice,M,93\\r\\nCornelius,M,92\\r\\nFelix,M,92\\r\\nReuben,M,92\\r\\nWallace,M,91\\r\\nClaud,M,90\\r\\nRoscoe,M,90\\r\\nSylvester,M,89\\r\\nEarnest,M,88\\r\\nHiram,M,88\\r\\nOtis,M,88\\r\\nSimon,M,88\\r\\nWillard,M,88\\r\\nIrvin,M,86\\r\\nMark,M,85\\r\\nJose,M,84\\r\\nWilbur,M,82\\r\\nAbraham,M,81\\r\\nVirgil,M,81\\r\\nClinton,M,79\\r\\nElbert,M,79\\r\\nLeslie,M,79\\r\\nMarshall,M,78\\r\\nOwen,M,78\\r\\nWiley,M,78\\r\\nAnton,M,77\\r\\nMorris,M,77\\r\\nManuel,M,75\\r\\nPhillip,M,75\\r\\nAugustus,M,74\\r\\nEmmett,M,74\\r\\nEli,M,73\\r\\nNicholas,M,73\\r\\nWilson,M,72\\r\\nAlva,M,70\\r\\nHarley,M,70\\r\\nNewton,M,70\\r\\nTimothy,M,70\\r\\nMarvin,M,69\\r\\nRoss,M,69\\r\\nCurtis,M,68\\r\\nEdmund,M,67\\r\\nJeff,M,66\\r\\nElias,M,65\\r\\nHarrison,M,65\\r\\nStanley,M,65\\r\\nColumbus,M,64\\r\\nLon,M,64\\r\\nOra,M,64\\r\\nOllie,M,63\\r\\nPearl,M,62\\r\\nRussell,M,62\\r\\nSolomon,M,62\\r\\nArch,M,61\\r\\nAsa,M,60\\r\\nClayton,M,60\\r\\nEnoch,M,60\\r\\nIrving,M,60\\r\\nMathew,M,60\\r\\nNathaniel,M,60\\r\\nScott,M,60\\r\\nHubert,M,59\\r\\nLemuel,M,59\\r\\nAndy,M,58\\r\\nEllis,M,58\\r\\nEmanuel,M,57\\r\\nJoshua,M,57\\r\\nMillard,M,56\\r\\nVernon,M,56\\r\\nWade,M,56\\r\\nCyrus,M,54\\r\\nMiles,M,54\\r\\nRudolph,M,54\\r\\nSherman,M,54\\r\\nAustin,M,53\\r\\nBill,M,53\\r\\nChas,M,53\\r\\nLonnie,M,53\\r\\nMonroe,M,53\\r\\nByron,M,52\\r\\nEdd,M,52\\r\\nEmery,M,52\\r\\nGrant,M,52\\r\\nJerome,M,52\\r\\nMax,M,52\\r\\nMose,M,52\\r\\nSteve,M,52\\r\\nGordon,M,51\\r\\nAbe,M,50\\r\\nPete,M,50\\r\\nChris,M,49\\r\\nClark,M,49\\r\\nGustave,M,49\\r\\nOrville,M,49\\r\\nLorenzo,M,48\\r\\nBruce,M,47\\r\\nMarcus,M,47\\r\\nPreston,M,47\\r\\nBob,M,46\\r\\nDock,M,46\\r\\nDonald,M,46\\r\\nJackson,M,46\\r\\nCecil,M,45\\r\\nBarney,M,44\\r\\nDelbert,M,44\\r\\nEdmond,M,44\\r\\nAnderson,M,43\\r\\nChristian,M,43\\r\\nGlenn,M,43\\r\\nJefferson,M,43\\r\\nLuke,M,43\\r\\nNeal,M,43\\r\\nBurt,M,42\\r\\nIke,M,42\\r\\nMyron,M,42\\r\\nTony,M,42\\r\\nConrad,M,41\\r\\nJoel,M,41\\r\\nMatt,M,41\\r\\nRiley,M,41\\r\\nVincent,M,41\\r\\nEmory,M,40\\r\\nIsaiah,M,40\\r\\nNick,M,40\\r\\nEzra,M,39\\r\\nGreen,M,39\\r\\nJuan,M,39\\r\\nClifton,M,38\\r\\nLucius,M,38\\r\\nPorter,M,38\\r\\nArnold,M,37\\r\\nBud,M,37\\r\\nJeremiah,M,37\\r\\nTaylor,M,37\\r\\nForrest,M,36\\r\\nRoland,M,36\\r\\nSpencer,M,35\\r\\nBurton,M,34\\r\\nDon,M,34\\r\\nEmmet,M,34\\r\\nGustav,M,33\\r\\nLouie,M,33\\r\\nMorgan,M,33\\r\\nNed,M,33\\r\\nVan,M,33\\r\\nAmbrose,M,32\\r\\nChauncey,M,32\\r\\nElisha,M,32\\r\\nFerdinand,M,32\\r\\nGeneral,M,32\\r\\nJulian,M,32\\r\\nKenneth,M,32\\r\\nMitchell,M,32\\r\\nAllie,M,31\\r\\nJosh,M,31\\r\\nJudson,M,31\\r\\nLyman,M,31\\r\\nNapoleon,M,31\\r\\nPedro,M,31\\r\\nBerry,M,30\\r\\nDewitt,M,30\\r\\nErvin,M,30\\r\\nForest,M,30\\r\\nLynn,M,30\\r\\nPink,M,30\\r\\nRuben,M,30\\r\\nSanford,M,30\\r\\nWard,M,30\\r\\nDouglas,M,29\\r\\nOle,M,29\\r\\nOmer,M,29\\r\\nUlysses,M,29\\r\\nWalker,M,29\\r\\nWilbert,M,29\\r\\nAdelbert,M,28\\r\\nBenjiman,M,28\\r\\nIvan,M,28\\r\\nJonas,M,28\\r\\nMajor,M,28\\r\\nAbner,M,27\\r\\nArchibald,M,27\\r\\nCaleb,M,27\\r\\nClint,M,27\\r\\nDudley,M,27\\r\\nGranville,M,27\\r\\nKing,M,27\\r\\nMary,M,27\\r\\nMerton,M,27\\r\\nAntonio,M,26\\r\\nBennie,M,26\\r\\nCarroll,M,26\\r\\nFreeman,M,26\\r\\nJosiah,M,26\\r\\nMilo,M,26\\r\\nRoyal,M,26\\r\\nDick,M,25\\r\\nEarle,M,25\\r\\nElza,M,25\\r\\nEmerson,M,25\\r\\nFletcher,M,25\\r\\nJudge,M,25\\r\\nLaurence,M,25\\r\\nNeil,M,25\\r\\nRoger,M,25\\r\\nSeth,M,25\\r\\nGlen,M,24\\r\\nHugo,M,24\\r\\nJimmie,M,24\\r\\nJohnnie,M,24\\r\\nWashington,M,24\\r\\nElwood,M,23\\r\\nGust,M,23\\r\\nHarmon,M,23\\r\\nJordan,M,23\\r\\nSimeon,M,23\\r\\nWayne,M,23\\r\\nWilber,M,23\\r\\nClem,M,22\\r\\nEvan,M,22\\r\\nFrederic,M,22\\r\\nIrwin,M,22\\r\\nJunius,M,22\\r\\nLafayette,M,22\\r\\nLoren,M,22\\r\\nMadison,M,22\\r\\nMason,M,22\\r\\nOrval,M,22\\r\\nAbram,M,21\\r\\nAubrey,M,21\\r\\nElliott,M,21\\r\\nHans,M,21\\r\\nKarl,M,21\\r\\nMinor,M,21\\r\\nWash,M,21\\r\\nWilfred,M,21\\r\\nAllan,M,20\\r\\nAlphonse,M,20\\r\\nDallas,M,20\\r\\nDee,M,20\\r\\nIsiah,M,20\\r\\nJason,M,20\\r\\nJohnny,M,20\\r\\nLawson,M,20\\r\\nLew,M,20\\r\\nMicheal,M,20\\r\\nOrin,M,20\\r\\nAddison,M,19\\r\\nCal,M,19\\r\\nErastus,M,19\\r\\nFrancisco,M,19\\r\\nHardy,M,19\\r\\nLucien,M,19\\r\\nRandolph,M,19\\r\\nStewart,M,19\\r\\nVern,M,19\\r\\nWilmer,M,19\\r\\nZack,M,19\\r\\nAdrian,M,18\\r\\nAlvah,M,18\\r\\nBertram,M,18\\r\\nClay,M,18\\r\\nEphraim,M,18\\r\\nFritz,M,18\\r\\nGiles,M,18\\r\\nGrover,M,18\\r\\nHarris,M,18\\r\\nIsom,M,18\\r\\nJesus,M,18\\r\\nJohnie,M,18\\r\\nJonathan,M,18\\r\\nLucian,M,18\\r\\nMalcolm,M,18\\r\\nMerritt,M,18\\r\\nOtho,M,18\\r\\nPerley,M,18\\r\\nRolla,M,18\\r\\nSandy,M,18\\r\\nTomas,M,18\\r\\nWilford,M,18\\r\\nAdolphus,M,17\\r\\nAngus,M,17\\r\\nArther,M,17\\r\\nCarlos,M,17\\r\\nCary,M,17\\r\\nCassius,M,17\\r\\nDavis,M,17\\r\\nHamilton,M,17\\r\\nHarve,M,17\\r\\nIsrael,M,17\\r\\nLeander,M,17\\r\\nMelville,M,17\\r\\nMerle,M,17\\r\\nMurray,M,17\\r\\nPleasant,M,17\\r\\nSterling,M,17\\r\\nSteven,M,17\\r\\nAxel,M,16\\r\\nBoyd,M,16\\r\\nBryant,M,16\\r\\nClement,M,16\\r\\nErwin,M,16\\r\\nEzekiel,M,16\\r\\nFoster,M,16\\r\\nFrances,M,16\\r\\nGeo,M,16\\r\\nHouston,M,16\\r\\nIssac,M,16\\r\\nJules,M,16\\r\\nLarkin,M,16\\r\\nMat,M,16\\r\\nMorton,M,16\\r\\nOrlando,M,16\\r\\nPierce,M,16\\r\\nPrince,M,16\\r\\nRollie,M,16\\r\\nRollin,M,16\\r\\nSim,M,16\\r\\nStuart,M,16\\r\\nWilburn,M,16\\r\\nBennett,M,15\\r\\nCasper,M,15\\r\\nChrist,M,15\\r\\nDell,M,15\\r\\nEgbert,M,15\\r\\nElmo,M,15\\r\\nFay,M,15\\r\\nGabriel,M,15\\r\\nHector,M,15\\r\\nHoratio,M,15\\r\\nLige,M,15\\r\\nSaul,M,15\\r\\nSmith,M,15\\r\\nSquire,M,15\\r\\nTobe,M,15\\r\\nTommie,M,15\\r\\nWyatt,M,15\\r\\nAlford,M,14\\r\\nAlma,M,14\\r\\nAlton,M,14\\r\\nAndres,M,14\\r\\nBurl,M,14\\r\\nCicero,M,14\\r\\nDean,M,14\\r\\nDorsey,M,14\\r\\nEnos,M,14\\r\\nHowell,M,14\\r\\nLou,M,14\\r\\nLoyd,M,14\\r\\nMahlon,M,14\\r\\nNat,M,14\\r\\nOmar,M,14\\r\\nOran,M,14\\r\\nParker,M,14\\r\\nRaleigh,M,14\\r\\nReginald,M,14\\r\\nRubin,M,14\\r\\nSeymour,M,14\\r\\nWm,M,14\\r\\nYoung,M,14\\r\\nBenjamine,M,13\\r\\nCarey,M,13\\r\\nCarlton,M,13\\r\\nEldridge,M,13\\r\\nElzie,M,13\\r\\nGarrett,M,13\\r\\nIsham,M,13\\r\\nJohnson,M,13\\r\\nLarry,M,13\\r\\nLogan,M,13\\r\\nMerrill,M,13\\r\\nMont,M,13\\r\\nOren,M,13\\r\\nPierre,M,13\\r\\nRex,M,13\\r\\nRodney,M,13\\r\\nTed,M,13\\r\\nWebster,M,13\\r\\nWest,M,13\\r\\nWheeler,M,13\\r\\nWillam,M,13\\r\\nAl,M,12\\r\\nAloysius,M,12\\r\\nAlvie,M,12\\r\\nAnna,M,12\\r\\nArt,M,12\\r\\nAugustine,M,12\\r\\nBailey,M,12\\r\\nBenjaman,M,12\\r\\nBeverly,M,12\\r\\nBishop,M,12\\r\\nClair,M,12\\r\\nCloyd,M,12\\r\\nColeman,M,12\\r\\nDana,M,12\\r\\nDuncan,M,12\\r\\nDwight,M,12\\r\\nEmile,M,12\\r\\nEvert,M,12\\r\\nHenderson,M,12\\r\\nHunter,M,12\\r\\nJean,M,12\\r\\nLem,M,12\\r\\nLuis,M,12\\r\\nMathias,M,12\\r\\nMaynard,M,12\\r\\nMiguel,M,12\\r\\nMortimer,M,12\\r\\nNels,M,12\\r\\nNorris,M,12\\r\\nPat,M,12\\r\\nPhil,M,12\\r\\nRush,M,12\\r\\nSantiago,M,12\\r\\nSol,M,12\\r\\nSydney,M,12\\r\\nThaddeus,M,12\\r\\nThornton,M,12\\r\\nTim,M,12\\r\\nTravis,M,12\\r\\nTruman,M,12\\r\\nWatson,M,12\\r\\nWebb,M,12\\r\\nWellington,M,12\\r\\nWinfred,M,12\\r\\nWylie,M,12\\r\\nAlec,M,11\\r\\nBasil,M,11\\r\\nBaxter,M,11\\r\\nBertrand,M,11\\r\\nBuford,M,11\\r\\nBurr,M,11\\r\\nCleveland,M,11\\r\\nColonel,M,11\\r\\nDempsey,M,11\\r\\nEarly,M,11\\r\\nEllsworth,M,11\\r\\nFate,M,11\\r\\nFinley,M,11\\r\\nGabe,M,11\\r\\nGarland,M,11\\r\\nGerald,M,11\\r\\nHerschel,M,11\\r\\nHezekiah,M,11\\r\\nJustus,M,11\\r\\nLindsey,M,11\\r\\nMarcellus,M,11\\r\\nOlaf,M,11\\r\\nOlin,M,11\\r\\nPablo,M,11\\r\\nRolland,M,11\\r\\nTurner,M,11\\r\\nVerne,M,11\\r\\nVolney,M,11\\r\\nWilliams,M,11\\r\\nAlmon,M,10\\r\\nAlois,M,10\\r\\nAlonza,M,10\\r\\nAnson,M,10\\r\\nAuthur,M,10\\r\\nBenton,M,10\\r\\nBillie,M,10\\r\\nCornelious,M,10\\r\\nDarius,M,10\\r\\nDenis,M,10\\r\\nDillard,M,10\\r\\nDoctor,M,10\\r\\nElvin,M,10\\r\\nEmma,M,10\\r\\nEric,M,10\\r\\nEvans,M,10\\r\\nGideon,M,10\\r\\nHaywood,M,10\\r\\nHilliard,M,10\\r\\nHosea,M,10\\r\\nLincoln,M,10\\r\\nLonzo,M,10\\r\\nLucious,M,10\\r\\nLum,M,10\\r\\nMalachi,M,10\\r\\nNewt,M,10\\r\\nNoel,M,10\\r\\nOrie,M,10\\r\\nPalmer,M,10\\r\\nPinkney,M,10\\r\\nShirley,M,10\\r\\nSumner,M,10\\r\\nTerry,M,10\\r\\nUrban,M,10\\r\\nUriah,M,10\\r\\nValentine,M,10\\r\\nWaldo,M,10\\r\\nWarner,M,10\\r\\nWong,M,10\\r\\nZeb,M,10\\r\\nAbel,M,9\\r\\nAlden,M,9\\r\\nArcher,M,9\\r\\nAvery,M,9\\r\\nCarson,M,9\\r\\nCullen,M,9\\r\\nDoc,M,9\\r\\nEben,M,9\\r\\nElige,M,9\\r\\nElizabeth,M,9\\r\\nElmore,M,9\\r\\nErnst,M,9\\r\\nFinis,M,9\\r\\nFreddie,M,9\\r\\nGodfrey,M,9\\r\\nGuss,M,9\\r\\nHamp,M,9\\r\\nHermann,M,9\\r\\nIsadore,M,9\\r\\nIsreal,M,9\\r\\nJones,M,9\\r\\nJune,M,9\\r\\nLacy,M,9\\r\\nLafe,M,9\\r\\nLeland,M,9\\r\\nLlewellyn,M,9\\r\\nLudwig,M,9\\r\\nManford,M,9\\r\\nMaxwell,M,9\\r\\nMinnie,M,9\\r\\nObie,M,9\\r\\nOctave,M,9\\r\\nOrrin,M,9\\r\\nOssie,M,9\\r\\nOswald,M,9\\r\\nPark,M,9\\r\\nParley,M,9\\r\\nRamon,M,9\\r\\nRice,M,9\\r\\nStonewall,M,9\\r\\nTheo,M,9\\r\\nTillman,M,9\\r\\nAddie,M,8\\r\\nAron,M,8\\r\\nAshley,M,8\\r\\nBernhard,M,8\\r\\nBertie,M,8\\r\\nBerton,M,8\\r\\nBuster,M,8\\r\\nButler,M,8\\r\\nCarleton,M,8\\r\\nCarrie,M,8\\r\\nClara,M,8\\r\\nClarance,M,8\\r\\nClare,M,8\\r\\nCrawford,M,8\\r\\nDanial,M,8\\r\\nDayton,M,8\\r\\nDolphus,M,8\\r\\nElder,M,8\\r\\nEphriam,M,8\\r\\nFayette,M,8\\r\\nFelipe,M,8\\r\\nFernando,M,8\\r\\nFlem,M,8\\r\\nFlorence,M,8\\r\\nFord,M,8\\r\\nHarlan,M,8\\r\\nHayes,M,8\\r\\nHenery,M,8\\r\\nHoy,M,8\\r\\nHuston,M,8\\r\\nIda,M,8\\r\\nIvory,M,8\\r\\nJonah,M,8\\r\\nJustin,M,8\\r\\nLenard,M,8\\r\\nLeopold,M,8\\r\\nLionel,M,8\\r\\nManley,M,8\\r\\nMarquis,M,8\\r\\nMarshal,M,8\\r\\nMart,M,8\\r\\nOdie,M,8\\r\\nOlen,M,8\\r\\nOral,M,8\\r\\nOrley,M,8\\r\\nOtha,M,8\\r\\nPress,M,8\\r\\nPrice,M,8\\r\\nQuincy,M,8\\r\\nRandall,M,8\\r\\nRich,M,8\\r\\nRichmond,M,8\\r\\nRomeo,M,8\\r\\nRussel,M,8\\r\\nRutherford,M,8\\r\\nShade,M,8\\r\\nShelby,M,8\\r\\nSolon,M,8\\r\\nThurman,M,8\\r\\nTilden,M,8\\r\\nTroy,M,8\\r\\nWoodson,M,8\\r\\nWorth,M,8\\r\\nAden,M,7\\r\\nAlcide,M,7\\r\\nAlf,M,7\\r\\nAlgie,M,7\\r\\nArlie,M,7\\r\\nBart,M,7\\r\\nBedford,M,7\\r\\nBenito,M,7\\r\\nBilly,M,7\\r\\nBird,M,7\\r\\nBirt,M,7\\r\\nBruno,M,7\\r\\nBurley,M,7\\r\\nChancy,M,7\\r\\nClaus,M,7\\r\\nCliff,M,7\\r\\nClovis,M,7\\r\\nConnie,M,7\\r\\nCreed,M,7\\r\\nDelos,M,7\\r\\nDuke,M,7\\r\\nEber,M,7\\r\\nEligah,M,7\\r\\nElliot,M,7\\r\\nElton,M,7\\r\\nEmmitt,M,7\\r\\nGene,M,7\\r\\nGolden,M,7\\r\\nHal,M,7\\r\\nHardin,M,7\\r\\nHarman,M,7\\r\\nHervey,M,7\\r\\nHollis,M,7\\r\\nIvey,M,7\\r\\nJennie,M,7\\r\\nLen,M,7\\r\\nLindsay,M,7\\r\\nLonie,M,7\\r\\nLyle,M,7\\r\\nMac,M,7\\r\\nMal,M,7\\r\\nMath,M,7\\r\\nMiller,M,7\\r\\nOrson,M,7\\r\\nOsborne,M,7\\r\\nPercival,M,7\\r\\nPleas,M,7\\r\\nPles,M,7\\r\\nRafael,M,7\\r\\nRaoul,M,7\\r\\nRoderick,M,7\\r\\nRose,M,7\\r\\nShelton,M,7\\r\\nSid,M,7\\r\\nTheron,M,7\\r\\nTobias,M,7\\r\\nToney,M,7\\r\\nTyler,M,7\\r\\nVance,M,7\\r\\nVivian,M,7\\r\\nWalton,M,7\\r\\nWatt,M,7\\r\\nWeaver,M,7\\r\\nWilton,M,7\\r\\nAdolf,M,6\\r\\nAlbin,M,6\\r\\nAlbion,M,6\\r\\nAllison,M,6\\r\\nAlpha,M,6\\r\\nAlpheus,M,6\\r\\nAnastacio,M,6\\r\\nAndre,M,6\\r\\nAnnie,M,6\\r\\nArlington,M,6\\r\\nArmand,M,6\\r\\nAsberry,M,6\\r\\nAsbury,M,6\\r\\nAsher,M,6\\r\\nAugustin,M,6\\r\\nAuther,M,6\\r\\nAuthor,M,6\\r\\nBallard,M,6\\r\\nBlas,M,6\\r\\nCaesar,M,6\\r\\nCandido,M,6\\r\\nCato,M,6\\r\\nClarke,M,6\\r\\nClemente,M,6\\r\\nColin,M,6\\r\\nCommodore,M,6\\r\\nCora,M,6\\r\\nCoy,M,6\\r\\nCruz,M,6\\r\\nCurt,M,6\\r\\nDamon,M,6\\r\\nDavie,M,6\\r\\nDelmar,M,6\\r\\nDexter,M,6\\r\\nDora,M,6\\r\\nDoss,M,6\\r\\nDrew,M,6\\r\\nEdson,M,6\\r\\nElam,M,6\\r\\nElihu,M,6\\r\\nEliza,M,6\\r\\nElsie,M,6\\r\\nErie,M,6\\r\\nErnie,M,6\\r\\nEthel,M,6\\r\\nFerd,M,6\\r\\nFriend,M,6\\r\\nGarry,M,6\\r\\nGary,M,6\\r\\nGrace,M,6\\r\\nGustaf,M,6\\r\\nHallie,M,6\\r\\nHampton,M,6\\r\\nHarrie,M,6\\r\\nHattie,M,6\\r\\nHence,M,6\\r\\nHillard,M,6\\r\\nHollie,M,6\\r\\nHolmes,M,6\\r\\nHope,M,6\\r\\nHyman,M,6\\r\\nIshmael,M,6\\r\\nJarrett,M,6\\r\\nJessee,M,6\\r\\nJoeseph,M,6\\r\\nJunious,M,6\\r\\nKirk,M,6\\r\\nLevy,M,6\\r\\nMervin,M,6\\r\\nMichel,M,6\\r\\nMilford,M,6\\r\\nMitchel,M,6\\r\\nNellie,M,6\\r\\nNoble,M,6\\r\\nObed,M,6\\r\\nOda,M,6\\r\\nOrren,M,6\\r\\nOttis,M,6\\r\\nRafe,M,6\\r\\nRedden,M,6\\r\\nReese,M,6\\r\\nRube,M,6\\r\\nRuby,M,6\\r\\nRupert,M,6\\r\\nSalomon,M,6\\r\\nSammie,M,6\\r\\nSanders,M,6\\r\\nSoloman,M,6\\r\\nStacy,M,6\\r\\nStanford,M,6\\r\\nStanton,M,6\\r\\nThad,M,6\\r\\nTitus,M,6\\r\\nTracy,M,6\\r\\nVernie,M,6\\r\\nWendell,M,6\\r\\nWilhelm,M,6\\r\\nWillian,M,6\\r\\nYee,M,6\\r\\nZeke,M,6\\r\\nAb,M,5\\r\\nAbbott,M,5\\r\\nAgustus,M,5\\r\\nAlbertus,M,5\\r\\nAlmer,M,5\\r\\nAlphonso,M,5\\r\\nAlvia,M,5\\r\\nArtie,M,5\\r\\nArvid,M,5\\r\\nAshby,M,5\\r\\nAugusta,M,5\\r\\nAurthur,M,5\\r\\nBabe,M,5\\r\\nBaldwin,M,5\\r\\nBarnett,M,5\\r\\nBartholomew,M,5\\r\\nBarton,M,5\\r\\nBernie,M,5\\r\\nBlaine,M,5\\r\\nBoston,M,5\\r\\nBrad,M,5\\r\\nBradford,M,5\\r\\nBradley,M,5\\r\\nBrooks,M,5\\r\\nBuck,M,5\\r\\nBudd,M,5\\r\\nCeylon,M,5\\r\\nChalmers,M,5\\r\\nChesley,M,5\\r\\nChin,M,5\\r\\nCleo,M,5\\r\\nCrockett,M,5\\r\\nCyril,M,5\\r\\nDaisy,M,5\\r\\nDenver,M,5\\r\\nDow,M,5\\r\\nDuff,M,5\\r\\nEdie,M,5\\r\\nEdith,M,5\\r\\nElick,M,5\\r\\nElie,M,5\\r\\nEliga,M,5\\r\\nEliseo,M,5\\r\\nElroy,M,5\\r\\nEly,M,5\\r\\nEnnis,M,5\\r\\nEnrique,M,5\\r\\nErasmus,M,5\\r\\nEsau,M,5\\r\\nEverette,M,5\\r\\nFirman,M,5\\r\\nFleming,M,5\\r\\nFlora,M,5\\r\\nGardner,M,5\\r\\nGee,M,5\\r\\nGorge,M,5\\r\\nGottlieb,M,5\\r\\nGregorio,M,5\\r\\nGregory,M,5\\r\\nGustavus,M,5\\r\\nHalsey,M,5\\r\\nHandy,M,5\\r\\nHardie,M,5\\r\\nHarl,M,5\\r\\nHayden,M,5\\r\\nHays,M,5\\r\\nHermon,M,5\\r\\nHershel,M,5\\r\\nHolly,M,5\\r\\nHosteen,M,5\\r\\nHoyt,M,5\\r\\nHudson,M,5\\r\\nHuey,M,5\\r\\nHumphrey,M,5\\r\\nHunt,M,5\\r\\nHyrum,M,5\\r\\nIrven,M,5\\r\\nIsam,M,5\\r\\nIvy,M,5\\r\\nJabez,M,5\\r\\nJewel,M,5\\r\\nJodie,M,5\\r\\nJudd,M,5\\r\\nJulious,M,5\\r\\nJustice,M,5\\r\\nKatherine,M,5\\r\\nKelly,M,5\\r\\nKit,M,5\\r\\nKnute,M,5\\r\\nLavern,M,5\\r\\nLawyer,M,5\\r\\nLayton,M,5\\r\\nLeonidas,M,5\\r\\nLewie,M,5\\r\\nLillie,M,5\\r\\nLinwood,M,5\\r\\nLoran,M,5\\r\\nLorin,M,5\\r\\nMace,M,5\\r\\nMalcom,M,5\\r\\nManly,M,5\\r\\nManson,M,5\\r\\nMatthias,M,5\\r\\nMattie,M,5\\r\\nMerida,M,5\\r\\nMiner,M,5\\r\\nMontgomery,M,5\\r\\nMoroni,M,5\\r\\nMurdock,M,5\\r\\nMyrtle,M,5\\r\\nNate,M,5\\r\\nNathanial,M,5\\r\\nNimrod,M,5\\r\\nNora,M,5\\r\\nNorval,M,5\\r\\nNova,M,5\\r\\nOrion,M,5\\r\\nOrla,M,5\\r\\nOrrie,M,5\\r\\nPayton,M,5\\r\\nPhilo,M,5\\r\\nPhineas,M,5\\r\\nPresley,M,5\\r\\nRansom,M,5\\r\\nReece,M,5\\r\\nRene,M,5\\r\\nRoswell,M,5\\r\\nRowland,M,5\\r\\nSampson,M,5\\r\\nSamual,M,5\\r\\nSantos,M,5\\r\\nSchuyler,M,5\\r\\nSheppard,M,5\\r\\nSpurgeon,M,5\\r\\nStarling,M,5\\r\\nSylvanus,M,5\\r\\nTheadore,M,5\\r\\nTheophile,M,5\\r\\nTilmon,M,5\\r\\nTommy,M,5\\r\\nUnknown,M,5\\r\\nVann,M,5\\r\\nWes,M,5\\r\\nWinston,M,5\\r\\nWood,M,5\\r\\nWoodie,M,5\\r\\nWorthy,M,5\\r\\nWright,M,5\\r\\nYork,M,5\\r\\nZachariah,M,5\\r\\nMary,F,6919\\r\\nAnna,F,2698\\r\\nEmma,F,2034\\r\\nElizabeth,F,1852\\r\\nMargaret,F,1658\\r\\nMinnie,F,1653\\r\\nIda,F,1439\\r\\nAnnie,F,1326\\r\\nBertha,F,1324\\r\\nAlice,F,1308\\r\\nClara,F,1242\\r\\nSarah,F,1226\\r\\nElla,F,1148\\r\\nNellie,F,1096\\r\\nGrace,F,1089\\r\\nFlorence,F,1046\\r\\nMartha,F,1044\\r\\nCora,F,969\\r\\nLaura,F,962\\r\\nCarrie,F,958\\r\\nMaude,F,923\\r\\nBessie,F,903\\r\\nMabel,F,893\\r\\nGertrude,F,791\\r\\nEthel,F,788\\r\\nJennie,F,784\\r\\nEdith,F,778\\r\\nHattie,F,775\\r\\nMattie,F,754\\r\\nJulia,F,737\\r\\nRose,F,734\\r\\nLillian,F,723\\r\\nLillie,F,678\\r\\nEva,F,661\\r\\nJessie,F,661\\r\\nLula,F,655\\r\\nMyrtle,F,643\\r\\nPearl,F,641\\r\\nEdna,F,637\\r\\nCatherine,F,635\\r\\nAda,F,628\\r\\nLouise,F,617\\r\\nHelen,F,612\\r\\nLucy,F,611\\r\\nFrances,F,586\\r\\nDora,F,585\\r\\nFannie,F,565\\r\\nJosephine,F,563\\r\\nDaisy,F,562\\r\\nLena,F,555\\r\\nMaggie,F,532\\r\\nKatherine,F,504\\r\\nRosa,F,500\\r\\nMarie,F,499\\r\\nNora,F,498\\r\\nEffie,F,463\\r\\nBlanche,F,456\\r\\nMay,F,451\\r\\nNancy,F,429\\r\\nDella,F,428\\r\\nAgnes,F,424\\r\\nNettie,F,419\\r\\nSallie,F,416\\r\\nStella,F,416\\r\\nEllen,F,413\\r\\nMamie,F,412\\r\\nLizzie,F,396\\r\\nSusie,F,367\\r\\nSadie,F,366\\r\\nElsie,F,344\\r\\nMaud,F,328\\r\\nFlora,F,317\\r\\nCaroline,F,316\\r\\nEtta,F,316\\r\\nMae,F,314\\r\\nLulu,F,313\\r\\nLydia,F,299\\r\\nAlma,F,293\\r\\nSusan,F,292\\r\\nLottie,F,289\\r\\nAddie,F,287\\r\\nMollie,F,281\\r\\nKatie,F,279\\r\\nRuth,F,275\\r\\nHarriet,F,270\\r\\nKate,F,267\\r\\nAmanda,F,263\\r\\nNannie,F,258\\r\\nGeorgia,F,256\\r\\nEmily,F,244\\r\\nEliza,F,238\\r\\nViola,F,237\\r\\nAmelia,F,235\\r\\nWillie,F,229\\r\\nCharlotte,F,227\\r\\nRebecca,F,226\\r\\nBelle,F,219\\r\\nKathryn,F,218\\r\\nJane,F,216\\r\\nOlive,F,211\\r\\nVirginia,F,210\\r\\nIrene,F,206\\r\\nHannah,F,196\\r\\nOra,F,191\\r\\nEsther,F,189\\r\\nMatilda,F,187\\r\\nHenrietta,F,181\\r\\nTheresa,F,173\\r\\nOllie,F,169\\r\\nPauline,F,166\\r\\nEstella,F,163\\r\\nBeulah,F,162\\r\\nAugusta,F,157\\r\\nRachel,F,157\\r\\nMildred,F,154\\r\\nJosie,F,149\\r\\nSara,F,147\\r\\nAmy,F,145\\r\\nLouisa,F,142\\r\\nLuella,F,141\\r\\nLeona,F,138\\r\\nAnne,F,131\\r\\nAnn,F,130\\r\\nBarbara,F,130\\r\\nLola,F,129\\r\\nEstelle,F,127\\r\\nLela,F,125\\r\\nMillie,F,124\\r\\nNina,F,123\\r\\nIva,F,122\\r\\nSophia,F,122\\r\\nMaria,F,120\\r\\nRuby,F,119\\r\\nVictoria,F,117\\r\\nEvelyn,F,116\\r\\nMayme,F,115\\r\\nAlta,F,114\\r\\nLou,F,114\\r\\nJanie,F,113\\r\\nBetty,F,112\\r\\nDelia,F,111\\r\\nEleanor,F,110\\r\\nMarion,F,110\\r\\nDorothy,F,109\\r\\nIna,F,108\\r\\nCelia,F,107\\r\\nCallie,F,104\\r\\nBettie,F,103\\r\\nAllie,F,98\\r\\nInez,F,95\\r\\nDollie,F,90\\r\\nOla,F,90\\r\\nLucinda,F,88\\r\\nMable,F,88\\r\\nRena,F,88\\r\\nBeatrice,F,87\\r\\nHarriett,F,86\\r\\nRosie,F,85\\r\\nBirdie,F,84\\r\\nEula,F,84\\r\\nRhoda,F,84\\r\\nWinnie,F,84\\r\\nChristina,F,82\\r\\nIsabelle,F,82\\r\\nTillie,F,82\\r\\nAbbie,F,81\\r\\nWinifred,F,81\\r\\nEssie,F,80\\r\\nLora,F,80\\r\\nSally,F,79\\r\\nSophie,F,78\\r\\nEunice,F,77\\r\\nLeila,F,77\\r\\nIsabel,F,76\\r\\nNell,F,75\\r\\nLelia,F,74\\r\\nMyra,F,72\\r\\nNelle,F,72\\r\\nRoxie,F,72\\r\\nMathilda,F,69\\r\\nBertie,F,68\\r\\nKatharine,F,68\\r\\nLenora,F,68\\r\\nLettie,F,68\\r\\nChristine,F,67\\r\\nSue,F,67\\r\\nSylvia,F,67\\r\\nCornelia,F,66\\r\\nLinnie,F,65\\r\\nAlberta,F,64\\r\\nHettie,F,64\\r\\nAdelaide,F,62\\r\\nMina,F,62\\r\\nHelena,F,61\\r\\nCarolyn,F,60\\r\\nAdeline,F,58\\r\\nGenevieve,F,58\\r\\nJohanna,F,58\\r\\nLoretta,F,58\\r\\nLida,F,57\\r\\nFanny,F,55\\r\\nHester,F,55\\r\\nLilly,F,55\\r\\nNaomi,F,55\\r\\nLois,F,53\\r\\nMinerva,F,53\\r\\nMittie,F,53\\r\\nBess,F,52\\r\\nClaudia,F,52\\r\\nLeah,F,52\\r\\nLucretia,F,52\\r\\nMarguerite,F,52\\r\\nCecelia,F,51\\r\\nElva,F,51\\r\\nOlivia,F,51\\r\\nGussie,F,50\\r\\nHazel,F,50\\r\\nIsabella,F,50\\r\\nCordelia,F,49\\r\\nRosetta,F,49\\r\\nWilhelmina,F,49\\r\\nBernice,F,48\\r\\nHilda,F,48\\r\\nLucille,F,48\\r\\nPolly,F,48\\r\\nVera,F,48\\r\\nCynthia,F,47\\r\\nElnora,F,47\\r\\nFrancis,F,47\\r\\nSelma,F,47\\r\\nLily,F,46\\r\\nLura,F,46\\r\\nPhoebe,F,46\\r\\nTeresa,F,46\\r\\nAngie,F,44\\r\\nHulda,F,44\\r\\nJean,F,44\\r\\nLouella,F,44\\r\\nMyrtie,F,44\\r\\nAdele,F,43\\r\\nJeannette,F,43\\r\\nLyda,F,43\\r\\nVirgie,F,43\\r\\nDessie,F,42\\r\\nLila,F,42\\r\\nViolet,F,42\\r\\nElma,F,41\\r\\nMadge,F,41\\r\\nRegina,F,41\\r\\nRoberta,F,41\\r\\nCatharine,F,40\\r\\nEugenia,F,40\\r\\nGladys,F,40\\r\\nMalinda,F,40\\r\\nMandy,F,40\\r\\nMelissa,F,40\\r\\nCecilia,F,39\\r\\nGoldie,F,39\\r\\nLee,F,39\\r\\nLina,F,39\\r\\nMarian,F,39\\r\\nElvira,F,38\\r\\nEmilie,F,38\\r\\nIvy,F,38\\r\\nLinda,F,38\\r\\nNona,F,38\\r\\nZella,F,38\\r\\nHallie,F,36\\r\\nIrma,F,36\\r\\nJeanette,F,36\\r\\nLeola,F,36\\r\\nLucile,F,36\\r\\nGeneva,F,35\\r\\nGertie,F,35\\r\\nBridget,F,34\\r\\nFreda,F,34\\r\\nDolly,F,33\\r\\nMolly,F,33\\r\\nGeorgie,F,32\\r\\nLilla,F,32\\r\\nMargie,F,32\\r\\nNola,F,32\\r\\nDovie,F,31\\r\\nLetha,F,31\\r\\nOlga,F,31\\r\\nGeorge,F,30\\r\\nMeta,F,30\\r\\nVerna,F,30\\r\\nWilliam,F,30\\r\\nAdah,F,29\\r\\nAlvina,F,29\\r\\nAntoinette,F,29\\r\\nBell,F,29\\r\\nJanet,F,29\\r\\nMabelle,F,29\\r\\nMertie,F,29\\r\\nCassie,F,28\\r\\nErma,F,28\\r\\nFlossie,F,28\\r\\nLouie,F,28\\r\\nAlpha,F,27\\r\\nBlanch,F,27\\r\\nEllie,F,27\\r\\nJohnnie,F,27\\r\\nLona,F,27\\r\\nLorena,F,27\\r\\nMiriam,F,27\\r\\nOphelia,F,27\\r\\nPriscilla,F,27\\r\\nSudie,F,27\\r\\nZula,F,27\\r\\nAnnette,F,26\\r\\nJohn,F,26\\r\\nNorma,F,26\\r\\nRosalie,F,26\\r\\nVina,F,26\\r\\nBonnie,F,25\\r\\nCorinne,F,25\\r\\nElisabeth,F,25\\r\\nElsa,F,25\\r\\nFrieda,F,25\\r\\nJuanita,F,25\\r\\nMelvina,F,25\\r\\nTennie,F,25\\r\\nBella,F,24\\r\\nCecile,F,24\\r\\nDona,F,24\\r\\nFrankie,F,24\\r\\nGracie,F,24\\r\\nJames,F,24\\r\\nKittie,F,24\\r\\nLeota,F,24\\r\\nMaudie,F,24\\r\\nOrpha,F,24\\r\\nSavannah,F,24\\r\\nVinnie,F,24\\r\\nVivian,F,24\\r\\nAnita,F,23\\r\\nClaire,F,23\\r\\nCleo,F,23\\r\\nDena,F,23\\r\\nEda,F,23\\r\\nLeonora,F,23\\r\\nLeora,F,23\\r\\nLiza,F,23\\r\\nAlmeda,F,22\\r\\nArtie,F,22\\r\\nCharity,F,22\\r\\nElise,F,22\\r\\nGeorgianna,F,22\\r\\nHarriette,F,22\\r\\nIsabell,F,22\\r\\nJimmie,F,22\\r\\nJulie,F,22\\r\\nKitty,F,22\\r\\nMargret,F,22\\r\\nNan,F,22\\r\\nPearlie,F,22\\r\\nZoe,F,22\\r\\nAdelia,F,21\\r\\nAngeline,F,21\\r\\nDorothea,F,21\\r\\nErnestine,F,21\\r\\nJoanna,F,21\\r\\nLennie,F,21\\r\\nLeta,F,21\\r\\nLue,F,21\\r\\nMarietta,F,21\\r\\nOna,F,21\\r\\nPearle,F,21\\r\\nRilla,F,21\\r\\nSusanna,F,21\\r\\nZora,F,21\\r\\nAdda,F,20\\r\\nClare,F,20\\r\\nGeorgiana,F,20\\r\\nHelene,F,20\\r\\nIla,F,20\\r\\nLibbie,F,20\\r\\nMagdalena,F,20\\r\\nPhebe,F,20\\r\\nRita,F,20\\r\\nVesta,F,20\\r\\nEdythe,F,19\\r\\nKathrine,F,19\\r\\nLetitia,F,19\\r\\nNella,F,19\\r\\nOctavia,F,19\\r\\nOma,F,19\\r\\nTena,F,19\\r\\nTina,F,19\\r\\nVelma,F,19\\r\\nAdaline,F,18\\r\\nAva,F,18\\r\\nCathrine,F,18\\r\\nEmmie,F,18\\r\\nEttie,F,18\\r\\nEvie,F,18\\r\\nFay,F,18\\r\\nIona,F,18\\r\\nLavina,F,18\\r\\nLessie,F,18\\r\\nLuna,F,18\\r\\nMatie,F,18\\r\\nCharles,F,17\\r\\nClyde,F,17\\r\\nElmira,F,17\\r\\nFloy,F,17\\r\\nHanna,F,17\\r\\nHilma,F,17\\r\\nIsa,F,17\\r\\nMellie,F,17\\r\\nMissouri,F,17\\r\\nPinkie,F,17\\r\\nReba,F,17\\r\\nRetta,F,17\\r\\nZelma,F,17\\r\\nAdella,F,16\\r\\nAlida,F,16\\r\\nCecil,F,16\\r\\nEugenie,F,16\\r\\nIndia,F,16\\r\\nJune,F,16\\r\\nKatheryn,F,16\\r\\nLilian,F,16\\r\\nLotta,F,16\\r\\nLucia,F,16\\r\\nLutie,F,16\\r\\nMalissa,F,16\\r\\nMaybelle,F,16\\r\\nSidney,F,16\\r\\nSophronia,F,16\\r\\nTilda,F,16\\r\\nAlbina,F,15\\r\\nArvilla,F,15\\r\\nAurelia,F,15\\r\\nDonna,F,15\\r\\nInga,F,15\\r\\nJenny,F,15\\r\\nLauretta,F,15\\r\\nMarjorie,F,15\\r\\nNeva,F,15\\r\\nOdessa,F,15\\r\\nPattie,F,15\\r\\nQueen,F,15\\r\\nVeronica,F,15\\r\\nAdell,F,14\\r\\nBerta,F,14\\r\\nCeleste,F,14\\r\\nChloe,F,14\\r\\nConstance,F,14\\r\\nDeborah,F,14\\r\\nDocia,F,14\\r\\nDonnie,F,14\\r\\nEloise,F,14\\r\\nHortense,F,14\\r\\nImogene,F,14\\r\\nIola,F,14\\r\\nLavinia,F,14\\r\\nLoula,F,14\\r\\nMadeline,F,14\\r\\nMagdalene,F,14\\r\\nMame,F,14\\r\\nManda,F,14\\r\\nMazie,F,14\\r\\nMona,F,14\\r\\nOpal,F,14\\r\\nUna,F,14\\r\\nVida,F,14\\r\\nAlva,F,13\\r\\nAnnabelle,F,13\\r\\nAntonia,F,13\\r\\nBetsy,F,13\\r\\nFlorida,F,13\\r\\nHenry,F,13\\r\\nIdella,F,13\\r\\nKathleen,F,13\\r\\nLenna,F,13\\r\\nLudie,F,13\\r\\nMahala,F,13\\r\\nMalvina,F,13\\r\\nMarcia,F,13\\r\\nMariah,F,13\\r\\nMyrta,F,13\\r\\nNorah,F,13\\r\\nParalee,F,13\\r\\nSerena,F,13\\r\\nSina,F,13\\r\\nTressie,F,13\\r\\nVernie,F,13\\r\\nCamille,F,12\\r\\nConnie,F,12\\r\\nDell,F,12\\r\\nFaye,F,12\\r\\nMagnolia,F,12\\r\\nMinta,F,12\\r\\nNatalie,F,12\\r\\nPatsy,F,12\\r\\nPermelia,F,12\\r\\nRosella,F,12\\r\\nSamantha,F,12\\r\\nTessie,F,12\\r\\nAimee,F,11\\r\\nAlda,F,11\\r\\nAline,F,11\\r\\nAltha,F,11\\r\\nAmalia,F,11\\r\\nAmerica,F,11\\r\\nAnastasia,F,11\\r\\nAnnetta,F,11\\r\\nAudrey,F,11\\r\\nCamilla,F,11\\r\\nCarol,F,11\\r\\nCelina,F,11\\r\\nChristena,F,11\\r\\nCordie,F,11\\r\\nEaster,F,11\\r\\nEddie,F,11\\r\\nEthelyn,F,11\\r\\nGeraldine,F,11\\r\\nJeanne,F,11\\r\\nKattie,F,11\\r\\nLeatha,F,11\\r\\nLeslie,F,11\\r\\nLonie,F,11\\r\\nLovina,F,11\\r\\nMathilde,F,11\\r\\nMelinda,F,11\\r\\nMettie,F,11\\r\\nMuriel,F,11\\r\\nOcie,F,11\\r\\nOttilie,F,11\\r\\nPhilomena,F,11\\r\\nRay,F,11\\r\\nSena,F,11\\r\\nThomas,F,11\\r\\nWalter,F,11\\r\\nWinona,F,11\\r\\nZadie,F,11\\r\\nAgatha,F,10\\r\\nAlmira,F,10\\r\\nArrie,F,10\\r\\nAura,F,10\\r\\nCarolina,F,10\\r\\nDaisie,F,10\\r\\nDelilah,F,10\\r\\nDixie,F,10\\r\\nDolores,F,10\\r\\nDoris,F,10\\r\\nElta,F,10\\r\\nEmelia,F,10\\r\\nEve,F,10\\r\\nEveline,F,10\\r\\nFern,F,10\\r\\nGlenna,F,10\\r\\nGrayce,F,10\\r\\nHuldah,F,10\\r\\nIone,F,10\\r\\nJoe,F,10\\r\\nJoseph,F,10\\r\\nJudith,F,10\\r\\nLelah,F,10\\r\\nLenore,F,10\\r\\nLeone,F,10\\r\\nLucie,F,10\\r\\nMammie,F,10\\r\\nMarcella,F,10\\r\\nMaye,F,10\\r\\nMetta,F,10\\r\\nMinna,F,10\\r\\nMintie,F,10\\r\\nMonica,F,10\\r\\nNanie,F,10\\r\\nPetra,F,10\\r\\nRella,F,10\\r\\nRosalia,F,10\\r\\nVada,F,10\\r\\nVallie,F,10\\r\\nWilla,F,10\\r\\nWilma,F,10\\r\\nZola,F,10\\r\\nAmie,F,9\\r\\nAna,F,9\\r\\nAngela,F,9\\r\\nBecky,F,9\\r\\nBennie,F,9\\r\\nClaude,F,9\\r\\nCorrie,F,9\\r\\nCorrine,F,9\\r\\nDelphine,F,9\\r\\nDoshia,F,9\\r\\nElvie,F,9\\r\\nElvina,F,9\\r\\nEra,F,9\\r\\nEvelina,F,9\\r\\nFrank,F,9\\r\\nFred,F,9\\r\\nFrona,F,9\\r\\nGenie,F,9\\r\\nGlennie,F,9\\r\\nHonora,F,9\\r\\nJanette,F,9\\r\\nJannie,F,9\\r\\nJuliet,F,9\\r\\nJuliette,F,9\\r\\nKizzie,F,9\\r\\nLovie,F,9\\r\\nMallie,F,9\\r\\nMannie,F,9\\r\\nMargaretta,F,9\\r\\nMercy,F,9\\r\\nMiranda,F,9\\r\\nNana,F,9\\r\\nOda,F,9\\r\\nOsa,F,9\\r\\nPaula,F,9\\r\\nPrudence,F,9\\r\\nRobert,F,9\\r\\nSelina,F,9\\r\\nSibyl,F,9\\r\\nZilpah,F,9\\r\\nZona,F,9\\r\\nAbigail,F,8\\r\\nAlmedia,F,8\\r\\nAlthea,F,8\\r\\nAngelina,F,8\\r\\nAnner,F,8\\r\\nAra,F,8\\r\\nBerdie,F,8\\r\\nBeryl,F,8\\r\\nBesse,F,8\\r\\nByrdie,F,8\\r\\nCalla,F,8\\r\\nCarlotta,F,8\\r\\nClaribel,F,8\\r\\nClarice,F,8\\r\\nClemmie,F,8\\r\\nClifford,F,8\\r\\nCoral,F,8\\r\\nDillie,F,8\\r\\nEdwina,F,8\\r\\nElinor,F,8\\r\\nElizebeth,F,8\\r\\nEmmer,F,8\\r\\nEsta,F,8\\r\\nExie,F,8\\r\\nFelicia,F,8\\r\\nIra,F,8\\r\\nIris,F,8\\r\\nJettie,F,8\\r\\nJuana,F,8\\r\\nJustine,F,8\\r\\nLeanna,F,8\\r\\nLeonie,F,8\\r\\nLouvenia,F,8\\r\\nMalissie,F,8\\r\\nManie,F,8\\r\\nMargery,F,8\\r\\nMaymie,F,8\\r\\nMeda,F,8\\r\\nMyrtice,F,8\\r\\nNarcissus,F,8\\r\\nNonie,F,8\\r\\nOnie,F,8\\r\\nPansy,F,8\\r\\nPaulina,F,8\\r\\nRachael,F,8\\r\\nRosamond,F,8\\r\\nRosanna,F,8\\r\\nTheo,F,8\\r\\nTheresia,F,8\\r\\nTommie,F,8\\r\\nValeria,F,8\\r\\nVessie,F,8\\r\\nVictorine,F,8\\r\\nWilhelmine,F,8\\r\\nWinnifred,F,8\\r\\nZada,F,8\\r\\nAbby,F,7\\r\\nAdela,F,7\\r\\nAlfreda,F,7\\r\\nAlicia,F,7\\r\\nAlla,F,7\\r\\nArabella,F,7\\r\\nArdella,F,7\\r\\nArminda,F,7\\r\\nArminta,F,7\\r\\nAudie,F,7\\r\\nCammie,F,7\\r\\nCarmen,F,7\\r\\nClaudie,F,7\\r\\nCordia,F,7\\r\\nDelila,F,7\\r\\nDessa,F,7\\r\\nDiana,F,7\\r\\nDicie,F,7\\r\\nDottie,F,7\\r\\nDove,F,7\\r\\nDrucilla,F,7\\r\\nEdyth,F,7\\r\\nEffa,F,7\\r\\nEleanora,F,7\\r\\nEmilia,F,7\\r\\nEtha,F,7\\r\\nEthyl,F,7\\r\\nEtna,F,7\\r\\nEulalia,F,7\\r\\nFlo,F,7\\r\\nFredericka,F,7\\r\\nGloria,F,7\\r\\nGusta,F,7\\r\\nHessie,F,7\\r\\nHope,F,7\\r\\nIcie,F,7\\r\\nJessica,F,7\\r\\nLea,F,7\\r\\nLetta,F,7\\r\\nLiddie,F,7\\r\\nLillia,F,7\\r\\nLota,F,7\\r\\nLulie,F,7\\r\\nMadie,F,7\\r\\nManuela,F,7\\r\\nMargarita,F,7\\r\\nNathalie,F,7\\r\\nNevada,F,7\\r\\nNita,F,7\\r\\nOta,F,7\\r\\nParthenia,F,7\\r\\nQueenie,F,7\\r\\nRae,F,7\\r\\nRamona,F,7\\r\\nRosina,F,7\\r\\nSelena,F,7\\r\\nTempie,F,7\\r\\nTexie,F,7\\r\\nWill,F,7\\r\\nZetta,F,7\\r\\nZillah,F,7\\r\\nAida,F,6\\r\\nAlbertine,F,6\\r\\nAllene,F,6\\r\\nAnnabel,F,6\\r\\nArizona,F,6\\r\\nArra,F,6\\r\\nAurora,F,6\\r\\nBelva,F,6\\r\\nBiddie,F,6\\r\\nBird,F,6\\r\\nBula,F,6\\r\\nCarry,F,6\\r\\nClementine,F,6\\r\\nCorine,F,6\\r\\nCourtney,F,6\\r\\nCrete,F,6\\r\\nDaisey,F,6\\r\\nDee,F,6\\r\\nDicy,F,6\\r\\nDonie,F,6\\r\\nDorcas,F,6\\r\\nDossie,F,6\\r\\nElda,F,6\\r\\nEldora,F,6\\r\\nElenora,F,6\\r\\nEllar,F,6\\r\\nEmelie,F,6\\r\\nEmeline,F,6\\r\\nEmmaline,F,6\\r\\nEster,F,6\\r\\nEuphemia,F,6\\r\\nEvaline,F,6\\r\\nEvangeline,F,6\\r\\nFlavia,F,6\\r\\nFleta,F,6\\r\\nFlorance,F,6\\r\\nFronia,F,6\\r\\nGillie,F,6\\r\\nGuadalupe,F,6\\r\\nHassie,F,6\\r\\nIcy,F,6\\r\\nIvah,F,6\\r\\nJewel,F,6\\r\\nJinnie,F,6\\r\\nJoan,F,6\\r\\nJonnie,F,6\\r\\nKaren,F,6\\r\\nKatharina,F,6\\r\\nKathryne,F,6\\r\\nLella,F,6\\r\\nLeo,F,6\\r\\nLuvenia,F,6\\r\\nMai,F,6\\r\\nMargarett,F,6\\r\\nMell,F,6\\r\\nMerle,F,6\\r\\nMirtie,F,6\\r\\nMora,F,6\\r\\nNelia,F,6\\r\\nNena,F,6\\r\\nNinnie,F,6\\r\\nOdie,F,6\\r\\nOsie,F,6\\r\\nPatience,F,6\\r\\nPink,F,6\\r\\nRettie,F,6\\r\\nRosia,F,6\\r\\nRowena,F,6\\r\\nRozella,F,6\\r\\nRuthie,F,6\\r\\nSalome,F,6\\r\\nSammie,F,6\\r\\nSofia,F,6\\r\\nSula,F,6\\r\\nSuzanne,F,6\\r\\nSybil,F,6\\r\\nSylvania,F,6\\r\\nTheodosia,F,6\\r\\nTherese,F,6\\r\\nTilla,F,6\\r\\nTressa,F,6\\r\\nUrsula,F,6\\r\\nVeda,F,6\\r\\nVena,F,6\\r\\nVerdie,F,6\\r\\nWanda,F,6\\r\\nZaida,F,6\\r\\nZena,F,6\\r\\nZenobia,F,6\\r\\nZilpha,F,6\\r\\nAggie,F,5\\r\\nAlba,F,5\\r\\nAletha,F,5\\r\\nAlvena,F,5\\r\\nAlverta,F,5\\r\\nAmber,F,5\\r\\nAndrea,F,5\\r\\nAndrew,F,5\\r\\nAnnis,F,5\\r\\nAson,F,5\\r\\nAvis,F,5\\r\\nBama,F,5\\r\\nBernadette,F,5\\r\\nBina,F,5\\r\\nBirtie,F,5\\r\\nByrd,F,5\\r\\nCelesta,F,5\\r\\nCharlie,F,5\\r\\nCherry,F,5\\r\\nChloie,F,5\\r\\nChristie,F,5\\r\\nClaudine,F,5\\r\\nCorda,F,5\\r\\nCorean,F,5\\r\\nCorinna,F,5\\r\\nDonia,F,5\\r\\nDoshie,F,5\\r\\nEarl,F,5\\r\\nEleanore,F,5\\r\\nElena,F,5\\r\\nElodie,F,5\\r\\nEna,F,5\\r\\nEpsie,F,5\\r\\nErna,F,5\\r\\nEugene,F,5\\r\\nEulah,F,5\\r\\nEvalena,F,5\\r\\nExa,F,5\\r\\nFaith,F,5\\r\\nGail,F,5\\r\\nGeorgine,F,5\\r\\nGlenn,F,5\\r\\nGretta,F,5\\r\\nGwendolyn,F,5\\r\\nHedwig,F,5\\r\\nHenriette,F,5\\r\\nIndiana,F,5\\r\\nIzora,F,5\\r\\nJeffie,F,5\\r\\nJemima,F,5\\r\\nJesse,F,5\\r\\nJo,F,5\\r\\nJohnie,F,5\\r\\nJosefa,F,5\\r\\nJosiephine,F,5\\r\\nJudy,F,5\\r\\nJuliana,F,5\\r\\nJunie,F,5\\r\\nKatharyn,F,5\\r\\nLannie,F,5\\r\\nLavada,F,5\\r\\nLavenia,F,5\\r\\nLeda,F,5\\r\\nLeonore,F,5\\r\\nLevina,F,5\\r\\nLibby,F,5\\r\\nLilie,F,5\\r\\nLissie,F,5\\r\\nLittie,F,5\\r\\nLollie,F,5\\r\\nLoma,F,5\\r\\nLonnie,F,5\\r\\nLouanna,F,5\\r\\nLugenia,F,5\\r\\nMabell,F,5\\r\\nMadeleine,F,5\\r\\nMahalia,F,5\\r\\nMargarette,F,5\\r\\nMarinda,F,5\\r\\nMila,F,5\\r\\nMinda,F,5\\r\\nNealie,F,5\\r\\nNeta,F,5\\r\\nNetta,F,5\\r\\nOrlena,F,5\\r\\nOttie,F,5\\r\\nOttilia,F,5\\r\\nOva,F,5\\r\\nOzella,F,5\\r\\nPhyllis,F,5\\r\\nPollie,F,5\\r\\nRessie,F,5\\r\\nRosena,F,5\\r\\nRosey,F,5\\r\\nSabina,F,5\\r\\nSenora,F,5\\r\\nSiddie,F,5\\r\\nSusana,F,5\\r\\nSusanne,F,5\\r\\nTexanna,F,5\\r\\nTexas,F,5\\r\\nThea,F,5\\r\\nTheodora,F,5\\r\\nTiney,F,5\\r\\nTinie,F,5\\r\\nTiny,F,5\\r\\nVernon,F,5\\r\\nVerona,F,5\\r\\nViney,F,5\\r\\nJohn,M,8769\\r\\nWilliam,M,8524\\r\\nJames,M,5442\\r\\nGeorge,M,4664\\r\\nCharles,M,4636\\r\\nFrank,M,2834\\r\\nJoseph,M,2456\\r\\nHenry,M,2339\\r\\nThomas,M,2282\\r\\nEdward,M,2177\\r\\nRobert,M,2140\\r\\nHarry,M,2002\\r\\nWalter,M,1670\\r\\nArthur,M,1575\\r\\nFred,M,1418\\r\\nAlbert,M,1319\\r\\nSamuel,M,919\\r\\nDavid,M,750\\r\\nLouis,M,746\\r\\nCharlie,M,668\\r\\nClarence,M,668\\r\\nRichard,M,641\\r\\nJoe,M,639\\r\\nAndrew,M,588\\r\\nErnest,M,571\\r\\nWill,M,550\\r\\nJesse,M,536\\r\\nOscar,M,530\\r\\nDaniel,M,527\\r\\nWillie,M,498\\r\\nBenjamin,M,481\\r\\nSam,M,481\\r\\nAlfred,M,466\\r\\nRoy,M,440\\r\\nLewis,M,439\\r\\nFrederick,M,433\\r\\nPeter,M,428\\r\\nElmer,M,388\\r\\nJacob,M,381\\r\\nHerbert,M,369\\r\\nCarl,M,359\\r\\nHoward,M,359\\r\\nTom,M,349\\r\\nLee,M,342\\r\\nRalph,M,329\\r\\nMartin,M,327\\r\\nJim,M,323\\r\\nEarl,M,314\\r\\nEugene,M,314\\r\\nBert,M,312\\r\\nEdgar,M,312\\r\\nHerman,M,304\\r\\nClaude,M,302\\r\\nMichael,M,298\\r\\nPaul,M,291\\r\\nBen,M,289\\r\\nIra,M,286\\r\\nHarvey,M,282\\r\\nChester,M,274\\r\\nEdwin,M,274\\r\\nEd,M,272\\r\\nCharley,M,266\\r\\nFrancis,M,259\\r\\nIsaac,M,258\\r\\nLuther,M,249\\r\\nLawrence,M,244\\r\\nOliver,M,238\\r\\nClyde,M,232\\r\\nOtto,M,221\\r\\nHugh,M,220\\r\\nAlexander,M,209\\r\\nLeonard,M,206\\r\\nJack,M,197\\r\\nRaymond,M,195\\r\\nPatrick,M,188\\r\\nGuy,M,186\\r\\nHomer,M,181\\r\\nFloyd,M,179\\r\\nTheodore,M,178\\r\\nAllen,M,172\\r\\nAugust,M,172\\r\\nMarion,M,162\\r\\nPhilip,M,156\\r\\nWarren,M,156\\r\\nHorace,M,152\\r\\nDan,M,148\\r\\nRay,M,148\\r\\nGarfield,M,147\\r\\nStephen,M,147\\r\\nEmil,M,145\\r\\nJessie,M,143\\r\\nMilton,M,143\\r\\nWillis,M,142\\r\\nCalvin,M,138\\r\\nDave,M,135\\r\\nBernard,M,130\\r\\nJulius,M,129\\r\\nLeroy,M,129\\r\\nSidney,M,129\\r\\nAnthony,M,128\\r\\nArchie,M,125\\r\\nPerry,M,123\\r\\nLeo,M,122\\r\\nLeon,M,121\\r\\nRufus,M,121\\r\\nHarold,M,120\\r\\nFranklin,M,117\\r\\nAdam,M,116\\r\\nAlex,M,114\\r\\nAlonzo,M,111\\r\\nEverett,M,111\\r\\nClifford,M,110\\r\\nVictor,M,110\\r\\nEddie,M,109\\r\\nAlvin,M,105\\r\\nLevi,M,104\\r\\nAmos,M,102\\r\\nRoscoe,M,102\\r\\nWesley,M,102\\r\\nDennis,M,99\\r\\nEli,M,97\\r\\nJerry,M,97\\r\\nJay,M,96\\r\\nHiram,M,95\\r\\nNorman,M,95\\r\\nPercy,M,95\\r\\nAaron,M,94\\r\\nGus,M,94\\r\\nMark,M,94\\r\\nWillard,M,94\\r\\nMoses,M,93\\r\\nEarnest,M,92\\r\\nGilbert,M,92\\r\\nJake,M,92\\r\\nLeslie,M,92\\r\\nNathan,M,91\\r\\nAdolph,M,90\\r\\nNelson,M,90\\r\\nOtis,M,89\\r\\nIrvin,M,88\\r\\nWallace,M,88\\r\\nClinton,M,87\\r\\nLester,M,87\\r\\nLloyd,M,87\\r\\nMorris,M,87\\r\\nAbraham,M,86\\r\\nJess,M,85\\r\\nElbert,M,84\\r\\nPhillip,M,84\\r\\nJasper,M,83\\r\\nRoss,M,82\\r\\nNoah,M,81\\r\\nWilbur,M,81\\r\\nClaud,M,80\\r\\nCornelius,M,80\\r\\nMack,M,80\\r\\nMatthew,M,80\\r\\nLonnie,M,77\\r\\nJose,M,76\\r\\nMelvin,M,76\\r\\nStanley,M,76\\r\\nSylvester,M,76\\r\\nWiley,M,76\\r\\nSimon,M,75\\r\\nReuben,M,73\\r\\nSilas,M,73\\r\\nWilson,M,73\\r\\nCurtis,M,72\\r\\nFelix,M,72\\r\\nMaurice,M,72\\r\\nAlva,M,70\\r\\nElijah,M,69\\r\\nChristopher,M,68\\r\\nOwen,M,67\\r\\nAustin,M,66\\r\\nClark,M,66\\r\\nMax,M,66\\r\\nAsa,M,65\\r\\nEmmett,M,65\\r\\nFredrick,M,65\\r\\nRussell,M,65\\r\\nVirgil,M,65\\r\\nWinfield,M,65\\r\\nMose,M,63\\r\\nTimothy,M,63\\r\\nRudolph,M,62\\r\\nEdmund,M,61\\r\\nHarley,M,61\\r\\nHarrison,M,61\\r\\nJeff,M,61\\r\\nOrville,M,61\\r\\nIrving,M,60\\r\\nAndy,M,58\\r\\nEllis,M,58\\r\\nLemuel,M,58\\r\\nMonroe,M,58\\r\\nAnton,M,57\\r\\nJoel,M,57\\r\\nManuel,M,57\\r\\nMarvin,M,57\\r\\nPete,M,57\\r\\nVernon,M,57\\r\\nMarshall,M,56\\r\\nNicholas,M,56\\r\\nIke,M,55\\r\\nMathew,M,55\\r\\nOra,M,55\\r\\nChristian,M,53\\r\\nEmery,M,53\\r\\nNewton,M,53\\r\\nChris,M,52\\r\\nClayton,M,52\\r\\nPearl,M,52\\r\\nWade,M,52\\r\\nAugustus,M,51\\r\\nColumbus,M,51\\r\\nScott,M,51\\r\\nBob,M,50\\r\\nSolomon,M,49\\r\\nEmanuel,M,48\\r\\nNathaniel,M,48\\r\\nRiley,M,47\\r\\nSherman,M,47\\r\\nGlenn,M,45\\r\\nJohnnie,M,45\\r\\nJuan,M,45\\r\\nMarcus,M,45\\r\\nOllie,M,45\\r\\nEnoch,M,44\\r\\nEzra,M,44\\r\\nMike,M,44\\r\\nSteve,M,44\\r\\nAmbrose,M,43\\r\\nArch,M,43\\r\\nDock,M,43\\r\\nHubert,M,43\\r\\nBill,M,42\\r\\nBurton,M,42\\r\\nEdmond,M,42\\r\\nEmory,M,42\\r\\nLuke,M,42\\r\\nOle,M,42\\r\\nElias,M,41\\r\\nAnderson,M,40\\r\\nBarney,M,40\\r\\nByron,M,40\\r\\nCyrus,M,40\\r\\nEdd,M,40\\r\\nJoshua,M,40\\r\\nMajor,M,40\\r\\nMiles,M,40\\r\\nChas,M,39\\r\\nClifton,M,39\\r\\nGustave,M,39\\r\\nNick,M,39\\r\\nTaylor,M,39\\r\\nBud,M,38\\r\\nJerome,M,38\\r\\nLucius,M,38\\r\\nBurt,M,37\\r\\nWard,M,37\\r\\nAbe,M,36\\r\\nHugo,M,36\\r\\nJulian,M,36\\r\\nMillard,M,36\\r\\nPreston,M,36\\r\\nTony,M,36\\r\\nCecil,M,35\\r\\nSeth,M,35\\r\\nBruce,M,34\\r\\nFletcher,M,34\\r\\nJeremiah,M,34\\r\\nGrant,M,33\\r\\nGreen,M,33\\r\\nNeal,M,33\\r\\nBennie,M,32\\r\\nConrad,M,32\\r\\nDee,M,32\\r\\nErvin,M,32\\r\\nGordon,M,32\\r\\nGrover,M,32\\r\\nIsaiah,M,32\\r\\nLorenzo,M,32\\r\\nPorter,M,32\\r\\nVan,M,32\\r\\nGlen,M,31\\r\\nJefferson,M,31\\r\\nLouie,M,31\\r\\nAbner,M,30\\r\\nAbram,M,30\\r\\nDudley,M,30\\r\\nLucian,M,30\\r\\nRoland,M,30\\r\\nVincent,M,30\\r\\nWayne,M,30\\r\\nArnold,M,29\\r\\nElisha,M,29\\r\\nElwood,M,29\\r\\nKarl,M,29\\r\\nKenneth,M,29\\r\\nMary,M,29\\r\\nMatt,M,29\\r\\nMyron,M,29\\r\\nPink,M,29\\r\\nRoger,M,29\\r\\nWilbert,M,29\\r\\nForrest,M,28\\r\\nIrwin,M,28\\r\\nJackson,M,28\\r\\nLaurence,M,28\\r\\nMadison,M,28\\r\\nSanford,M,28\\r\\nArchibald,M,27\\r\\nDelbert,M,27\\r\\nDonald,M,27\\r\\nLon,M,27\\r\\nStewart,M,27\\r\\nAntonio,M,26\\r\\nChauncey,M,26\\r\\nDon,M,26\\r\\nNoble,M,26\\r\\nOtho,M,26\\r\\nSpencer,M,26\\r\\nAvery,M,25\\r\\nDallas,M,25\\r\\nFreeman,M,25\\r\\nJonas,M,25\\r\\nLige,M,25\\r\\nNapoleon,M,25\\r\\nWalker,M,25\\r\\nZack,M,25\\r\\nBoyd,M,24\\r\\nClay,M,24\\r\\nDewitt,M,24\\r\\nEmmet,M,24\\r\\nEvan,M,24\\r\\nGeneral,M,24\\r\\nIsiah,M,24\\r\\nJosiah,M,24\\r\\nOmer,M,24\\r\\nPerley,M,24\\r\\nFerdinand,M,23\\r\\nHans,M,23\\r\\nIsrael,M,23\\r\\nJudson,M,23\\r\\nMorgan,M,23\\r\\nWaldo,M,23\\r\\nBerry,M,22\\r\\nCarroll,M,22\\r\\nClement,M,22\\r\\nElliott,M,22\\r\\nEzekiel,M,22\\r\\nFoster,M,22\\r\\nGust,M,22\\r\\nJason,M,22\\r\\nJosh,M,22\\r\\nJunius,M,22\\r\\nLoren,M,22\\r\\nWilfred,M,22\\r\\nAdolphus,M,21\\r\\nAllie,M,21\\r\\nBenjiman,M,21\\r\\nChrist,M,21\\r\\nDwight,M,21\\r\\nEarle,M,21\\r\\nFrancisco,M,21\\r\\nGiles,M,21\\r\\nGranville,M,21\\r\\nJonathan,M,21\\r\\nLafayette,M,21\\r\\nLeander,M,21\\r\\nLyman,M,21\\r\\nLynn,M,21\\r\\nRuben,M,21\\r\\nDick,M,20\\r\\nElvin,M,20\\r\\nEmerson,M,20\\r\\nEmile,M,20\\r\\nIsom,M,20\\r\\nJimmie,M,20\\r\\nKing,M,20\\r\\nMitchell,M,20\\r\\nOrrin,M,20\\r\\nPat,M,20\\r\\nRoyal,M,20\\r\\nSim,M,20\\r\\nTruman,M,20\\r\\nWashington,M,20\\r\\nAl,M,19\\r\\nCarlos,M,19\\r\\nLem,M,19\\r\\nMilo,M,19\\r\\nOren,M,19\\r\\nOrlando,M,19\\r\\nAllan,M,18\\r\\nArther,M,18\\r\\nCaleb,M,18\\r\\nCicero,M,18\\r\\nClem,M,18\\r\\nClint,M,18\\r\\nForest,M,18\\r\\nGustav,M,18\\r\\nHarmon,M,18\\r\\nIvan,M,18\\r\\nJordan,M,18\\r\\nNed,M,18\\r\\nNels,M,18\\r\\nPhil,M,18\\r\\nRandolph,M,18\\r\\nSmith,M,18\\r\\nTomas,M,18\\r\\nTurner,M,18\\r\\nUlysses,M,18\\r\\nVern,M,18\\r\\nWilford,M,18\\r\\nAddison,M,17\\r\\nAlford,M,17\\r\\nArt,M,17\\r\\nBenjamine,M,17\\r\\nDean,M,17\\r\\nEnos,M,17\\r\\nErwin,M,17\\r\\nGabriel,M,17\\r\\nIssac,M,17\\r\\nLucious,M,17\\r\\nMalcolm,M,17\\r\\nMerton,M,17\\r\\nMicheal,M,17\\r\\nPrince,M,17\\r\\nSimeon,M,17\\r\\nAnna,M,16\\r\\nCarlton,M,16\\r\\nColeman,M,16\\r\\nDouglas,M,16\\r\\nFinis,M,16\\r\\nHardy,M,16\\r\\nHosea,M,16\\r\\nJules,M,16\\r\\nRolla,M,16\\r\\nTobe,M,16\\r\\nWash,M,16\\r\\nAlmon,M,15\\r\\nAubrey,M,15\\r\\nBertram,M,15\\r\\nCasper,M,15\\r\\nEllsworth,M,15\\r\\nEphraim,M,15\\r\\nFay,M,15\\r\\nHamilton,M,15\\r\\nHarris,M,15\\r\\nHenery,M,15\\r\\nLou,M,15\\r\\nMat,M,15\\r\\nRollin,M,15\\r\\nSol,M,15\\r\\nSteven,M,15\\r\\nVerne,M,15\\r\\nWest,M,15\\r\\nWm,M,15\\r\\nAdelbert,M,14\\r\\nAlma,M,14\\r\\nAron,M,14\\r\\nAxel,M,14\\r\\nBennett,M,14\\r\\nBrown,M,14\\r\\nBuck,M,14\\r\\nColonel,M,14\\r\\nElton,M,14\\r\\nElza,M,14\\r\\nGerald,M,14\\r\\nIvy,M,14\\r\\nJohnie,M,14\\r\\nJudge,M,14\\r\\nLenard,M,14\\r\\nMinor,M,14\\r\\nMorton,M,14\\r\\nMurray,M,14\\r\\nNat,M,14\\r\\nNewell,M,14\\r\\nNorris,M,14\\r\\nPedro,M,14\\r\\nRollie,M,14\\r\\nSandy,M,14\\r\\nWilber,M,14\\r\\nWilburn,M,14\\r\\nWyatt,M,14\\r\\nDavis,M,13\\r\\nDell,M,13\\r\\nDoc,M,13\\r\\nFate,M,13\\r\\nFrederic,M,13\\r\\nHarlan,M,13\\r\\nHarve,M,13\\r\\nHenderson,M,13\\r\\nJohnny,M,13\\r\\nLogan,M,13\\r\\nMason,M,13\\r\\nMerle,M,13\\r\\nMerritt,M,13\\r\\nNoel,M,13\\r\\nValentine,M,13\\r\\nWellington,M,13\\r\\nAbel,M,12\\r\\nAdrian,M,12\\r\\nAlphonse,M,12\\r\\nCarter,M,12\\r\\nCary,M,12\\r\\nCleveland,M,12\\r\\nCrawford,M,12\\r\\nCurt,M,12\\r\\nDuncan,M,12\\r\\nEarly,M,12\\r\\nErnst,M,12\\r\\nFrances,M,12\\r\\nGene,M,12\\r\\nHal,M,12\\r\\nHamp,M,12\\r\\nHezekiah,M,12\\r\\nLawson,M,12\\r\\nLuis,M,12\\r\\nMathias,M,12\\r\\nOlin,M,12\\r\\nParker,M,12\\r\\nPleasant,M,12\\r\\nReginald,M,12\\r\\nRich,M,12\\r\\nSeymour,M,12\\r\\nSolon,M,12\\r\\nStuart,M,12\\r\\nThaddeus,M,12\\r\\nTim,M,12\\r\\nWinfred,M,12\\r\\nAlton,M,11\\r\\nAsbury,M,11\\r\\nBart,M,11\\r\\nBenton,M,11\\r\\nBeverly,M,11\\r\\nBirt,M,11\\r\\nBurl,M,11\\r\\nChin,M,11\\r\\nElihu,M,11\\r\\nErastus,M,11\\r\\nFord,M,11\\r\\nHampton,M,11\\r\\nHouston,M,11\\r\\nJohnson,M,11\\r\\nLen,M,11\\r\\nLonzo,M,11\\r\\nLoyd,M,11\\r\\nLucas,M,11\\r\\nLucien,M,11\\r\\nMiller,M,11\\r\\nMortimer,M,11\\r\\nOmar,M,11\\r\\nOrval,M,11\\r\\nPierre,M,11\\r\\nRaleigh,M,11\\r\\nRansom,M,11\\r\\nRush,M,11\\r\\nShelby,M,11\\r\\nTommie,M,11\\r\\nWilmer,M,11\\r\\nAlonza,M,10\\r\\nArtie,M,10\\r\\nBee,M,10\\r\\nBenjaman,M,10\\r\\nBradley,M,10\\r\\nCal,M,10\\r\\nCloyd,M,10\\r\\nDanial,M,10\\r\\nDexter,M,10\\r\\nEmmitt,M,10\\r\\nFinley,M,10\\r\\nGuss,M,10\\r\\nJune,M,10\\r\\nLacy,M,10\\r\\nLarkin,M,10\\r\\nMeyer,M,10\\r\\nMont,M,10\\r\\nNewt,M,10\\r\\nParis,M,10\\r\\nPleas,M,10\\r\\nRupert,M,10\\r\\nRussel,M,10\\r\\nSantiago,M,10\\r\\nSid,M,10\\r\\nSoloman,M,10\\r\\nThornton,M,10\\r\\nWalton,M,10\\r\\nWarner,M,10\\r\\nWatson,M,10\\r\\nWillam,M,10\\r\\nWylie,M,10\\r\\nZeb,M,10\\r\\nAllison,M,9\\r\\nAlpha,M,9\\r\\nAngus,M,9\\r\\nAnson,M,9\\r\\nAsberry,M,9\\r\\nBasil,M,9\\r\\nBertie,M,9\\r\\nBerton,M,9\\r\\nBryant,M,9\\r\\nBuford,M,9\\r\\nByrd,M,9\\r\\nCassius,M,9\\r\\nClair,M,9\\r\\nCornelious,M,9\\r\\nDana,M,9\\r\\nDeforest,M,9\\r\\nDenis,M,9\\r\\nDillard,M,9\\r\\nDolph,M,9\\r\\nDorsey,M,9\\r\\nEdith,M,9\\r\\nEldridge,M,9\\r\\nElmo,M,9\\r\\nEmma,M,9\\r\\nEric,M,9\\r\\nFreddie,M,9\\r\\nGeo,M,9\\r\\nGodfrey,M,9\\r\\nHarper,M,9\\r\\nHaywood,M,9\\r\\nJean,M,9\\r\\nJule,M,9\\r\\nLambert,M,9\\r\\nLeland,M,9\\r\\nLew,M,9\\r\\nMargaret,M,9\\r\\nMarshal,M,9\\r\\nMiguel,M,9\\r\\nMilford,M,9\\r\\nOcie,M,9\\r\\nOlen,M,9\\r\\nOrange,M,9\\r\\nOrin,M,9\\r\\nOttis,M,9\\r\\nPark,M,9\\r\\nPinkney,M,9\\r\\nPles,M,9\\r\\nPress,M,9\\r\\nRafael,M,9\\r\\nRamon,M,9\\r\\nRandall,M,9\\r\\nReece,M,9\\r\\nRoe,M,9\\r\\nRube,M,9\\r\\nThad,M,9\\r\\nVivian,M,9\\r\\nWillian,M,9\\r\\nYoung,M,9\\r\\nAloysius,M,8\\r\\nAmbers,M,8\\r\\nArcher,M,8\\r\\nBailey,M,8\\r\\nBartholomew,M,8\\r\\nBessie,M,8\\r\\nBillie,M,8\\r\\nBishop,M,8\\r\\nCarey,M,8\\r\\nCollins,M,8\\r\\nConnie,M,8\\r\\nDrew,M,8\\r\\nElbridge,M,8\\r\\nEldon,M,8\\r\\nElvis,M,8\\r\\nEly,M,8\\r\\nFritz,M,8\\r\\nGaston,M,8\\r\\nGuadalupe,M,8\\r\\nHartwell,M,8\\r\\nHerschel,M,8\\r\\nIsadore,M,8\\r\\nJesus,M,8\\r\\nKelly,M,8\\r\\nKnox,M,8\\r\\nLarry,M,8\\r\\nLindsay,M,8\\r\\nLlewellyn,M,8\\r\\nLue,M,8\\r\\nManning,M,8\\r\\nMarcellus,M,8\\r\\nMervin,M,8\\r\\nMinnie,M,8\\r\\nOdie,M,8\\r\\nOla,M,8\\r\\nPalmer,M,8\\r\\nReed,M,8\\r\\nReese,M,8\\r\\nSampson,M,8\\r\\nSamual,M,8\\r\\nSanders,M,8\\r\\nSquire,M,8\\r\\nSterling,M,8\\r\\nSumner,M,8\\r\\nTheo,M,8\\r\\nThos,M,8\\r\\nTodd,M,8\\r\\nTommy,M,8\\r\\nUnknown,M,8\\r\\nWatt,M,8\\r\\nWendell,M,8\\r\\nWirt,M,8\\r\\nWong,M,8\\r\\nWoodie,M,8\\r\\nAddie,M,7\\r\\nAlbion,M,7\\r\\nAlec,M,7\\r\\nAlice,M,7\\r\\nAlphonso,M,7\\r\\nAlvis,M,7\\r\\nAmmon,M,7\\r\\nAuther,M,7\\r\\nBallard,M,7\\r\\nBarton,M,7\\r\\nBoss,M,7\\r\\nBurley,M,7\\r\\nCas,M,7\\r\\nCass,M,7\\r\\nChalmer,M,7\\r\\nChesley,M,7\\r\\nCora,M,7\\r\\nCoy,M,7\\r\\nDenton,M,7\\r\\nDoss,M,7\\r\\nEdson,M,7\\r\\nEgbert,M,7\\r\\nElder,M,7\\r\\nElie,M,7\\r\\nElsworth,M,7\\r\\nElzie,M,7\\r\\nErving,M,7\\r\\nEvans,M,7\\r\\nEvert,M,7\\r\\nFlorence,M,7\\r\\nFredric,M,7\\r\\nFurman,M,7\\r\\nGarland,M,7\\r\\nGarrett,M,7\\r\\nGideon,M,7\\r\\nHalsey,M,7\\r\\nHandy,M,7\\r\\nHelen,M,7\\r\\nHoratio,M,7\\r\\nHyrum,M,7\\r\\nIsham,M,7\\r\\nJustin,M,7\\r\\nLeopold,M,7\\r\\nLevy,M,7\\r\\nLindsey,M,7\\r\\nLum,M,7\\r\\nMac,M,7\\r\\nMahlon,M,7\\r\\nMart,M,7\\r\\nMerrill,M,7\\r\\nNellie,M,7\\r\\nOda,M,7\\r\\nOlaf,M,7\\r\\nOran,M,7\\r\\nOrson,M,7\\r\\nPearlie,M,7\\r\\nPercival,M,7\\r\\nPierce,M,7\\r\\nPlummer,M,7\\r\\nPresley,M,7\\r\\nPrice,M,7\\r\\nQuincy,M,7\\r\\nRex,M,7\\r\\nRollo,M,7\\r\\nRoswell,M,7\\r\\nRuffus,M,7\\r\\nSheldon,M,7\\r\\nShirley,M,7\\r\\nTed,M,7\\r\\nTilman,M,7\\r\\nVance,M,7\\r\\nWilliams,M,7\\r\\nWorth,M,7\\r\\nYork,M,7\\r\\nAcie,M,6\\r\\nAlden,M,6\\r\\nAlfonso,M,6\\r\\nAlois,M,6\\r\\nAlvah,M,6\\r\\nAlvie,M,6\\r\\nAndres,M,6\\r\\nAsher,M,6\\r\\nAshley,M,6\\r\\nAshton,M,6\\r\\nAugustine,M,6\\r\\nBaxter,M,6\\r\\nBernhard,M,6\\r\\nBertrand,M,6\\r\\nBilly,M,6\\r\\nBird,M,6\\r\\nBlaine,M,6\\r\\nBruno,M,6\\r\\nBurke,M,6\\r\\nCap,M,6\\r\\nCarrie,M,6\\r\\nCarson,M,6\\r\\nCasimiro,M,6\\r\\nCollie,M,6\\r\\nCurley,M,6\\r\\nDale,M,6\\r\\nDixon,M,6\\r\\nDominick,M,6\\r\\nEnnis,M,6\\r\\nErasmus,M,6\\r\\nFerd,M,6\\r\\nGarret,M,6\\r\\nGary,M,6\\r\\nGee,M,6\\r\\nGerrit,M,6\\r\\nGregory,M,6\\r\\nGriffin,M,6\\r\\nHall,M,6\\r\\nHeber,M,6\\r\\nHector,M,6\\r\\nHermann,M,6\\r\\nHosteen,M,6\\r\\nHowell,M,6\\r\\nHuey,M,6\\r\\nHumphrey,M,6\\r\\nHunter,M,6\\r\\nHurley,M,6\\r\\nIsidore,M,6\\r\\nIvey,M,6\\r\\nJones,M,6\\r\\nLafe,M,6\\r\\nLonie,M,6\\r\\nLorenza,M,6\\r\\nLyle,M,6\\r\\nMarian,M,6\\r\\nMaud,M,6\\r\\nMaude,M,6\\r\\nMelville,M,6\\r\\nMurphy,M,6\\r\\nNeil,M,6\\r\\nObe,M,6\\r\\nObie,M,6\\r\\nOrla,M,6\\r\\nOrlo,M,6\\r\\nOrrie,M,6\\r\\nOswald,M,6\\r\\nOtha,M,6\\r\\nRichmond,M,6\\r\\nRodney,M,6\\r\\nRutherford,M,6\\r\\nSebastian,M,6\\r\\nStanton,M,6\\r\\nStarling,M,6\\r\\nStonewall,M,6\\r\\nSydney,M,6\\r\\nThurman,M,6\\r\\nTolbert,M,6\\r\\nToney,M,6\\r\\nTroy,M,6\\r\\nUriah,M,6\\r\\nVernie,M,6\\r\\nWeaver,M,6\\r\\nWebb,M,6\\r\\nWhit,M,6\\r\\nYee,M,6\\r\\nAdrien,M,5\\r\\nAlbin,M,5\\r\\nAlf,M,5\\r\\nAlto,M,5\\r\\nAngelo,M,5\\r\\nAnnie,M,5\\r\\nAntone,M,5\\r\\nArden,M,5\\r\\nArlington,M,5\\r\\nAtticus,M,5\\r\\nAugustin,M,5\\r\\nAuthor,M,5\\r\\nAuthur,M,5\\r\\nBedford,M,5\\r\\nBelton,M,5\\r\\nBertha,M,5\\r\\nBlair,M,5\\r\\nBurrell,M,5\\r\\nBuster,M,5\\r\\nCaesar,M,5\\r\\nCallie,M,5\\r\\nCampbell,M,5\\r\\nChamp,M,5\\r\\nClara,M,5\\r\\nClarance,M,5\\r\\nClarke,M,5\\r\\nCliff,M,5\\r\\nColey,M,5\\r\\nColin,M,5\\r\\nConway,M,5\\r\\nCraig,M,5\\r\\nDalton,M,5\\r\\nDarrell,M,5\\r\\nDarwin,M,5\\r\\nDelmar,M,5\\r\\nDennie,M,5\\r\\nDolphus,M,5\\r\\nDuke,M,5\\r\\nEbb,M,5\\r\\nEbbie,M,5\\r\\nEber,M,5\\r\\nEdna,M,5\\r\\nEllison,M,5\\r\\nElmore,M,5\\r\\nElonzo,M,5\\r\\nEmit,M,5\\r\\nEmry,M,5\\r\\nEphram,M,5\\r\\nEsequiel,M,5\\r\\nEssie,M,5\\r\\nEsta,M,5\\r\\nEthel,M,5\\r\\nEvertt,M,5\\r\\nFayette,M,5\\r\\nFlem,M,5\\r\\nFleming,M,5\\r\\nGabe,M,5\\r\\nGarner,M,5\\r\\nGarnett,M,5\\r\\nGolden,M,5\\r\\nGraham,M,5\\r\\nGregg,M,5\\r\\nGustaf,M,5\\r\\nGustavus,M,5\\r\\nHalbert,M,5\\r\\nHardie,M,5\\r\\nHardin,M,5\\r\\nHarvie,M,5\\r\\nHarvy,M,5\\r\\nHayes,M,5\\r\\nHilliard,M,5\\r\\nHollis,M,5\\r\\nHubbard,M,5\\r\\nHudson,M,5\\r\\nIda,M,5\\r\\nJared,M,5\\r\\nJere,M,5\\r\\nJoesph,M,5\\r\\nJohnathan,M,5\\r\\nJonah,M,5\\r\\nJulious,M,5\\r\\nJuluis,M,5\\r\\nJustus,M,5\\r\\nKirby,M,5\\r\\nKyle,M,5\\r\\nLane,M,5\\r\\nLawerence,M,5\\r\\nLayton,M,5\\r\\nLess,M,5\\r\\nLincoln,M,5\\r\\nLinwood,M,5\\r\\nLouise,M,5\\r\\nLowell,M,5\\r\\nLoy,M,5\\r\\nLucy,M,5\\r\\nMalachi,M,5\\r\\nManly,M,5\\r\\nMannie,M,5\\r\\nMarcel,M,5\\r\\nMarius,M,5\\r\\nMarrion,M,5\\r\\nMath,M,5\\r\\nMercer,M,5\\r\\nMonte,M,5\\r\\nMontgomery,M,5\\r\\nNolan,M,5\\r\\nOkey,M,5\\r\\nOrley,M,5\\r\\nPage,M,5\\r\\nPhilo,M,5\\r\\nPrimus,M,5\\r\\nProsper,M,5\\r\\nPryor,M,5\\r\\nRene,M,5\\r\\nRobin,M,5\\r\\nRoll,M,5\\r\\nRolland,M,5\\r\\nSeward,M,5\\r\\nShannon,M,5\\r\\nTalmage,M,5\\r\\nUrban,M,5\\r\\nVaughn,M,5\\r\\nVerner,M,5\\r\\nWaverly,M,5\\r\\nWebster,M,5\\r\\nWeldon,M,5\\r\\nWells,M,5\\r\\nWiliam,M,5\\r\\nWilton,M,5\\r\\nWing,M,5\\r\\nWood,M,5\\r\\nWright,M,5\\r\\nMary,F,8148\\r\\nAnna,F,3143\\r\\nEmma,F,2303\\r\\nElizabeth,F,2187\\r\\nMinnie,F,2004\\r\\nMargaret,F,1821\\r\\nIda,F,1673\\r\\nAlice,F,1542\\r\\nBertha,F,1508\\r\\nAnnie,F,1492\\r\\nClara,F,1490\\r\\nSarah,F,1410\\r\\nFlorence,F,1322\\r\\nMartha,F,1229\\r\\nElla,F,1206\\r\\nGrace,F,1195\\r\\nLaura,F,1151\\r\\nBessie,F,1144\\r\\nNellie,F,1138\\r\\nMaude,F,1089\\r\\nCora,F,1076\\r\\nCarrie,F,1037\\r\\nMabel,F,997\\r\\nEthel,F,989\\r\\nMattie,F,966\\r\\nGertrude,F,939\\r\\nJennie,F,934\\r\\nRose,F,886\\r\\nEdith,F,876\\r\\nHattie,F,859\\r\\nHelen,F,838\\r\\nLillian,F,830\\r\\nPearl,F,824\\r\\nLouise,F,813\\r\\nJulia,F,811\\r\\nLillie,F,810\\r\\nJessie,F,806\\r\\nMyrtle,F,803\\r\\nEdna,F,783\\r\\nLula,F,780\\r\\nEva,F,765\\r\\nCatherine,F,726\\r\\nLena,F,697\\r\\nAda,F,689\\r\\nFrances,F,681\\r\\nLucy,F,673\\r\\nFannie,F,650\\r\\nDaisy,F,648\\r\\nJosephine,F,638\\r\\nMaggie,F,627\\r\\nDora,F,594\\r\\nKatherine,F,591\\r\\nMarie,F,591\\r\\nAgnes,F,565\\r\\nEffie,F,561\\r\\nBlanche,F,547\\r\\nRosa,F,542\\r\\nNora,F,539\\r\\nMay,F,511\\r\\nMamie,F,508\\r\\nStella,F,506\\r\\nLizzie,F,495\\r\\nSallie,F,487\\r\\nEllen,F,452\\r\\nElsie,F,448\\r\\nDella,F,447\\r\\nNancy,F,439\\r\\nNettie,F,439\\r\\nMaud,F,432\\r\\nSusie,F,412\\r\\nMae,F,406\\r\\nSadie,F,391\\r\\nFlora,F,380\\r\\nAlma,F,368\\r\\nEtta,F,352\\r\\nLydia,F,342\\r\\nAddie,F,341\\r\\nKatie,F,327\\r\\nSusan,F,326\\r\\nRuth,F,323\\r\\nGeorgia,F,320\\r\\nLottie,F,319\\r\\nViola,F,310\\r\\nMollie,F,305\\r\\nCaroline,F,304\\r\\nNannie,F,299\\r\\nKate,F,293\\r\\nOlive,F,291\\r\\nWillie,F,291\\r\\nHarriet,F,289\\r\\nAmanda,F,288\\r\\nEliza,F,280\\r\\nLulu,F,279\\r\\nVirginia,F,274\\r\\nEmily,F,272\\r\\nKathryn,F,272\\r\\nEsther,F,266\\r\\nBelle,F,264\\r\\nRebecca,F,259\\r\\nCharlotte,F,257\\r\\nJane,F,254\\r\\nAmelia,F,252\\r\\nMatilda,F,242\\r\\nIrene,F,232\\r\\nOllie,F,218\\r\\nHannah,F,214\\r\\nHenrietta,F,211\\r\\nPauline,F,204\\r\\nRachel,F,203\\r\\nEstella,F,198\\r\\nAmy,F,196\\r\\nBeulah,F,190\\r\\nAugusta,F,183\\r\\nOra,F,181\\r\\nSara,F,180\\r\\nSophia,F,179\\r\\nEleanor,F,174\\r\\nLola,F,174\\r\\nMildred,F,172\\r\\nNina,F,171\\r\\nTheresa,F,170\\r\\nJosie,F,169\\r\\nAnne,F,168\\r\\nLeona,F,163\\r\\nAnn,F,150\\r\\nDelia,F,143\\r\\nLela,F,143\\r\\nMarion,F,141\\r\\nMayme,F,140\\r\\nRosie,F,140\\r\\nBettie,F,136\\r\\nRuby,F,136\\r\\nIva,F,134\\r\\nJanie,F,134\\r\\nEstelle,F,133\\r\\nVictoria,F,132\\r\\nLou,F,131\\r\\nBarbara,F,130\\r\\nCallie,F,129\\r\\nLouisa,F,128\\r\\nCelia,F,126\\r\\nEvelyn,F,125\\r\\nMable,F,125\\r\\nBeatrice,F,123\\r\\nBetty,F,123\\r\\nMillie,F,122\\r\\nMaria,F,121\\r\\nAlta,F,119\\r\\nLuella,F,117\\r\\nDorothy,F,115\\r\\nAllie,F,113\\r\\nBirdie,F,113\\r\\nEssie,F,113\\r\\nOla,F,113\\r\\nSophie,F,110\\r\\nInez,F,106\\r\\nIna,F,104\\r\\nTillie,F,104\\r\\nNell,F,103\\r\\nRena,F,103\\r\\nDollie,F,99\\r\\nBertie,F,96\\r\\nEula,F,95\\r\\nLelia,F,95\\r\\nSally,F,95\\r\\nLucinda,F,93\\r\\nCornelia,F,91\\r\\nHarriett,F,91\\r\\nAlberta,F,90\\r\\nMyra,F,89\\r\\nLucille,F,85\\r\\nSue,F,84\\r\\nLeila,F,83\\r\\nWinifred,F,83\\r\\nKatharine,F,82\\r\\nIsabelle,F,81\\r\\nAbbie,F,80\\r\\nRhoda,F,79\\r\\nSylvia,F,79\\r\\nBess,F,76\\r\\nMina,F,76\\r\\nVerna,F,76\\r\\nChristine,F,75\\r\\nElva,F,75\\r\\nEunice,F,75\\r\\nAdelaide,F,74\\r\\nGenevieve,F,74\\r\\nJohanna,F,74\\r\\nWinnie,F,74\\r\\nEugenia,F,73\\r\\nHazel,F,73\\r\\nHettie,F,73\\r\\nLida,F,73\\r\\nIsabel,F,72\\r\\nLoretta,F,72\\r\\nRoxie,F,72\\r\\nAdeline,F,70\\r\\nGussie,F,70\\r\\nLenora,F,70\\r\\nLilly,F,70\\r\\nLettie,F,68\\r\\nMathilda,F,68\\r\\nHulda,F,67\\r\\nVera,F,67\\r\\nGertie,F,65\\r\\nLila,F,65\\r\\nLucretia,F,65\\r\\nAdele,F,64\\r\\nChristina,F,64\\r\\nJeanette,F,64\\r\\nLois,F,64\\r\\nMyrtie,F,64\\r\\nOlga,F,64\\r\\nHester,F,63\\r\\nLily,F,63\\r\\nMittie,F,63\\r\\nCarolyn,F,62\\r\\nHallie,F,62\\r\\nPhoebe,F,62\\r\\nWilhelmina,F,62\\r\\nElnora,F,60\\r\\nHelena,F,60\\r\\nJean,F,60\\r\\nJeannette,F,60\\r\\nNelle,F,59\\r\\nHilda,F,58\\r\\nIrma,F,58\\r\\nLucile,F,58\\r\\nBernice,F,57\\r\\nLeah,F,56\\r\\nMinerva,F,56\\r\\nOphelia,F,56\\r\\nCecelia,F,55\\r\\nLora,F,55\\r\\nFrancis,F,54\\r\\nNaomi,F,54\\r\\nSelma,F,54\\r\\nAlvina,F,53\\r\\nMarguerite,F,52\\r\\nOlivia,F,52\\r\\nVirgie,F,52\\r\\nLouella,F,51\\r\\nMeta,F,51\\r\\nFrieda,F,50\\r\\nTeresa,F,50\\r\\nZella,F,50\\r\\nClaudia,F,49\\r\\nFanny,F,49\\r\\nViolet,F,48\\r\\nDessie,F,47\\r\\nElma,F,47\\r\\nGeneva,F,47\\r\\nGeorgie,F,47\\r\\nLeola,F,47\\r\\nLura,F,47\\r\\nSudie,F,47\\r\\nGladys,F,46\\r\\nIvy,F,46\\r\\nCynthia,F,45\\r\\nEmilie,F,45\\r\\nRosetta,F,45\\r\\nCassie,F,44\\r\\nIsabella,F,44\\r\\nLilla,F,44\\r\\nCatharine,F,43\\r\\nLee,F,43\\r\\nMalinda,F,43\\r\\nRegina,F,43\\r\\nFreda,F,42\\r\\nMarian,F,42\\r\\nGoldie,F,41\\r\\nLina,F,41\\r\\nLinnie,F,41\\r\\nMadge,F,41\\r\\nMandy,F,41\\r\\nMelissa,F,41\\r\\nPolly,F,41\\r\\nJohn,F,40\\r\\nKittie,F,40\\r\\nLetha,F,40\\r\\nMabelle,F,40\\r\\nMarjorie,F,40\\r\\nMiriam,F,40\\r\\nRosalie,F,40\\r\\nCordelia,F,39\\r\\nMargret,F,39\\r\\nBell,F,38\\r\\nLyda,F,38\\r\\nMertie,F,38\\r\\nCecilia,F,37\\r\\nEllie,F,37\\r\\nNola,F,37\\r\\nNona,F,37\\r\\nDolly,F,36\\r\\nLinda,F,36\\r\\nAntoinette,F,35\\r\\nJanet,F,35\\r\\nPriscilla,F,35\\r\\nRoberta,F,35\\r\\nAngie,F,34\\r\\nErnestine,F,34\\r\\nFay,F,34\\r\\nGeorgianna,F,34\\r\\nLorena,F,34\\r\\nOrpha,F,34\\r\\nArtie,F,33\\r\\nChloe,F,33\\r\\nCorinne,F,33\\r\\nFlossie,F,33\\r\\nLona,F,33\\r\\nMagdalena,F,33\\r\\nOma,F,33\\r\\nTennie,F,33\\r\\nGeorge,F,32\\r\\nNorma,F,32\\r\\nZora,F,32\\r\\nBridget,F,31\\r\\nDovie,F,31\\r\\nEda,F,31\\r\\nElvira,F,31\\r\\nErma,F,31\\r\\nWilliam,F,31\\r\\nCharity,F,30\\r\\nClaire,F,30\\r\\nMolly,F,30\\r\\nAlpha,F,29\\r\\nAngeline,F,29\\r\\nElisabeth,F,29\\r\\nElise,F,29\\r\\nElsa,F,29\\r\\nKathrine,F,29\\r\\nLeora,F,29\\r\\nMadeline,F,29\\r\\nMaybelle,F,29\\r\\nVina,F,29\\r\\nAntonia,F,28\\r\\nDona,F,28\\r\\nEvie,F,28\\r\\nPearle,F,28\\r\\nTina,F,28\\r\\nAdah,F,27\\r\\nAnnette,F,27\\r\\nBlanch,F,27\\r\\nCecile,F,27\\r\\nHarriette,F,27\\r\\nLue,F,27\\r\\nVivian,F,27\\r\\nBerta,F,26\\r\\nFern,F,26\\r\\nFloy,F,26\\r\\nLavina,F,26\\r\\nIla,F,25\\r\\nJuanita,F,25\\r\\nLessie,F,25\\r\\nMahala,F,25\\r\\nMelvina,F,25\\r\\nPhebe,F,25\\r\\nTena,F,25\\r\\nZoe,F,25\\r\\nAlmeda,F,24\\r\\nAngela,F,24\\r\\nCecil,F,24\\r\\nClementine,F,24\\r\\nEdythe,F,24\\r\\nHanna,F,24\\r\\nJohnnie,F,24\\r\\nLilian,F,24\\r\\nNan,F,24\\r\\nPearlie,F,24\\r\\nVeronica,F,24\\r\\nVinnie,F,24\\r\\nAdelia,F,23\\r\\nCharles,F,23\\r\\nKathleen,F,23\\r\\nPattie,F,23\\r\\nPinkie,F,23\\r\\nRetta,F,23\\r\\nAnnabelle,F,22\\r\\nConstance,F,22\\r\\nIona,F,22\\r\\nIsabell,F,22\\r\\nJimmie,F,22\\r\\nJulie,F,22\\r\\nJune,F,22\\r\\nLucie,F,22\\r\\nMariah,F,22\\r\\nNeva,F,22\\r\\nSusanna,F,22\\r\\nAgatha,F,21\\r\\nAva,F,21\\r\\nClare,F,21\\r\\nFrankie,F,21\\r\\nLeota,F,21\\r\\nLotta,F,21\\r\\nLudie,F,21\\r\\nMarcella,F,21\\r\\nMargie,F,21\\r\\nMinna,F,21\\r\\nMissouri,F,21\\r\\nMyrta,F,21\\r\\nOctavia,F,21\\r\\nRita,F,21\\r\\nVesta,F,21\\r\\nVida,F,21\\r\\nZelma,F,21\\r\\nZula,F,21\\r\\nAnita,F,20\\r\\nDixie,F,20\\r\\nEttie,F,20\\r\\nFaye,F,20\\r\\nGeorgiana,F,20\\r\\nHelene,F,20\\r\\nLennie,F,20\\r\\nLucia,F,20\\r\\nMaudie,F,20\\r\\nOttilie,F,20\\r\\nSavannah,F,20\\r\\nBonnie,F,19\\r\\nClyde,F,19\\r\\nDonna,F,19\\r\\nGracie,F,19\\r\\nJannie,F,19\\r\\nKitty,F,19\\r\\nLenore,F,19\\r\\nLeonora,F,19\\r\\nLetitia,F,19\\r\\nLouie,F,19\\r\\nRilla,F,19\\r\\nSena,F,19\\r\\nTessie,F,19\\r\\nAdella,F,18\\r\\nAlida,F,18\\r\\nAltha,F,18\\r\\nAurelia,F,18\\r\\nBetsy,F,18\\r\\nCleo,F,18\\r\\nDonnie,F,18\\r\\nJames,F,18\\r\\nLavinia,F,18\\r\\nMeda,F,18\\r\\nNevada,F,18\\r\\nOna,F,18\\r\\nRosella,F,18\\r\\nUna,F,18\\r\\nWinnifred,F,18\\r\\nAdda,F,17\\r\\nAdela,F,17\\r\\nDaisie,F,17\\r\\nElmira,F,17\\r\\nEmelia,F,17\\r\\nHenry,F,17\\r\\nMarietta,F,17\\r\\nMazie,F,17\\r\\nPatsy,F,17\\r\\nRae,F,17\\r\\nVelma,F,17\\r\\nZona,F,17\\r\\nAdaline,F,16\\r\\nBella,F,16\\r\\nClemmie,F,16\\r\\nCorrie,F,16\\r\\nDoris,F,16\\r\\nEddie,F,16\\r\\nHilma,F,16\\r\\nHortense,F,16\\r\\nIndia,F,16\\r\\nIola,F,16\\r\\nJenny,F,16\\r\\nLiddie,F,16\\r\\nLiza,F,16\\r\\nMatie,F,16\\r\\nMellie,F,16\\r\\nMinta,F,16\\r\\nVada,F,16\\r\\nArminta,F,15\\r\\nDeborah,F,15\\r\\nDorothea,F,15\\r\\nEthelyn,F,15\\r\\nIone,F,15\\r\\nJettie,F,15\\r\\nJoanna,F,15\\r\\nJoe,F,15\\r\\nLeta,F,15\\r\\nLibbie,F,15\\r\\nLuvenia,F,15\\r\\nMuriel,F,15\\r\\nNatalie,F,15\\r\\nRay,F,15\\r\\nRosanna,F,15\\r\\nSamantha,F,15\\r\\nTilda,F,15\\r\\nWilla,F,15\\r\\nAbigail,F,14\\r\\nArvilla,F,14\\r\\nChristena,F,14\\r\\nHarry,F,14\\r\\nLenna,F,14\\r\\nLissie,F,14\\r\\nLutie,F,14\\r\\nMathilde,F,14\\r\\nSerena,F,14\\r\\nSophronia,F,14\\r\\nTempie,F,14\\r\\nVerda,F,14\\r\\nVernie,F,14\\r\\nWilma,F,14\\r\\nAimee,F,13\\r\\nAlva,F,13\\r\\nAmerica,F,13\\r\\nArizona,F,13\\r\\nAura,F,13\\r\\nCathrine,F,13\\r\\nClarissa,F,13\\r\\nConnie,F,13\\r\\nDena,F,13\\r\\nEmeline,F,13\\r\\nEmmer,F,13\\r\\nEvalyn,F,13\\r\\nInga,F,13\\r\\nLonnie,F,13\\r\\nMalvina,F,13\\r\\nMintie,F,13\\r\\nNorah,F,13\\r\\nOcie,F,13\\r\\nOpal,F,13\\r\\nRowena,F,13\\r\\nTheresia,F,13\\r\\nTressie,F,13\\r\\nVena,F,13\\r\\nBesse,F,12\\r\\nCamilla,F,12\\r\\nCorine,F,12\\r\\nDee,F,12\\r\\nDorcas,F,12\\r\\nEaster,F,12\\r\\nElda,F,12\\r\\nElizebeth,F,12\\r\\nEloise,F,12\\r\\nErna,F,12\\r\\nEtna,F,12\\r\\nEugenie,F,12\\r\\nGena,F,12\\r\\nGeraldine,F,12\\r\\nHedwig,F,12\\r\\nHuldah,F,12\\r\\nIdella,F,12\\r\\nImogene,F,12\\r\\nIsa,F,12\\r\\nJeanne,F,12\\r\\nLauretta,F,12\\r\\nLoula,F,12\\r\\nMagdalene,F,12\\r\\nMallie,F,12\\r\\nMame,F,12\\r\\nMargery,F,12\\r\\nOnie,F,12\\r\\nRobert,F,12\\r\\nSuzanne,F,12\\r\\nThomas,F,12\\r\\nAbby,F,11\\r\\nAlthea,F,11\\r\\nAmalia,F,11\\r\\nAnastasia,F,11\\r\\nAngelina,F,11\\r\\nAnnetta,F,11\\r\\nArie,F,11\\r\\nArrie,F,11\\r\\nBeryl,F,11\\r\\nClaudie,F,11\\r\\nCorda,F,11\\r\\nCordia,F,11\\r\\nDicie,F,11\\r\\nDocia,F,11\\r\\nDonie,F,11\\r\\nEleanora,F,11\\r\\nEmelie,F,11\\r\\nEmmie,F,11\\r\\nFlorida,F,11\\r\\nFrank,F,11\\r\\nIrena,F,11\\r\\nIvah,F,11\\r\\nJoan,F,11\\r\\nJosiephine,F,11\\r\\nLelah,F,11\\r\\nLeone,F,11\\r\\nLovie,F,11\\r\\nMadie,F,11\\r\\nManda,F,11\\r\\nMerle,F,11\\r\\nMona,F,11\\r\\nNella,F,11\\r\\nPansy,F,11\\r\\nQueen,F,11\\r\\nQueenie,F,11\\r\\nSybil,F,11\\r\\nAnnabel,F,10\\r\\nAra,F,10\\r\\nAttie,F,10\\r\\nBird,F,10\\r\\nBulah,F,10\\r\\nCarolina,F,10\\r\\nDelilah,F,10\\r\\nDell,F,10\\r\\nDellar,F,10\\r\\nDelphine,F,10\\r\\nDolores,F,10\\r\\nDottie,F,10\\r\\nEdyth,F,10\\r\\nElinor,F,10\\r\\nEsta,F,10\\r\\nEster,F,10\\r\\nGenie,F,10\\r\\nGretchen,F,10\\r\\nHermina,F,10\\r\\nIcy,F,10\\r\\nJewel,F,10\\r\\nJosefa,F,10\\r\\nKatheryn,F,10\\r\\nLeanna,F,10\\r\\nLoma,F,10\\r\\nMarcia,F,10\\r\\nMarinda,F,10\\r\\nMelinda,F,10\\r\\nMetta,F,10\\r\\nNelly,F,10\\r\\nOdessa,F,10\\r\\nOdie,F,10\\r\\nPhilomena,F,10\\r\\nSula,F,10\\r\\nTennessee,F,10\\r\\nTheo,F,10\\r\\nTressa,F,10\\r\\nWanda,F,10\\r\\nAline,F,9\\r\\nAmie,F,9\\r\\nAvis,F,9\\r\\nCeleste,F,9\\r\\nCordie,F,9\\r\\nDosha,F,9\\r\\nEller,F,9\\r\\nElvina,F,9\\r\\nEthyl,F,9\\r\\nEulalia,F,9\\r\\nEvangeline,F,9\\r\\nFaith,F,9\\r\\nFelicia,F,9\\r\\nFlorance,F,9\\r\\nFred,F,9\\r\\nFrona,F,9\\r\\nGlennie,F,9\\r\\nHassie,F,9\\r\\nHenriette,F,9\\r\\nHetty,F,9\\r\\nIsadora,F,9\\r\\nJuliette,F,9\\r\\nKathryne,F,9\\r\\nKizzie,F,9\\r\\nLavada,F,9\\r\\nLeslie,F,9\\r\\nLuetta,F,9\\r\\nNanie,F,9\\r\\nNena,F,9\\r\\nNonie,F,9\\r\\nOttie,F,9\\r\\nPaulina,F,9\\r\\nPennie,F,9\\r\\nPetra,F,9\\r\\nReba,F,9\\r\\nRosemary,F,9\\r\\nShirley,F,9\\r\\nSidney,F,9\\r\\nUrsula,F,9\\r\\nVallie,F,9\\r\\nViva,F,9\\r\\nWinona,F,9\\r\\nZada,F,9\\r\\nZola,F,9\\r\\nAudie,F,8\\r\\nAugustine,F,8\\r\\nAurora,F,8\\r\\nBeckie,F,8\\r\\nBuna,F,8\\r\\nCaldonia,F,8\\r\\nCalla,F,8\\r\\nCandace,F,8\\r\\nCarlotta,F,8\\r\\nClarice,F,8\\r\\nClaude,F,8\\r\\nCorrine,F,8\\r\\nCrete,F,8\\r\\nDessa,F,8\\r\\nDiana,F,8\\r\\nDinah,F,8\\r\\nEdla,F,8\\r\\nEleonora,F,8\\r\\nElfrieda,F,8\\r\\nElisa,F,8\\r\\nElmina,F,8\\r\\nElta,F,8\\r\\nElvie,F,8\\r\\nEmilia,F,8\\r\\nEstell,F,8\\r\\nEvaline,F,8\\r\\nEveline,F,8\\r\\nFlorrie,F,8\\r\\nFronia,F,8\\r\\nGail,F,8\\r\\nIra,F,8\\r\\nIzora,F,8\\r\\nJessica,F,8\\r\\nJodie,F,8\\r\\nJohannah,F,8\\r\\nJudith,F,8\\r\\nKattie,F,8\\r\\nLuisa,F,8\\r\\nManuela,F,8\\r\\nMettie,F,8\\r\\nMyrtis,F,8\\r\\nNelia,F,8\\r\\nNita,F,8\\r\\nOsa,F,8\\r\\nOva,F,8\\r\\nParalee,F,8\\r\\nParthenia,F,8\\r\\nPhyllis,F,8\\r\\nRachael,F,8\\r\\nRettie,F,8\\r\\nRosalia,F,8\\r\\nRosia,F,8\\r\\nRosina,F,8\\r\\nRoxanna,F,8\\r\\nTheodosia,F,8\\r\\nTiny,F,8\\r\\nTommie,F,8\\r\\nTrudie,F,8\\r\\nVerona,F,8\\r\\nVertie,F,8\\r\\nWilhelmine,F,8\\r\\nZoa,F,8\\r\\nAgusta,F,7\\r\\nAlbina,F,7\\r\\nAlicia,F,7\\r\\nAlmira,F,7\\r\\nAlphonsine,F,7\\r\\nAlvena,F,7\\r\\nAna,F,7\\r\\nArdella,F,7\\r\\nAudrey,F,7\\r\\nBennie,F,7\\r\\nCamille,F,7\\r\\nCammie,F,7\\r\\nCarmen,F,7\\r\\nCary,F,7\\r\\nCelestine,F,7\\r\\nCelina,F,7\\r\\nCherry,F,7\\r\\nChristie,F,7\\r\\nCoral,F,7\\r\\nDellie,F,7\\r\\nDelpha,F,7\\r\\nDelphia,F,7\\r\\nEffa,F,7\\r\\nEleanore,F,7\\r\\nEra,F,7\\r\\nEvelina,F,7\\r\\nExie,F,7\\r\\nGene,F,7\\r\\nGeorgina,F,7\\r\\nGolda,F,7\\r\\nGuadalupe,F,7\\r\\nJeffie,F,7\\r\\nJinnie,F,7\\r\\nJoyce,F,7\\r\\nJuana,F,7\\r\\nJuliet,F,7\\r\\nKathyrn,F,7\\r\\nLetta,F,7\\r\\nLevina,F,7\\r\\nLollie,F,7\\r\\nLoretto,F,7\\r\\nLucindy,F,7\\r\\nMagdalen,F,7\\r\\nMagnolia,F,7\\r\\nMalissa,F,7\\r\\nManie,F,7\\r\\nMannie,F,7\\r\\nMarilla,F,7\\r\\nMaybell,F,7\\r\\nMaymie,F,7\\r\\nMercedes,F,7\\r\\nMercy,F,7\\r\\nMima,F,7\\r\\nOdile,F,7\\r\\nOrah,F,7\\r\\nOsie,F,7\\r\\nPrudence,F,7\\r\\nPrudie,F,7\\r\\nRhea,F,7\\r\\nRinda,F,7\\r\\nRosena,F,7\\r\\nRosy,F,7\\r\\nRoxy,F,7\\r\\nSarrah,F,7\\r\\nSusannah,F,7\\r\\nThea,F,7\\r\\nTula,F,7\\r\\nUla,F,7\\r\\nWalter,F,7\\r\\nWill,F,7\\r\\nZadie,F,7\\r\\nZenobia,F,7\\r\\nZetta,F,7\\r\\nAlbertina,F,6\\r\\nAlda,F,6\\r\\nAlwina,F,6\\r\\nAlyce,F,6\\r\\nAnnabell,F,6\\r\\nArah,F,6\\r\\nArminda,F,6\\r\\nBama,F,6\\r\\nBernadette,F,6\\r\\nBernadine,F,6\\r\\nBirtie,F,6\\r\\nBuena,F,6\\r\\nByrdie,F,6\\r\\nCapitola,F,6\\r\\nCarol,F,6\\r\\nCathern,F,6\\r\\nCharlie,F,6\\r\\nChristiana,F,6\\r\\nClaribel,F,6\\r\\nClaudine,F,6\\r\\nClora,F,6\\r\\nColumbia,F,6\\r\\nDana,F,6\\r\\nDelila,F,6\\r\\nDillie,F,6\\r\\nDoshie,F,6\\r\\nDrucilla,F,6\\r\\nEileen,F,6\\r\\nElizbeth,F,6\\r\\nEtha,F,6\\r\\nEura,F,6\\r\\nEvalena,F,6\\r\\nEve,F,6\\r\\nFronie,F,6\\r\\nGlenna,F,6\\r\\nHennie,F,6\\r\\nHenretta,F,6\\r\\nHermine,F,6\\r\\nHope,F,6\\r\\nIvie,F,6\\r\\nJeanie,F,6\\r\\nJoseph,F,6\\r\\nJossie,F,6\\r\\nJustina,F,6\\r\\nLea,F,6\\r\\nLeaner,F,6\\r\\nLemma,F,6\\r\\nLeonia,F,6\\r\\nLorraine,F,6\\r\\nLota,F,6\\r\\nLouis,F,6\\r\\nLucetta,F,6\\r\\nMacie,F,6\\r\\nMahalie,F,6\\r\\nMargaretta,F,6\\r\\nMarry,F,6\\r\\nMartina,F,6\\r\\nMaryann,F,6\\r\\nMillicent,F,6\\r\\nNarcissus,F,6\\r\\nNetta,F,6\\r\\nNovella,F,6\\r\\nOda,F,6\\r\\nOdelia,F,6\\r\\nOlevia,F,6\\r\\nOta,F,6\\r\\nPatience,F,6\\r\\nPaula,F,6\\r\\nPeggy,F,6\\r\\nPhillis,F,6\\r\\nPhilomene,F,6\\r\\nRamona,F,6\\r\\nRozella,F,6\\r\\nRuthie,F,6\\r\\nSalina,F,6\\r\\nSibyl,F,6\\r\\nSinda,F,6\\r\\nTabitha,F,6\\r\\nTexanna,F,6\\r\\nTexie,F,6\\r\\nTherese,F,6\\r\\nTilla,F,6\\r\\nTinnie,F,6\\r\\nValeria,F,6\\r\\nVashti,F,6\\r\\nVella,F,6\\r\\nVerdie,F,6\\r\\nVerne,F,6\\r\\nVeva,F,6\\r\\nVicy,F,6\\r\\nViney,F,6\\r\\nWilda,F,6\\r\\nZelda,F,6\\r\\nZena,F,6\\r\\nZita,F,6\\r\\nAffie,F,5\\r\\nAlbert,F,5\\r\\nAlbertha,F,5\\r\\nAlexina,F,5\\r\\nAllene,F,5\\r\\nAltie,F,5\\r\\nAnabel,F,5\\r\\nAnie,F,5\\r\\nAnnis,F,5\\r\\nArtelia,F,5\\r\\nArthur,F,5\\r\\nAtha,F,5\\r\\nBarbra,F,5\\r\\nBeaulah,F,5\\r\\nBelva,F,5\\r\\nBerdie,F,5\\r\\nBertina,F,5\\r\\nBiddie,F,5\\r\\nBirdella,F,5\\r\\nBlossom,F,5\\r\\nCara,F,5\\r\\nCarmela,F,5\\r\\nCarolyne,F,5\\r\\nCathryn,F,5\\r\\nCelestia,F,5\\r\\nCharlottie,F,5\\r\\nCilla,F,5\\r\\nClassie,F,5\\r\\nClifford,F,5\\r\\nCourtney,F,5\\r\\nDaisey,F,5\\r\\nDave,F,5\\r\\nDenise,F,5\\r\\nDezzie,F,5\\r\\nDicy,F,5\\r\\nDorthea,F,5\\r\\nDove,F,5\\r\\nEdmonia,F,5\\r\\nEdward,F,5\\r\\nElecta,F,5\\r\\nEleonore,F,5\\r\\nEudora,F,5\\r\\nEulah,F,5\\r\\nFairy,F,5\\r\\nFannye,F,5\\r\\nFidelia,F,5\\r\\nFranc,F,5\\r\\nFrancina,F,5\\r\\nFrancisca,F,5\\r\\nFredericka,F,5\\r\\nGenevra,F,5\\r\\nGrayce,F,5\\r\\nHelga,F,5\\r\\nHessie,F,5\\r\\nHonora,F,5\\r\\nIris,F,5\\r\\nIza,F,5\\r\\nJeanetta,F,5\\r\\nJeannie,F,5\\r\\nJemima,F,5\\r\\nJerusha,F,5\\r\\nJesse,F,5\\r\\nJewell,F,5\\r\\nJoella,F,5\\r\\nJudy,F,5\\r\\nJunie,F,5\\r\\nKatharina,F,5\\r\\nKaty,F,5\\r\\nLaurie,F,5\\r\\nLavenia,F,5\\r\\nLeatha,F,5\\r\\nLeda,F,5\\r\\nLisette,F,5\\r\\nLittie,F,5\\r\\nLoda,F,5\\r\\nLorenza,F,5\\r\\nLouetta,F,5\\r\\nLouvenia,F,5\\r\\nLuda,F,5\\r\\nLular,F,5\\r\\nLynda,F,5\\r\\nMargarett,F,5\\r\\nMargeret,F,5\\r\\nMarget,F,5\\r\\nMariam,F,5\\r\\nMaye,F,5\\r\\nMinda,F,5\\r\\nMiranda,F,5\\r\\nModena,F,5\\r\\nNanna,F,5\\r\\nNealie,F,5\\r\\nNelie,F,5\\r\\nOlena,F,5\\r\\nOlie,F,5\\r\\nOtelia,F,5\\r\\nPenny,F,5\\r\\nPheobe,F,5\\r\\nPollie,F,5\\r\\nPortia,F,5\\r\\nRella,F,5\\r\\nRennie,F,5\\r\\nRoseanna,F,5\\r\\nRoxana,F,5\\r\\nSabina,F,5\\r\\nSada,F,5\\r\\nSadye,F,5\\r\\nSammie,F,5\\r\\nSavilla,F,5\\r\\nSelena,F,5\\r\\nShellie,F,5\\r\\nSibbie,F,5\\r\\nThekla,F,5\\r\\nTinie,F,5\\r\\nVeda,F,5\\r\\nVienna,F,5\\r\\nVinia,F,5\\r\\nVira,F,5\\r\\nWillia,F,5\\r\\nZaidee,F,5\\r\\nZana,F,5\\r\\nZilla,F,5\\r\\nJohn,M,9557\\r\\nWilliam,M,9298\\r\\nJames,M,5892\\r\\nGeorge,M,5193\\r\\nCharles,M,5092\\r\\nFrank,M,3176\\r\\nJoseph,M,2670\\r\\nThomas,M,2610\\r\\nHenry,M,2579\\r\\nRobert,M,2500\\r\\nEdward,M,2477\\r\\nHarry,M,2232\\r\\nWalter,M,1805\\r\\nArthur,M,1686\\r\\nFred,M,1641\\r\\nAlbert,M,1499\\r\\nSamuel,M,1003\\r\\nLouis,M,852\\r\\nDavid,M,838\\r\\nClarence,M,837\\r\\nCharlie,M,753\\r\\nRichard,M,746\\r\\nJoe,M,739\\r\\nAndrew,M,673\\r\\nWill,M,666\\r\\nJesse,M,660\\r\\nErnest,M,642\\r\\nOscar,M,625\\r\\nDaniel,M,594\\r\\nSam,M,555\\r\\nWillie,M,541\\r\\nAlfred,M,523\\r\\nRoy,M,521\\r\\nBenjamin,M,478\\r\\nCarl,M,478\\r\\nPeter,M,461\\r\\nFrederick,M,457\\r\\nElmer,M,441\\r\\nLewis,M,441\\r\\nHerbert,M,431\\r\\nLee,M,427\\r\\nHoward,M,422\\r\\nRalph,M,407\\r\\nPaul,M,397\\r\\nJim,M,396\\r\\nJacob,M,390\\r\\nTom,M,390\\r\\nMartin,M,387\\r\\nEarl,M,377\\r\\nClaude,M,356\\r\\nHerman,M,348\\r\\nBert,M,341\\r\\nEugene,M,341\\r\\nEd,M,337\\r\\nBen,M,334\\r\\nFrancis,M,327\\r\\nMichael,M,321\\r\\nEdgar,M,308\\r\\nEdwin,M,305\\r\\nChester,M,300\\r\\nHarvey,M,300\\r\\nClyde,M,293\\r\\nLawrence,M,287\\r\\nLuther,M,284\\r\\nIsaac,M,278\\r\\nJack,M,271\\r\\nCharley,M,262\\r\\nGuy,M,253\\r\\nOtto,M,252\\r\\nPatrick,M,249\\r\\nIra,M,244\\r\\nOliver,M,244\\r\\nHugh,M,239\\r\\nAugust,M,234\\r\\nTheodore,M,232\\r\\nFloyd,M,231\\r\\nLeonard,M,231\\r\\nRaymond,M,230\\r\\nAlexander,M,225\\r\\nAllen,M,206\\r\\nStephen,M,201\\r\\nArchie,M,195\\r\\nRay,M,195\\r\\nJessie,M,192\\r\\nHomer,M,190\\r\\nWarren,M,183\\r\\nPhilip,M,182\\r\\nHorace,M,176\\r\\nAlex,M,172\\r\\nEddie,M,169\\r\\nJulius,M,168\\r\\nEmil,M,157\\r\\nMarion,M,157\\r\\nClifford,M,155\\r\\nMilton,M,155\\r\\nLeroy,M,152\\r\\nDan,M,150\\r\\nRufus,M,147\\r\\nLeo,M,146\\r\\nSidney,M,146\\r\\nMack,M,145\\r\\nWesley,M,145\\r\\nBernard,M,144\\r\\nWillis,M,143\\r\\nAnthony,M,139\\r\\nDave,M,139\\r\\nEverett,M,138\\r\\nDennis,M,135\\r\\nAmos,M,134\\r\\nLester,M,134\\r\\nAlonzo,M,133\\r\\nPerry,M,133\\r\\nAlvin,M,132\\r\\nLeon,M,131\\r\\nHarold,M,127\\r\\nPercy,M,126\\r\\nCalvin,M,123\\r\\nJess,M,122\\r\\nLeslie,M,122\\r\\nLloyd,M,121\\r\\nGus,M,120\\r\\nOtis,M,116\\r\\nAdam,M,114\\r\\nNathan,M,113\\r\\nFranklin,M,112\\r\\nElijah,M,111\\r\\nMatthew,M,109\\r\\nVictor,M,109\\r\\nNoah,M,108\\r\\nCornelius,M,107\\r\\nNorman,M,107\\r\\nJerry,M,105\\r\\nLevi,M,105\\r\\nEarnest,M,104\\r\\nHiram,M,104\\r\\nNelson,M,104\\r\\nPhillip,M,103\\r\\nWallace,M,103\\r\\nMaurice,M,102\\r\\nElbert,M,99\\r\\nEmmett,M,99\\r\\nJake,M,97\\r\\nRoss,M,96\\r\\nJose,M,95\\r\\nAdolph,M,94\\r\\nEli,M,94\\r\\nMoses,M,93\\r\\nManuel,M,92\\r\\nSilas,M,92\\r\\nWiley,M,92\\r\\nAbraham,M,91\\r\\nFelix,M,91\\r\\nClaud,M,90\\r\\nMark,M,90\\r\\nChristopher,M,89\\r\\nMike,M,89\\r\\nGilbert,M,88\\r\\nJasper,M,88\\r\\nEllis,M,86\\r\\nMelvin,M,86\\r\\nAaron,M,85\\r\\nAlva,M,85\\r\\nMarshall,M,83\\r\\nWillard,M,83\\r\\nWilson,M,82\\r\\nJeff,M,81\\r\\nMorris,M,81\\r\\nRoscoe,M,81\\r\\nWilbur,M,81\\r\\nJay,M,80\\r\\nVirgil,M,80\\r\\nClinton,M,79\\r\\nLonnie,M,78\\r\\nOllie,M,78\\r\\nSimon,M,78\\r\\nMose,M,77\\r\\nFredrick,M,76\\r\\nHarrison,M,76\\r\\nMonroe,M,76\\r\\nStanley,M,76\\r\\nHarley,M,75\\r\\nMax,M,74\\r\\nSylvester,M,74\\r\\nReuben,M,73\\r\\nRussell,M,73\\r\\nEdmund,M,71\\r\\nTimothy,M,71\\r\\nCurtis,M,70\\r\\nMillard,M,70\\r\\nGarfield,M,69\\r\\nIke,M,67\\r\\nOra,M,67\\r\\nBruce,M,66\\r\\nByron,M,66\\r\\nIrvin,M,66\\r\\nNicholas,M,66\\r\\nAugustus,M,65\\r\\nAustin,M,65\\r\\nOwen,M,65\\r\\nAnton,M,64\\r\\nMarvin,M,64\\r\\nWade,M,64\\r\\nEdd,M,63\\r\\nSteve,M,63\\r\\nAsa,M,62\\r\\nColumbus,M,62\\r\\nBill,M,61\\r\\nIrving,M,61\\r\\nNewton,M,61\\r\\nClayton,M,60\\r\\nPete,M,60\\r\\nBob,M,59\\r\\nDock,M,59\\r\\nJohnnie,M,59\\r\\nAnderson,M,58\\r\\nPearl,M,58\\r\\nElias,M,57\\r\\nGustave,M,57\\r\\nNathaniel,M,57\\r\\nGrover,M,56\\r\\nArch,M,55\\r\\nClark,M,54\\r\\nJoel,M,54\\r\\nRiley,M,54\\r\\nCecil,M,53\\r\\nEmery,M,53\\r\\nVernon,M,53\\r\\nBarney,M,52\\r\\nLon,M,52\\r\\nRudolph,M,52\\r\\nAndy,M,51\\r\\nClifton,M,51\\r\\nGlenn,M,51\\r\\nSolomon,M,51\\r\\nAbe,M,50\\r\\nJoshua,M,50\\r\\nSherman,M,50\\r\\nChristian,M,49\\r\\nHubert,M,49\\r\\nJackson,M,49\\r\\nPreston,M,49\\r\\nDonald,M,48\\r\\nFerdinand,M,48\\r\\nScott,M,48\\r\\nConrad,M,47\\r\\nEnoch,M,47\\r\\nMathew,M,47\\r\\nChas,M,46\\r\\nCyrus,M,46\\r\\nDelbert,M,46\\r\\nDon,M,46\\r\\nLouie,M,46\\r\\nMarcus,M,46\\r\\nOrville,M,46\\r\\nTony,M,46\\r\\nVan,M,46\\r\\nEmanuel,M,45\\r\\nErvin,M,44\\r\\nLuke,M,44\\r\\nMajor,M,44\\r\\nMiles,M,44\\r\\nGustav,M,43\\r\\nJerome,M,43\\r\\nLemuel,M,43\\r\\nArnold,M,42\\r\\nLucius,M,42\\r\\nEzra,M,41\\r\\nGrant,M,41\\r\\nJulian,M,41\\r\\nLorenzo,M,41\\r\\nLyman,M,41\\r\\nKarl,M,40\\r\\nChris,M,39\\r\\nEdmond,M,39\\r\\nJuan,M,39\\r\\nWinfield,M,39\\r\\nAmbrose,M,38\\r\\nBurton,M,38\\r\\nEmory,M,38\\r\\nForrest,M,38\\r\\nRoland,M,38\\r\\nVincent,M,38\\r\\nEmile,M,37\\r\\nGordon,M,37\\r\\nIsaiah,M,37\\r\\nMitchell,M,36\\r\\nOle,M,36\\r\\nBenjiman,M,35\\r\\nCleveland,M,35\\r\\nElisha,M,35\\r\\nLoren,M,35\\r\\nNeal,M,35\\r\\nNick,M,35\\r\\nClem,M,34\\r\\nFoster,M,34\\r\\nJefferson,M,34\\r\\nRuben,M,34\\r\\nAl,M,33\\r\\nBennie,M,33\\r\\nBud,M,33\\r\\nGeneral,M,33\\r\\nJeremiah,M,33\\r\\nNed,M,33\\r\\nSanford,M,33\\r\\nSim,M,33\\r\\nSpencer,M,33\\r\\nAbner,M,32\\r\\nCarroll,M,32\\r\\nDouglas,M,32\\r\\nRoger,M,32\\r\\nBurt,M,31\\r\\nSeth,M,31\\r\\nArchibald,M,30\\r\\nElwood,M,30\\r\\nMary,M,30\\r\\nOmer,M,30\\r\\nWard,M,30\\r\\nAntonio,M,29\\r\\nBoyd,M,29\\r\\nFreeman,M,29\\r\\nNapoleon,M,29\\r\\nWilber,M,29\\r\\nZack,M,29\\r\\nDudley,M,28\\r\\nIsiah,M,28\\r\\nLeander,M,28\\r\\nPat,M,28\\r\\nPink,M,28\\r\\nPorter,M,28\\r\\nVern,M,28\\r\\nWalker,M,28\\r\\nAllie,M,27\\r\\nBerry,M,27\\r\\nDallas,M,27\\r\\nForest,M,27\\r\\nGlen,M,27\\r\\nGreen,M,27\\r\\nHans,M,27\\r\\nHenderson,M,27\\r\\nJonathan,M,27\\r\\nLynn,M,27\\r\\nMadison,M,27\\r\\nMilo,M,27\\r\\nPedro,M,27\\r\\nRoyal,M,27\\r\\nTaylor,M,27\\r\\nHal,M,26\\r\\nHardy,M,26\\r\\nJonas,M,26\\r\\nKing,M,26\\r\\nMatt,M,26\\r\\nMyron,M,26\\r\\nNels,M,26\\r\\nWash,M,26\\r\\nAbram,M,25\\r\\nCaleb,M,25\\r\\nCasper,M,25\\r\\nFrederic,M,25\\r\\nGranville,M,25\\r\\nGust,M,25\\r\\nIvan,M,25\\r\\nLem,M,25\\r\\nOtho,M,25\\r\\nWilford,M,25\\r\\nAngus,M,24\\r\\nIsom,M,24\\r\\nJosiah,M,24\\r\\nLaurence,M,24\\r\\nMorgan,M,24\\r\\nChrist,M,23\\r\\nClement,M,23\\r\\nDee,M,23\\r\\nJudson,M,23\\r\\nJunius,M,23\\r\\nMorton,M,23\\r\\nWashington,M,23\\r\\nEarle,M,22\\r\\nEllsworth,M,22\\r\\nEmmet,M,22\\r\\nHarve,M,22\\r\\nIsrael,M,22\\r\\nJohnie,M,22\\r\\nKenneth,M,22\\r\\nLige,M,22\\r\\nOrrin,M,22\\r\\nSteven,M,22\\r\\nWayne,M,22\\r\\nWilfred,M,22\\r\\nAddison,M,21\\r\\nBertram,M,21\\r\\nCarlton,M,21\\r\\nElliott,M,21\\r\\nFletcher,M,21\\r\\nFritz,M,21\\r\\nLawson,M,21\\r\\nLucian,M,21\\r\\nWatson,M,21\\r\\nWilburn,M,21\\r\\nBillie,M,20\\r\\nCarlos,M,20\\r\\nClarance,M,20\\r\\nElton,M,20\\r\\nGabriel,M,20\\r\\nHarmon,M,20\\r\\nIrwin,M,20\\r\\nJason,M,20\\r\\nJimmie,M,20\\r\\nJudge,M,20\\r\\nLafayette,M,20\\r\\nMalcolm,M,20\\r\\nMerton,M,20\\r\\nRamon,M,20\\r\\nSol,M,20\\r\\nWilbert,M,20\\r\\nWilmer,M,20\\r\\nElmo,M,19\\r\\nFrancisco,M,19\\r\\nGeo,M,19\\r\\nHugo,M,19\\r\\nMurray,M,19\\r\\nNeil,M,19\\r\\nSandy,M,19\\r\\nSimeon,M,19\\r\\nStewart,M,19\\r\\nValentine,M,19\\r\\nAdrian,M,18\\r\\nAlton,M,18\\r\\nArtie,M,18\\r\\nBurl,M,18\\r\\nCarey,M,18\\r\\nColeman,M,18\\r\\nGuss,M,18\\r\\nNoble,M,18\\r\\nOren,M,18\\r\\nPrince,M,18\\r\\nWm,M,18\\r\\nChauncey,M,17\\r\\nClay,M,17\\r\\nDewitt,M,17\\r\\nDwight,M,17\\r\\nGarland,M,17\\r\\nHaywood,M,17\\r\\nHouston,M,17\\r\\nLogan,M,17\\r\\nLucious,M,17\\r\\nRolla,M,17\\r\\nThornton,M,17\\r\\nTobe,M,17\\r\\nTomas,M,17\\r\\nTruman,M,17\\r\\nTurner,M,17\\r\\nWebster,M,17\\r\\nAlford,M,16\\r\\nAlphonse,M,16\\r\\nArther,M,16\\r\\nAubrey,M,16\\r\\nCal,M,16\\r\\nEnos,M,16\\r\\nHarris,M,16\\r\\nJohnny,M,16\\r\\nLew,M,16\\r\\nLoyd,M,16\\r\\nMiller,M,16\\r\\nRansom,M,16\\r\\nSmith,M,16\\r\\nSterling,M,16\\r\\nTroy,M,16\\r\\nWaldo,M,16\\r\\nAllan,M,15\\r\\nBarton,M,15\\r\\nClair,M,15\\r\\nClint,M,15\\r\\nCrawford,M,15\\r\\nElvin,M,15\\r\\nEmerson,M,15\\r\\nFay,M,15\\r\\nGarrett,M,15\\r\\nGerald,M,15\\r\\nHamilton,M,15\\r\\nLucien,M,15\\r\\nMortimer,M,15\\r\\nOrin,M,15\\r\\nPalmer,M,15\\r\\nRaleigh,M,15\\r\\nRandolph,M,15\\r\\nSaul,M,15\\r\\nUlysses,M,15\\r\\nWarner,M,15\\r\\nAdelbert,M,14\\r\\nAdolphus,M,14\\r\\nAlpha,M,14\\r\\nArt,M,14\\r\\nAvery,M,14\\r\\nBennett,M,14\\r\\nCarson,M,14\\r\\nColonel,M,14\\r\\nDana,M,14\\r\\nDick,M,14\\r\\nElza,M,14\\r\\nErastus,M,14\\r\\nFinley,M,14\\r\\nGene,M,14\\r\\nJesus,M,14\\r\\nJosh,M,14\\r\\nLarkin,M,14\\r\\nMathias,M,14\\r\\nMicheal,M,14\\r\\nNewt,M,14\\r\\nParker,M,14\\r\\nPierce,M,14\\r\\nRandall,M,14\\r\\nRollie,M,14\\r\\nTed,M,14\\r\\nAlvah,M,13\\r\\nBlaine,M,13\\r\\nBryant,M,13\\r\\nCary,M,13\\r\\nCicero,M,13\\r\\nCleve,M,13\\r\\nCliff,M,13\\r\\nDell,M,13\\r\\nDorsey,M,13\\r\\nElmore,M,13\\r\\nHenery,M,13\\r\\nJules,M,13\\r\\nKelly,M,13\\r\\nLeland,M,13\\r\\nLincoln,M,13\\r\\nLuis,M,13\\r\\nMerle,M,13\\r\\nOkey,M,13\\r\\nOlaf,M,13\\r\\nOrlando,M,13\\r\\nPhil,M,13\\r\\nPleas,M,13\\r\\nPleasant,M,13\\r\\nRex,M,13\\r\\nShelby,M,13\\r\\nThad,M,13\\r\\nAxel,M,12\\r\\nBasil,M,12\\r\\nBenjaman,M,12\\r\\nBertie,M,12\\r\\nBuck,M,12\\r\\nButler,M,12\\r\\nCassius,M,12\\r\\nDenis,M,12\\r\\nDoc,M,12\\r\\nDora,M,12\\r\\nDuncan,M,12\\r\\nEly,M,12\\r\\nErnie,M,12\\r\\nErwin,M,12\\r\\nEvan,M,12\\r\\nEvans,M,12\\r\\nFrances,M,12\\r\\nGarnett,M,12\\r\\nGiles,M,12\\r\\nHamp,M,12\\r\\nJean,M,12\\r\\nJordan,M,12\\r\\nJune,M,12\\r\\nLenard,M,12\\r\\nLum,M,12\\r\\nLyle,M,12\\r\\nMahlon,M,12\\r\\nMason,M,12\\r\\nMat,M,12\\r\\nPierre,M,12\\r\\nPrice,M,12\\r\\nRodney,M,12\\r\\nRubin,M,12\\r\\nTheo,M,12\\r\\nWatt,M,12\\r\\nWyatt,M,12\\r\\nAlbin,M,11\\r\\nAloysius,M,11\\r\\nBenton,M,11\\r\\nBernie,M,11\\r\\nBishop,M,11\\r\\nCornelious,M,11\\r\\nCoy,M,11\\r\\nDexter,M,11\\r\\nDrew,M,11\\r\\nEmmitt,M,11\\r\\nEzekiel,M,11\\r\\nFinis,M,11\\r\\nFurman,M,11\\r\\nHowell,M,11\\r\\nIssac,M,11\\r\\nJohnson,M,11\\r\\nJones,M,11\\r\\nLacy,M,11\\r\\nLlewellyn,M,11\\r\\nManley,M,11\\r\\nOdie,M,11\\r\\nOlin,M,11\\r\\nOmar,M,11\\r\\nOswald,M,11\\r\\nParis,M,11\\r\\nPinkney,M,11\\r\\nQuincy,M,11\\r\\nRichmond,M,11\\r\\nRupert,M,11\\r\\nShirley,M,11\\r\\nSid,M,11\\r\\nTim,M,11\\r\\nVolney,M,11\\r\\nWebb,M,11\\r\\nWest,M,11\\r\\nAbel,M,10\\r\\nAlma,M,10\\r\\nAlonza,M,10\\r\\nBerton,M,10\\r\\nDillard,M,10\\r\\nEarly,M,10\\r\\nEphraim,M,10\\r\\nEphriam,M,10\\r\\nEvert,M,10\\r\\nGary,M,10\\r\\nGaston,M,10\\r\\nHosea,M,10\\r\\nHunter,M,10\\r\\nKirk,M,10\\r\\nLinus,M,10\\r\\nLonzo,M,10\\r\\nLou,M,10\\r\\nLowell,M,10\\r\\nMartha,M,10\\r\\nMerrill,M,10\\r\\nMiguel,M,10\\r\\nMinnie,M,10\\r\\nMitchel,M,10\\r\\nNoel,M,10\\r\\nNorris,M,10\\r\\nOtha,M,10\\r\\nPerley,M,10\\r\\nReinhold,M,10\\r\\nRush,M,10\\r\\nSamual,M,10\\r\\nSanders,M,10\\r\\nSebastian,M,10\\r\\nSeymour,M,10\\r\\nShelton,M,10\\r\\nSquire,M,10\\r\\nStuart,M,10\\r\\nSydney,M,10\\r\\nTheron,M,10\\r\\nTravis,M,10\\r\\nWilton,M,10\\r\\nZeb,M,10\\r\\nAllison,M,9\\r\\nAnson,M,9\\r\\nAsbury,M,9\\r\\nBenjamine,M,9\\r\\nBessie,M,9\\r\\nBeverly,M,9\\r\\nBrooks,M,9\\r\\nBurley,M,9\\r\\nBurr,M,9\\r\\nBuster,M,9\\r\\nDavis,M,9\\r\\nDean,M,9\\r\\nEber,M,9\\r\\nEdna,M,9\\r\\nEldridge,M,9\\r\\nElzie,M,9\\r\\nEric,M,9\\r\\nFayette,M,9\\r\\nHampton,M,9\\r\\nHerschel,M,9\\r\\nIvy,M,9\\r\\nJule,M,9\\r\\nJunior,M,9\\r\\nJunious,M,9\\r\\nJustus,M,9\\r\\nLambert,M,9\\r\\nLen,M,9\\r\\nLevy,M,9\\r\\nLindsay,M,9\\r\\nLonie,M,9\\r\\nMinor,M,9\\r\\nOctave,M,9\\r\\nOrson,M,9\\r\\nReed,M,9\\r\\nTillman,M,9\\r\\nTracy,M,9\\r\\nWinfred,M,9\\r\\nWong,M,9\\r\\nYoung,M,9\\r\\nAce,M,8\\r\\nAlden,M,8\\r\\nAlec,M,8\\r\\nAlois,M,8\\r\\nAlpheus,M,8\\r\\nAlphonso,M,8\\r\\nAndres,M,8\\r\\nAngelo,M,8\\r\\nAnnie,M,8\\r\\nArcher,M,8\\r\\nArmstead,M,8\\r\\nAron,M,8\\r\\nAugustine,M,8\\r\\nAuthor,M,8\\r\\nBailey,M,8\\r\\nBedford,M,8\\r\\nBenedict,M,8\\r\\nBertha,M,8\\r\\nBrice,M,8\\r\\nBrown,M,8\\r\\nBurrell,M,8\\r\\nByrd,M,8\\r\\nCarleton,M,8\\r\\nChin,M,8\\r\\nClare,M,8\\r\\nDoctor,M,8\\r\\nDolphus,M,8\\r\\nEben,M,8\\r\\nElie,M,8\\r\\nElige,M,8\\r\\nEnnis,M,8\\r\\nFlorence,M,8\\r\\nGabe,M,8\\r\\nGibson,M,8\\r\\nGustavus,M,8\\r\\nHarlan,M,8\\r\\nHollis,M,8\\r\\nHumphrey,M,8\\r\\nHurley,M,8\\r\\nLarry,M,8\\r\\nLindsey,M,8\\r\\nLue,M,8\\r\\nMalachi,M,8\\r\\nMay,M,8\\r\\nMaynard,M,8\\r\\nMelville,M,8\\r\\nMilford,M,8\\r\\nMills,M,8\\r\\nOrange,M,8\\r\\nOrie,M,8\\r\\nPablo,M,8\\r\\nReese,M,8\\r\\nRoswell,M,8\\r\\nSampson,M,8\\r\\nThaddeus,M,8\\r\\nThurman,M,8\\r\\nTommie,M,8\\r\\nToney,M,8\\r\\nWalton,M,8\\r\\nWellington,M,8\\r\\nWillam,M,8\\r\\nWillian,M,8\\r\\nWylie,M,8\\r\\nAdolfo,M,7\\r\\nAlanzo,M,7\\r\\nAlbion,M,7\\r\\nAlcide,M,7\\r\\nAlvie,M,7\\r\\nAlvis,M,7\\r\\nAntoine,M,7\\r\\nAshley,M,7\\r\\nBallard,M,7\\r\\nBartholomew,M,7\\r\\nBaxter,M,7\\r\\nBilly,M,7\\r\\nBird,M,7\\r\\nCampbell,M,7\\r\\nCommodore,M,7\\r\\nConnie,M,7\\r\\nDale,M,7\\r\\nDayton,M,7\\r\\nDelmar,M,7\\r\\nDow,M,7\\r\\nEbbie,M,7\\r\\nEgbert,M,7\\r\\nEligah,M,7\\r\\nElizabeth,M,7\\r\\nEmma,M,7\\r\\nErnst,M,7\\r\\nEssie,M,7\\r\\nEthan,M,7\\r\\nEustace,M,7\\r\\nEwing,M,7\\r\\nFate,M,7\\r\\nFelipe,M,7\\r\\nFernand,M,7\\r\\nFisher,M,7\\r\\nFord,M,7\\r\\nGail,M,7\\r\\nGraham,M,7\\r\\nGustaf,M,7\\r\\nHarland,M,7\\r\\nHayes,M,7\\r\\nHezekiah,M,7\\r\\nHilary,M,7\\r\\nHosie,M,7\\r\\nIsreal,M,7\\r\\nIvory,M,7\\r\\nJoesph,M,7\\r\\nJulious,M,7\\r\\nLemon,M,7\\r\\nLora,M,7\\r\\nLouise,M,7\\r\\nManford,M,7\\r\\nManning,M,7\\r\\nMargaret,M,7\\r\\nMarsh,M,7\\r\\nMarshal,M,7\\r\\nMart,M,7\\r\\nMont,M,7\\r\\nNat,M,7\\r\\nNewman,M,7\\r\\nNickolas,M,7\\r\\nOlie,M,7\\r\\nPark,M,7\\r\\nPearley,M,7\\r\\nReginald,M,7\\r\\nRice,M,7\\r\\nRolland,M,7\\r\\nRollin,M,7\\r\\nRoman,M,7\\r\\nRome,M,7\\r\\nRowland,M,7\\r\\nSammie,M,7\\r\\nSeward,M,7\\r\\nShade,M,7\\r\\nShelly,M,7\\r\\nTerry,M,7\\r\\nTitus,M,7\\r\\nTommy,M,7\\r\\nUnknown,M,7\\r\\nVicente,M,7\\r\\nWeston,M,7\\r\\nWheeler,M,7\\r\\nWilliams,M,7\\r\\nWorth,M,7\\r\\nAddie,M,6\\r\\nAlan,M,6\\r\\nAlberto,M,6\\r\\nAlexis,M,6\\r\\nAlf,M,6\\r\\nAlfonso,M,6\\r\\nAlmon,M,6\\r\\nAntone,M,6\\r\\nArlie,M,6\\r\\nAsberry,M,6\\r\\nAshby,M,6\\r\\nAuguste,M,6\\r\\nAuther,M,6\\r\\nBart,M,6\\r\\nBascom,M,6\\r\\nBee,M,6\\r\\nBirt,M,6\\r\\nCameron,M,6\\r\\nCamille,M,6\\r\\nCarrie,M,6\\r\\nChesley,M,6\\r\\nClabe,M,6\\r\\nCloyd,M,6\\r\\nCooper,M,6\\r\\nDarius,M,6\\r\\nDelos,M,6\\r\\nDempsey,M,6\\r\\nDennie,M,6\\r\\nDolph,M,6\\r\\nDomingo,M,6\\r\\nEbb,M,6\\r\\nEliga,M,6\\r\\nElsworth,M,6\\r\\nElwin,M,6\\r\\nEmilio,M,6\\r\\nEverette,M,6\\r\\nFernando,M,6\\r\\nFredric,M,6\\r\\nFrench,M,6\\r\\nGarry,M,6\\r\\nGee,M,6\\r\\nGerhard,M,6\\r\\nGideon,M,6\\r\\nGrace,M,6\\r\\nHansford,M,6\\r\\nHardin,M,6\\r\\nHeber,M,6\\r\\nHector,M,6\\r\\nHermann,M,6\\r\\nHershel,M,6\\r\\nHervey,M,6\\r\\nHilliard,M,6\\r\\nHoratio,M,6\\r\\nHoyt,M,6\\r\\nHuston,M,6\\r\\nIsham,M,6\\r\\nJarvis,M,6\\r\\nJobe,M,6\\r\\nJoeseph,M,6\\r\\nJosephus,M,6\\r\\nKirby,M,6\\r\\nLandon,M,6\\r\\nLane,M,6\\r\\nLawyer,M,6\\r\\nLennie,M,6\\r\\nLeonidas,M,6\\r\\nLesley,M,6\\r\\nLillian,M,6\\r\\nLinn,M,6\\r\\nLittleton,M,6\\r\\nLone,M,6\\r\\nLudwig,M,6\\r\\nMarcellus,M,6\\r\\nMargarito,M,6\\r\\nMattie,M,6\\r\\nMaxwell,M,6\\r\\nMelton,M,6\\r\\nMervin,M,6\\r\\nNellie,M,6\\r\\nOran,M,6\\r\\nOrla,M,6\\r\\nOrval,M,6\\r\\nOtt,M,6\\r\\nPercival,M,6\\r\\nPress,M,6\\r\\nRafael,M,6\\r\\nRandle,M,6\\r\\nReece,M,6\\r\\nRene,M,6\\r\\nRich,M,6\\r\\nRoderick,M,6\\r\\nRollo,M,6\\r\\nRutherford,M,6\\r\\nSeaborn,M,6\\r\\nSevert,M,6\\r\\nSteward,M,6\\r\\nSylvanus,M,6\\r\\nTheadore,M,6\\r\\nTheophile,M,6\\r\\nTodd,M,6\\r\\nVernie,M,6\\r\\nVester,M,6\\r\\nWenzel,M,6\\r\\nWilhelm,M,6\\r\\nWood,M,6\\r\\nYee,M,6\\r\\nAb,M,5\\r\\nAdolf,M,5\\r\\nAlby,M,5\\r\\nAlcee,M,5\\r\\nAlmer,M,5\\r\\nAlmond,M,5\\r\\nAlvy,M,5\\r\\nAmon,M,5\\r\\nAnsel,M,5\\r\\nBabe,M,5\\r\\nBayard,M,5\\r\\nBenny,M,5\\r\\nBertrand,M,5\\r\\nBluford,M,5\\r\\nBooker,M,5\\r\\nBradley,M,5\\r\\nBruno,M,5\\r\\nBurnett,M,5\\r\\nBurney,M,5\\r\\nCallie,M,5\\r\\nCaswell,M,5\\r\\nClaudie,M,5\\r\\nColin,M,5\\r\\nConley,M,5\\r\\nCortez,M,5\\r\\nDarwin,M,5\\r\\nDavie,M,5\\r\\nDionicio,M,5\\r\\nDominick,M,5\\r\\nDonnie,M,5\\r\\nDuff,M,5\\r\\nEdson,M,5\\r\\nElam,M,5\\r\\nEldred,M,5\\r\\nEll,M,5\\r\\nEllery,M,5\\r\\nEllwood,M,5\\r\\nElva,M,5\\r\\nEmmit,M,5\\r\\nEnrique,M,5\\r\\nErasmus,M,5\\r\\nErie,M,5\\r\\nErle,M,5\\r\\nEssex,M,5\\r\\nEwell,M,5\\r\\nEwin,M,5\\r\\nFabian,M,5\\r\\nFleming,M,5\\r\\nFlorencio,M,5\\r\\nFremont,M,5\\r\\nGaines,M,5\\r\\nGarnet,M,5\\r\\nGaylord,M,5\\r\\nGerman,M,5\\r\\nGreene,M,5\\r\\nGriffin,M,5\\r\\nHallie,M,5\\r\\nHandy,M,5\\r\\nHardie,M,5\\r\\nHarlow,M,5\\r\\nHarper,M,5\\r\\nHarvie,M,5\\r\\nHayden,M,5\\r\\nHilton,M,5\\r\\nHollie,M,5\\r\\nHoy,M,5\\r\\nHubbard,M,5\\r\\nHuey,M,5\\r\\nIda,M,5\\r\\nIrven,M,5\\r\\nIsadore,M,5\\r\\nIsidore,M,5\\r\\nJennie,M,5\\r\\nJhon,M,5\\r\\nJonah,M,5\\r\\nJulia,M,5\\r\\nKay,M,5\\r\\nKelley,M,5\\r\\nLamar,M,5\\r\\nLaura,M,5\\r\\nLazarus,M,5\\r\\nLeigh,M,5\\r\\nLenzy,M,5\\r\\nLeonce,M,5\\r\\nLeverett,M,5\\r\\nLewie,M,5\\r\\nLionel,M,5\\r\\nLoran,M,5\\r\\nLorenz,M,5\\r\\nLott,M,5\\r\\nLove,M,5\\r\\nLoyal,M,5\\r\\nLuster,M,5\\r\\nMalcom,M,5\\r\\nMance,M,5\\r\\nMarian,M,5\\r\\nMarius,M,5\\r\\nMatthews,M,5\\r\\nMatthias,M,5\\r\\nMaude,M,5\\r\\nMerritt,M,5\\r\\nMeyer,M,5\\r\\nMikel,M,5\\r\\nMoody,M,5\\r\\nMurry,M,5\\r\\nNewell,M,5\\r\\nNicolas,M,5\\r\\nNorton,M,5\\r\\nOather,M,5\\r\\nObe,M,5\\r\\nObie,M,5\\r\\nOcie,M,5\\r\\nOrley,M,5\\r\\nOrrie,M,5\\r\\nOrva,M,5\\r\\nOttie,M,5\\r\\nParley,M,5\\r\\nPatricio,M,5\\r\\nPlummer,M,5\\r\\nPrimus,M,5\\r\\nRafe,M,5\\r\\nRance,M,5\\r\\nRaphael,M,5\\r\\nRube,M,5\\r\\nRudolf,M,5\\r\\nRudy,M,5\\r\\nRuel,M,5\\r\\nRussel,M,5\\r\\nSameul,M,5\\r\\nSamul,M,5\\r\\nSchuyler,M,5\\r\\nSeldon,M,5\\r\\nSoloman,M,5\\r\\nSolon,M,5\\r\\nStafford,M,5\\r\\nStanton,M,5\\r\\nSumner,M,5\\r\\nTheophilus,M,5\\r\\nThompson,M,5\\r\\nTilden,M,5\\r\\nToby,M,5\\r\\nTrue,M,5\\r\\nUrban,M,5\\r\\nUriah,M,5\\r\\nVal,M,5\\r\\nVance,M,5\\r\\nVerne,M,5\\r\\nVince,M,5\\r\\nVivian,M,5\\r\\nWhit,M,5\\r\\nWillaim,M,5\\r\\nWinifred,M,5\\r\\nWirt,M,5\\r\\nWoodson,M,5\\r\\nWoody,M,5\\r\\nWorley,M,5\\r\\nZed,M,5\\r\\nMary,F,8012\\r\\nAnna,F,3306\\r\\nEmma,F,2367\\r\\nElizabeth,F,2255\\r\\nMinnie,F,2035\\r\\nMargaret,F,1881\\r\\nBertha,F,1681\\r\\nIda,F,1634\\r\\nAnnie,F,1589\\r\\nClara,F,1548\\r\\nAlice,F,1488\\r\\nSarah,F,1359\\r\\nGrace,F,1307\\r\\nFlorence,F,1298\\r\\nMartha,F,1255\\r\\nElla,F,1251\\r\\nNellie,F,1246\\r\\nBessie,F,1241\\r\\nLaura,F,1183\\r\\nEthel,F,1132\\r\\nCarrie,F,1108\\r\\nMaude,F,1096\\r\\nMabel,F,1086\\r\\nCora,F,1081\\r\\nGertrude,F,923\\r\\nLillian,F,907\\r\\nJennie,F,904\\r\\nHattie,F,895\\r\\nPearl,F,886\\r\\nMattie,F,883\\r\\nEdith,F,881\\r\\nEva,F,879\\r\\nRose,F,877\\r\\nJulia,F,875\\r\\nHelen,F,862\\r\\nCatherine,F,853\\r\\nMyrtle,F,851\\r\\nLouise,F,847\\r\\nLillie,F,837\\r\\nJessie,F,833\\r\\nEdna,F,823\\r\\nLena,F,800\\r\\nLula,F,790\\r\\nAda,F,778\\r\\nFrances,F,710\\r\\nJosephine,F,698\\r\\nFannie,F,696\\r\\nLucy,F,663\\r\\nMaggie,F,663\\r\\nDaisy,F,659\\r\\nDora,F,640\\r\\nAgnes,F,623\\r\\nMarie,F,622\\r\\nBlanche,F,610\\r\\nNora,F,589\\r\\nKatherine,F,583\\r\\nMay,F,532\\r\\nMamie,F,531\\r\\nStella,F,529\\r\\nEffie,F,507\\r\\nRosa,F,507\\r\\nEllen,F,500\\r\\nLizzie,F,496\\r\\nNettie,F,494\\r\\nElsie,F,479\\r\\nDella,F,453\\r\\nSusie,F,436\\r\\nMaud,F,425\\r\\nSadie,F,425\\r\\nMae,F,423\\r\\nNancy,F,412\\r\\nSallie,F,409\\r\\nFlora,F,387\\r\\nRuth,F,387\\r\\nLydia,F,378\\r\\nLottie,F,372\\r\\nAddie,F,362\\r\\nKatie,F,361\\r\\nAlma,F,359\\r\\nEtta,F,352\\r\\nEmily,F,342\\r\\nHarriet,F,341\\r\\nViola,F,331\\r\\nGeorgia,F,325\\r\\nSusan,F,322\\r\\nCaroline,F,321\\r\\nNannie,F,305\\r\\nLulu,F,302\\r\\nMollie,F,301\\r\\nKate,F,294\\r\\nOlive,F,294\\r\\nCharlotte,F,291\\r\\nKathryn,F,290\\r\\nAmanda,F,287\\r\\nEliza,F,274\\r\\nWillie,F,264\\r\\nAmelia,F,262\\r\\nBelle,F,262\\r\\nEsther,F,260\\r\\nIrene,F,260\\r\\nOllie,F,249\\r\\nJane,F,247\\r\\nRebecca,F,244\\r\\nTheresa,F,241\\r\\nVirginia,F,234\\r\\nEstella,F,233\\r\\nBeulah,F,217\\r\\nAugusta,F,213\\r\\nOra,F,212\\r\\nAmy,F,209\\r\\nHannah,F,209\\r\\nHenrietta,F,203\\r\\nPauline,F,197\\r\\nEleanor,F,185\\r\\nMarion,F,184\\r\\nAnne,F,183\\r\\nMildred,F,183\\r\\nSara,F,183\\r\\nLeona,F,178\\r\\nNina,F,177\\r\\nRachel,F,174\\r\\nLola,F,172\\r\\nIva,F,170\\r\\nAnn,F,167\\r\\nMatilda,F,167\\r\\nLela,F,163\\r\\nRuby,F,163\\r\\nDelia,F,162\\r\\nSophia,F,159\\r\\nMayme,F,157\\r\\nMillie,F,155\\r\\nEstelle,F,151\\r\\nJosie,F,148\\r\\nAllie,F,146\\r\\nLouisa,F,143\\r\\nLou,F,142\\r\\nDorothy,F,141\\r\\nInez,F,141\\r\\nMaria,F,141\\r\\nEssie,F,139\\r\\nEvelyn,F,139\\r\\nBarbara,F,135\\r\\nCallie,F,135\\r\\nJanie,F,135\\r\\nBettie,F,130\\r\\nBeatrice,F,126\\r\\nOla,F,126\\r\\nWinifred,F,125\\r\\nHazel,F,123\\r\\nBetty,F,120\\r\\nLuella,F,120\\r\\nMable,F,120\\r\\nCornelia,F,116\\r\\nNell,F,116\\r\\nRosie,F,115\\r\\nAlta,F,114\\r\\nTillie,F,114\\r\\nIna,F,113\\r\\nVictoria,F,110\\r\\nBertie,F,106\\r\\nEunice,F,106\\r\\nRena,F,105\\r\\nChristine,F,103\\r\\nSophie,F,103\\r\\nVerna,F,103\\r\\nCelia,F,101\\r\\nDollie,F,100\\r\\nMathilda,F,100\\r\\nHilda,F,99\\r\\nBess,F,94\\r\\nBirdie,F,93\\r\\nEula,F,93\\r\\nRhoda,F,93\\r\\nLucinda,F,92\\r\\nHarriett,F,91\\r\\nIsabelle,F,91\\r\\nLeila,F,90\\r\\nMina,F,89\\r\\nAdelaide,F,85\\r\\nJohanna,F,85\\r\\nLelia,F,84\\r\\nIsabel,F,83\\r\\nJean,F,83\\r\\nAdeline,F,82\\r\\nLettie,F,82\\r\\nGenevieve,F,81\\r\\nMyra,F,81\\r\\nOlga,F,81\\r\\nSelma,F,80\\r\\nAbbie,F,79\\r\\nKatharine,F,79\\r\\nSylvia,F,79\\r\\nVera,F,77\\r\\nLinnie,F,76\\r\\nLois,F,76\\r\\nLora,F,76\\r\\nLoretta,F,76\\r\\nNelle,F,76\\r\\nHettie,F,75\\r\\nRoxie,F,75\\r\\nViolet,F,74\\r\\nMittie,F,73\\r\\nSally,F,73\\r\\nAlberta,F,72\\r\\nElva,F,72\\r\\nHester,F,72\\r\\nGladys,F,71\\r\\nHulda,F,71\\r\\nMarguerite,F,70\\r\\nBernice,F,69\\r\\nChristina,F,69\\r\\nHelena,F,69\\r\\nLila,F,69\\r\\nAdele,F,68\\r\\nFanny,F,68\\r\\nGussie,F,68\\r\\nSue,F,68\\r\\nCecelia,F,67\\r\\nCynthia,F,66\\r\\nLenora,F,66\\r\\nLucille,F,66\\r\\nPhoebe,F,66\\r\\nLeah,F,65\\r\\nLura,F,65\\r\\nFlossie,F,64\\r\\nTeresa,F,64\\r\\nJeanette,F,63\\r\\nHallie,F,62\\r\\nLida,F,62\\r\\nLilly,F,62\\r\\nLily,F,62\\r\\nWinnie,F,62\\r\\nVirgie,F,60\\r\\nCarolyn,F,58\\r\\nClaudia,F,58\\r\\nAlvina,F,57\\r\\nFrieda,F,57\\r\\nEmilie,F,56\\r\\nMabelle,F,56\\r\\nNaomi,F,56\\r\\nLee,F,55\\r\\nOphelia,F,55\\r\\nZella,F,55\\r\\nFrancis,F,54\\r\\nIsabella,F,54\\r\\nWilhelmina,F,54\\r\\nIrma,F,53\\r\\nJeannette,F,53\\r\\nCatharine,F,52\\r\\nMeta,F,52\\r\\nMinerva,F,52\\r\\nCordelia,F,51\\r\\nGertie,F,51\\r\\nGoldie,F,51\\r\\nLeola,F,51\\r\\nMyrtie,F,50\\r\\nLinda,F,49\\r\\nLucile,F,49\\r\\nMadge,F,49\\r\\nMarjorie,F,49\\r\\nNorma,F,49\\r\\nEugenia,F,48\\r\\nGeneva,F,48\\r\\nMarian,F,48\\r\\nRoberta,F,48\\r\\nLouella,F,47\\r\\nMalinda,F,47\\r\\nOlivia,F,46\\r\\nAnnette,F,45\\r\\nAntoinette,F,44\\r\\nIvy,F,44\\r\\nJanet,F,44\\r\\nLilla,F,43\\r\\nElma,F,42\\r\\nLorena,F,42\\r\\nMelissa,F,42\\r\\nAdah,F,41\\r\\nDovie,F,40\\r\\nJohn,F,40\\r\\nOrpha,F,40\\r\\nWilliam,F,40\\r\\nCecilia,F,39\\r\\nDessie,F,39\\r\\nGracie,F,39\\r\\nPearle,F,39\\r\\nRosetta,F,39\\r\\nClaire,F,38\\r\\nErma,F,38\\r\\nLina,F,38\\r\\nRegina,F,38\\r\\nAngie,F,36\\r\\nElnora,F,36\\r\\nMertie,F,36\\r\\nCecile,F,35\\r\\nElsa,F,35\\r\\nKittie,F,35\\r\\nLucretia,F,35\\r\\nMandy,F,35\\r\\nZora,F,35\\r\\nAngeline,F,34\\r\\nCassie,F,34\\r\\nGeorgie,F,34\\r\\nLona,F,34\\r\\nMiriam,F,34\\r\\nOma,F,34\\r\\nBell,F,33\\r\\nFreda,F,33\\r\\nJoanna,F,33\\r\\nLyda,F,33\\r\\nNona,F,33\\r\\nPearlie,F,33\\r\\nPolly,F,33\\r\\nVivian,F,33\\r\\nAlpha,F,32\\r\\nIla,F,32\\r\\nLessie,F,32\\r\\nMaudie,F,32\\r\\nTena,F,32\\r\\nTennie,F,32\\r\\nFrankie,F,31\\r\\nMadeline,F,31\\r\\nMargie,F,31\\r\\nTilda,F,31\\r\\nAdelia,F,30\\r\\nDona,F,30\\r\\nDorothea,F,30\\r\\nMargret,F,30\\r\\nMolly,F,30\\r\\nNola,F,30\\r\\nSudie,F,30\\r\\nAva,F,29\\r\\nCharity,F,29\\r\\nEmelia,F,29\\r\\nLetha,F,29\\r\\nVeronica,F,29\\r\\nBlanch,F,28\\r\\nBridget,F,28\\r\\nFay,F,28\\r\\nGeorgianna,F,28\\r\\nMaybelle,F,28\\r\\nNan,F,28\\r\\nPansy,F,28\\r\\nAlmeda,F,27\\r\\nAnita,F,27\\r\\nArtie,F,27\\r\\nErnestine,F,27\\r\\nEvie,F,27\\r\\nHilma,F,27\\r\\nLeora,F,27\\r\\nMagdalena,F,27\\r\\nMazie,F,27\\r\\nPriscilla,F,27\\r\\nSavannah,F,27\\r\\nAngelina,F,26\\r\\nCleo,F,26\\r\\nElisabeth,F,26\\r\\nElise,F,26\\r\\nElvira,F,26\\r\\nEttie,F,26\\r\\nFloy,F,26\\r\\nLavina,F,26\\r\\nLouie,F,26\\r\\nMarietta,F,26\\r\\nOctavia,F,26\\r\\nOna,F,26\\r\\nIsabell,F,25\\r\\nJames,F,25\\r\\nLeota,F,25\\r\\nLeta,F,25\\r\\nLotta,F,25\\r\\nRosella,F,25\\r\\nVelma,F,25\\r\\nVinnie,F,25\\r\\nZula,F,25\\r\\nAdda,F,24\\r\\nDolly,F,24\\r\\nEllie,F,24\\r\\nHelene,F,24\\r\\nJuanita,F,24\\r\\nJulie,F,24\\r\\nJune,F,24\\r\\nLucia,F,24\\r\\nLutie,F,24\\r\\nMalissa,F,24\\r\\nPattie,F,24\\r\\nCecil,F,23\\r\\nEdythe,F,23\\r\\nGeorgiana,F,23\\r\\nHortense,F,23\\r\\nLetitia,F,23\\r\\nMarcia,F,23\\r\\nRae,F,23\\r\\nRilla,F,23\\r\\nRosalie,F,23\\r\\nVina,F,23\\r\\nZoe,F,23\\r\\nAngela,F,22\\r\\nClare,F,22\\r\\nEddie,F,22\\r\\nElmira,F,22\\r\\nGeorge,F,22\\r\\nJohnnie,F,22\\r\\nKathrine,F,22\\r\\nLenna,F,22\\r\\nLucie,F,22\\r\\nMyrta,F,22\\r\\nNeva,F,22\\r\\nRetta,F,22\\r\\nSusanna,F,22\\r\\nVida,F,22\\r\\nBerta,F,21\\r\\nBonnie,F,21\\r\\nDonna,F,21\\r\\nDoris,F,21\\r\\nEaster,F,21\\r\\nHanna,F,21\\r\\nHarriette,F,21\\r\\nKathleen,F,21\\r\\nMellie,F,21\\r\\nMelvina,F,21\\r\\nTina,F,21\\r\\nTommie,F,21\\r\\nCarolina,F,20\\r\\nCorinne,F,20\\r\\nDaisie,F,20\\r\\nJimmie,F,20\\r\\nLavinia,F,20\\r\\nLiza,F,20\\r\\nLue,F,20\\r\\nMahala,F,20\\r\\nMissouri,F,20\\r\\nNorah,F,20\\r\\nPatsy,F,20\\r\\nWilla,F,20\\r\\nAlbina,F,19\\r\\nCathrine,F,19\\r\\nChloe,F,19\\r\\nCorrie,F,19\\r\\nEda,F,19\\r\\nFern,F,19\\r\\nFlorida,F,19\\r\\nIone,F,19\\r\\nLennie,F,19\\r\\nLovie,F,19\\r\\nLudie,F,19\\r\\nMarcella,F,19\\r\\nPaula,F,19\\r\\nUna,F,19\\r\\nVerda,F,19\\r\\nVesta,F,19\\r\\nAntonia,F,18\\r\\nCharles,F,18\\r\\nEloise,F,18\\r\\nIona,F,18\\r\\nIra,F,18\\r\\nJannie,F,18\\r\\nLeonora,F,18\\r\\nManda,F,18\\r\\nMuriel,F,18\\r\\nOdessa,F,18\\r\\nRosanna,F,18\\r\\nSena,F,18\\r\\nShirley,F,18\\r\\nWilma,F,18\\r\\nBella,F,17\\r\\nClarissa,F,17\\r\\nConstance,F,17\\r\\nDonnie,F,17\\r\\nFrank,F,17\\r\\nHope,F,17\\r\\nJoseph,F,17\\r\\nLenore,F,17\\r\\nLilian,F,17\\r\\nLuna,F,17\\r\\nMalvina,F,17\\r\\nMame,F,17\\r\\nMatie,F,17\\r\\nPinkie,F,17\\r\\nSamantha,F,17\\r\\nAdella,F,16\\r\\nAlida,F,16\\r\\nBesse,F,16\\r\\nCordie,F,16\\r\\nDeborah,F,16\\r\\nDena,F,16\\r\\nDixie,F,16\\r\\nEmilia,F,16\\r\\nIdella,F,16\\r\\nIndia,F,16\\r\\nJoe,F,16\\r\\nKitty,F,16\\r\\nLissie,F,16\\r\\nMona,F,16\\r\\nOnie,F,16\\r\\nOpal,F,16\\r\\nVada,F,16\\r\\nWinnifred,F,16\\r\\nZelma,F,16\\r\\nAdela,F,15\\r\\nAlmira,F,15\\r\\nClementine,F,15\\r\\nDelphine,F,15\\r\\nElizebeth,F,15\\r\\nGeraldine,F,15\\r\\nJudith,F,15\\r\\nLibbie,F,15\\r\\nMariah,F,15\\r\\nMerle,F,15\\r\\nMintie,F,15\\r\\nOdie,F,15\\r\\nPhilomena,F,15\\r\\nPhyllis,F,15\\r\\nReba,F,15\\r\\nRita,F,15\\r\\nVallie,F,15\\r\\nZetta,F,15\\r\\nAgatha,F,14\\r\\nAlbertine,F,14\\r\\nAmerica,F,14\\r\\nAnastasia,F,14\\r\\nArizona,F,14\\r\\nAudrey,F,14\\r\\nAurelia,F,14\\r\\nCathryn,F,14\\r\\nDolores,F,14\\r\\nElda,F,14\\r\\nEra,F,14\\r\\nErna,F,14\\r\\nFaye,F,14\\r\\nImogene,F,14\\r\\nKizzie,F,14\\r\\nLonie,F,14\\r\\nLoula,F,14\\r\\nSelina,F,14\\r\\nSina,F,14\\r\\nAltha,F,13\\r\\nAlthea,F,13\\r\\nAlvena,F,13\\r\\nAlyce,F,13\\r\\nAnnetta,F,13\\r\\nAnnis,F,13\\r\\nAvis,F,13\\r\\nBetsy,F,13\\r\\nClemmie,F,13\\r\\nClyde,F,13\\r\\nCorda,F,13\\r\\nDell,F,13\\r\\nDonie,F,13\\r\\nGenie,F,13\\r\\nGolda,F,13\\r\\nInga,F,13\\r\\nIola,F,13\\r\\nJettie,F,13\\r\\nKatheryn,F,13\\r\\nLauretta,F,13\\r\\nLelah,F,13\\r\\nPhebe,F,13\\r\\nRowena,F,13\\r\\nRoxy,F,13\\r\\nZena,F,13\\r\\nArvilla,F,12\\r\\nByrd,F,12\\r\\nCamilla,F,12\\r\\nCoral,F,12\\r\\nDelphia,F,12\\r\\nEthelyn,F,12\\r\\nFredericka,F,12\\r\\nHenry,F,12\\r\\nHuldah,F,12\\r\\nJeanne,F,12\\r\\nLaurel,F,12\\r\\nLea,F,12\\r\\nMagdalen,F,12\\r\\nMathilde,F,12\\r\\nMelinda,F,12\\r\\nMetta,F,12\\r\\nMinta,F,12\\r\\nRosina,F,12\\r\\nAbigail,F,11\\r\\nAdaline,F,11\\r\\nAimee,F,11\\r\\nAlbert,F,11\\r\\nAline,F,11\\r\\nAnnabelle,F,11\\r\\nArminta,F,11\\r\\nArrie,F,11\\r\\nCamille,F,11\\r\\nCelestine,F,11\\r\\nClifford,F,11\\r\\nClora,F,11\\r\\nCordia,F,11\\r\\nDelilah,F,11\\r\\nDocia,F,11\\r\\nEffa,F,11\\r\\nEleanore,F,11\\r\\nEmeline,F,11\\r\\nFronie,F,11\\r\\nJenny,F,11\\r\\nLeatha,F,11\\r\\nLuetta,F,11\\r\\nMallie,F,11\\r\\nMargarette,F,11\\r\\nMargery,F,11\\r\\nMaye,F,11\\r\\nMettie,F,11\\r\\nOda,F,11\\r\\nPrudence,F,11\\r\\nRobert,F,11\\r\\nSophronia,F,11\\r\\nTheodora,F,11\\r\\nTressie,F,11\\r\\nWilda,F,11\\r\\nZada,F,11\\r\\nZona,F,11\\r\\nAurora,F,10\\r\\nBulah,F,10\\r\\nCharlie,F,10\\r\\nClarice,F,10\\r\\nCorrine,F,10\\r\\nDessa,F,10\\r\\nDiana,F,10\\r\\nDicie,F,10\\r\\nEmmie,F,10\\r\\nEsta,F,10\\r\\nEtha,F,10\\r\\nEthyl,F,10\\r\\nFairy,F,10\\r\\nFred,F,10\\r\\nGlenna,F,10\\r\\nGrayce,F,10\\r\\nJuliet,F,10\\r\\nKattie,F,10\\r\\nLelar,F,10\\r\\nLella,F,10\\r\\nLovina,F,10\\r\\nLular,F,10\\r\\nMadie,F,10\\r\\nMagdalene,F,10\\r\\nMatilde,F,10\\r\\nMeda,F,10\\r\\nNevada,F,10\\r\\nParalee,F,10\\r\\nQueen,F,10\\r\\nRay,F,10\\r\\nRoseanna,F,10\\r\\nSerena,F,10\\r\\nTheodosia,F,10\\r\\nVernie,F,10\\r\\nViva,F,10\\r\\nWinona,F,10\\r\\nZola,F,10\\r\\nArdella,F,9\\r\\nBirtie,F,9\\r\\nCalla,F,9\\r\\nCeleste,F,9\\r\\nChristena,F,9\\r\\nClaudie,F,9\\r\\nConnie,F,9\\r\\nDelpha,F,9\\r\\nDinah,F,9\\r\\nDrucilla,F,9\\r\\nEdyth,F,9\\r\\nEleanora,F,9\\r\\nElta,F,9\\r\\nEmmer,F,9\\r\\nEster,F,9\\r\\nEvalyn,F,9\\r\\nGina,F,9\\r\\nJewel,F,9\\r\\nJo,F,9\\r\\nJossie,F,9\\r\\nJuana,F,9\\r\\nLeanna,F,9\\r\\nLonnie,F,9\\r\\nLouis,F,9\\r\\nLouvenia,F,9\\r\\nMillicent,F,9\\r\\nNatalie,F,9\\r\\nNealie,F,9\\r\\nNita,F,9\\r\\nOttie,F,9\\r\\nOttilie,F,9\\r\\nPetra,F,9\\r\\nRachael,F,9\\r\\nRobbie,F,9\\r\\nRosamond,F,9\\r\\nSalome,F,9\\r\\nSidney,F,9\\r\\nSimona,F,9\\r\\nTessie,F,9\\r\\nThora,F,9\\r\\nAileen,F,8\\r\\nAlbertina,F,8\\r\\nAlda,F,8\\r\\nAlicia,F,8\\r\\nAmalia,F,8\\r\\nAngelita,F,8\\r\\nAnnabel,F,8\\r\\nAura,F,8\\r\\nBama,F,8\\r\\nBerenice,F,8\\r\\nBeryl,F,8\\r\\nCarlotta,F,8\\r\\nCarmen,F,8\\r\\nCelestia,F,8\\r\\nCleora,F,8\\r\\nClyda,F,8\\r\\nDagmar,F,8\\r\\nDellar,F,8\\r\\nDina,F,8\\r\\nDorcas,F,8\\r\\nDrusilla,F,8\\r\\nElenora,F,8\\r\\nElisa,F,8\\r\\nEller,F,8\\r\\nElodie,F,8\\r\\nEma,F,8\\r\\nEvalena,F,8\\r\\nFlorine,F,8\\r\\nFrancisca,F,8\\r\\nFrona,F,8\\r\\nGail,F,8\\r\\nGeorgina,F,8\\r\\nHedwig,F,8\\r\\nHessie,F,8\\r\\nIrena,F,8\\r\\nIvah,F,8\\r\\nJosiephine,F,8\\r\\nKathryne,F,8\\r\\nLetta,F,8\\r\\nLiddie,F,8\\r\\nLoraine,F,8\\r\\nLuvenia,F,8\\r\\nMagnolia,F,8\\r\\nMaida,F,8\\r\\nManuela,F,8\\r\\nMartina,F,8\\r\\nMissie,F,8\\r\\nNelly,F,8\\r\\nNetta,F,8\\r\\nOcie,F,8\\r\\nOlevia,F,8\\r\\nOmie,F,8\\r\\nOsa,F,8\\r\\nParthenia,F,8\\r\\nPollie,F,8\\r\\nRhea,F,8\\r\\nRosalia,F,8\\r\\nRosemary,F,8\\r\\nTressa,F,8\\r\\nVannie,F,8\\r\\nVena,F,8\\r\\nVenie,F,8\\r\\nAna,F,7\\r\\nAnabel,F,7\\r\\nAra,F,7\\r\\nArline,F,7\\r\\nArminda,F,7\\r\\nAttie,F,7\\r\\nBeatrix,F,7\\r\\nCourtney,F,7\\r\\nDana,F,7\\r\\nDelila,F,7\\r\\nDelta,F,7\\r\\nDorathea,F,7\\r\\nEdward,F,7\\r\\nEldora,F,7\\r\\nElecta,F,7\\r\\nElenor,F,7\\r\\nElinor,F,7\\r\\nEllis,F,7\\r\\nElmina,F,7\\r\\nElvina,F,7\\r\\nErie,F,7\\r\\nEugenie,F,7\\r\\nEuphemia,F,7\\r\\nEvaline,F,7\\r\\nEvangeline,F,7\\r\\nGertha,F,7\\r\\nGlennie,F,7\\r\\nGretchen,F,7\\r\\nIcy,F,7\\r\\nIris,F,7\\r\\nIsa,F,7\\r\\nJeanie,F,7\\r\\nLeda,F,7\\r\\nLeonie,F,7\\r\\nLeonore,F,7\\r\\nLeslie,F,7\\r\\nLesta,F,7\\r\\nLevina,F,7\\r\\nLillia,F,7\\r\\nLollie,F,7\\r\\nLouetta,F,7\\r\\nMargarett,F,7\\r\\nMinna,F,7\\r\\nMiranda,F,7\\r\\nNanie,F,7\\r\\nNeta,F,7\\r\\nNinnie,F,7\\r\\nOrah,F,7\\r\\nOrrie,F,7\\r\\nOsie,F,7\\r\\nOssie,F,7\\r\\nPaulina,F,7\\r\\nQueenie,F,7\\r\\nRamona,F,7\\r\\nRebekah,F,7\\r\\nRossie,F,7\\r\\nSula,F,7\\r\\nTempie,F,7\\r\\nTexie,F,7\\r\\nTheo,F,7\\r\\nUrsula,F,7\\r\\nVertie,F,7\\r\\nZadie,F,7\\r\\nAggie,F,6\\r\\nAletha,F,6\\r\\nAllene,F,6\\r\\nAlmina,F,6\\r\\nAlva,F,6\\r\\nAmalie,F,6\\r\\nAmie,F,6\\r\\nAmmie,F,6\\r\\nArlena,F,6\\r\\nAugustine,F,6\\r\\nAvie,F,6\\r\\nBeaulah,F,6\\r\\nBee,F,6\\r\\nBena,F,6\\r\\nBennie,F,6\\r\\nBird,F,6\\r\\nBula,F,6\\r\\nCaldonia,F,6\\r\\nCara,F,6\\r\\nCarlie,F,6\\r\\nCelina,F,6\\r\\nCena,F,6\\r\\nChristie,F,6\\r\\nClarinda,F,6\\r\\nClaude,F,6\\r\\nCorine,F,6\\r\\nDavid,F,6\\r\\nDee,F,6\\r\\nDeliah,F,6\\r\\nDoshie,F,6\\r\\nDot,F,6\\r\\nEarlie,F,6\\r\\nElfie,F,6\\r\\nEmelie,F,6\\r\\nErmine,F,6\\r\\nEugene,F,6\\r\\nEve,F,6\\r\\nEvelina,F,6\\r\\nFrancisquita,F,6\\r\\nGeorgeanna,F,6\\r\\nGlendora,F,6\\r\\nHarry,F,6\\r\\nHennie,F,6\\r\\nHonora,F,6\\r\\nIcie,F,6\\r\\nJeannie,F,6\\r\\nJeffie,F,6\\r\\nJemima,F,6\\r\\nJesse,F,6\\r\\nJessica,F,6\\r\\nJoan,F,6\\r\\nJosefa,F,6\\r\\nJoyce,F,6\\r\\nJustine,F,6\\r\\nKatharina,F,6\\r\\nLeontine,F,6\\r\\nLeva,F,6\\r\\nLinna,F,6\\r\\nLitha,F,6\\r\\nLuberta,F,6\\r\\nMabell,F,6\\r\\nMacie,F,6\\r\\nMadeleine,F,6\\r\\nMammie,F,6\\r\\nMannie,F,6\\r\\nMargarita,F,6\\r\\nMarget,F,6\\r\\nMariam,F,6\\r\\nMarianna,F,6\\r\\nMarry,F,6\\r\\nMaymie,F,6\\r\\nMedia,F,6\\r\\nMercedes,F,6\\r\\nMinda,F,6\\r\\nMyrtice,F,6\\r\\nNella,F,6\\r\\nNovella,F,6\\r\\nOdelia,F,6\\r\\nOttilia,F,6\\r\\nOva,F,6\\r\\nParlee,F,6\\r\\nPatience,F,6\\r\\nPatty,F,6\\r\\nPearla,F,6\\r\\nPeggy,F,6\\r\\nPenelope,F,6\\r\\nPennie,F,6\\r\\nPerry,F,6\\r\\nPinkey,F,6\\r\\nRella,F,6\\r\\nReta,F,6\\r\\nRettie,F,6\\r\\nRosia,F,6\\r\\nRuthie,F,6\\r\\nSabina,F,6\\r\\nSelena,F,6\\r\\nSister,F,6\\r\\nThea,F,6\\r\\nThelma,F,6\\r\\nTheresia,F,6\\r\\nThresa,F,6\\r\\nTom,F,6\\r\\nValeria,F,6\\r\\nAida,F,5\\r\\nAlene,F,5\\r\\nAlla,F,5\\r\\nAlphonsine,F,5\\r\\nAlverda,F,5\\r\\nAnner,F,5\\r\\nAntonette,F,5\\r\\nArdelia,F,5\\r\\nArgie,F,5\\r\\nArie,F,5\\r\\nArkie,F,5\\r\\nArletta,F,5\\r\\nArlie,F,5\\r\\nArthur,F,5\\r\\nAson,F,5\\r\\nAtha,F,5\\r\\nBea,F,5\\r\\nBelva,F,5\\r\\nBert,F,5\\r\\nBettye,F,5\\r\\nBiddie,F,5\\r\\nBina,F,5\\r\\nBobbie,F,5\\r\\nCaddie,F,5\\r\\nCammie,F,5\\r\\nCappie,F,5\\r\\nCaro,F,5\\r\\nCherry,F,5\\r\\nClaribel,F,5\\r\\nClassie,F,5\\r\\nCloe,F,5\\r\\nCorene,F,5\\r\\nDaisey,F,5\\r\\nDeetta,F,5\\r\\nDillie,F,5\\r\\nDottie,F,5\\r\\nEileen,F,5\\r\\nElaine,F,5\\r\\nElberta,F,5\\r\\nElna,F,5\\r\\nElvie,F,5\\r\\nElza,F,5\\r\\nEther,F,5\\r\\nEudora,F,5\\r\\nEveline,F,5\\r\\nFelicie,F,5\\r\\nFlorrie,F,5\\r\\nFranc,F,5\\r\\nFrederica,F,5\\r\\nGena,F,5\\r\\nGlenn,F,5\\r\\nGuadalupe,F,5\\r\\nGusta,F,5\\r\\nHassie,F,5\\r\\nHellen,F,5\\r\\nIcey,F,5\\r\\nInes,F,5\\r\\nIvey,F,5\\r\\nIzora,F,5\\r\\nJodie,F,5\\r\\nJuliette,F,5\\r\\nJunia,F,5\\r\\nLaney,F,5\\r\\nLanie,F,5\\r\\nLassie,F,5\\r\\nLavenia,F,5\\r\\nLeone,F,5\\r\\nLeonia,F,5\\r\\nLockie,F,5\\r\\nLorene,F,5\\r\\nLossie,F,5\\r\\nLota,F,5\\r\\nLovey,F,5\\r\\nLuisa,F,5\\r\\nLulie,F,5\\r\\nMadora,F,5\\r\\nMalissie,F,5\\r\\nManie,F,5\\r\\nMarianita,F,5\\r\\nMattye,F,5\\r\\nMaybell,F,5\\r\\nMelina,F,5\\r\\nMelva,F,5\\r\\nMercy,F,5\\r\\nMerta,F,5\\r\\nMida,F,5\\r\\nMima,F,5\\r\\nMinervia,F,5\\r\\nMonica,F,5\\r\\nNana,F,5\\r\\nNarcissus,F,5\\r\\nNecie,F,5\\r\\nNelia,F,5\\r\\nNena,F,5\\r\\nNezzie,F,5\\r\\nNorine,F,5\\r\\nOctavie,F,5\\r\\nOdile,F,5\\r\\nOlena,F,5\\r\\nOrie,F,5\\r\\nOrilla,F,5\\r\\nOtie,F,5\\r\\nParilee,F,5\\r\\nPernie,F,5\\r\\nPhilomene,F,5\\r\\nPinky,F,5\\r\\nPricilla,F,5\\r\\nRefugia,F,5\\r\\nRennie,F,5\\r\\nRessie,F,5\\r\\nReva,F,5\\r\\nRoma,F,5\\r\\nRoxanna,F,5\\r\\nRozella,F,5\\r\\nSarrah,F,5\\r\\nSedonia,F,5\\r\\nSenie,F,5\\r\\nSpicy,F,5\\r\\nSybil,F,5\\r\\nTabitha,F,5\\r\\nTherese,F,5\\r\\nTinnie,F,5\\r\\nTishie,F,5\\r\\nVergie,F,5\\r\\nVeva,F,5\\r\\nVictorine,F,5\\r\\nVira,F,5\\r\\nWalter,F,5\\r\\nWanda,F,5\\r\\nWilhelmine,F,5\\r\\nWill,F,5\\r\\nZelia,F,5\\r\\nZenobia,F,5\\r\\nZillah,F,5\\r\\nZoa,F,5\\r\\nJohn,M,8894\\r\\nWilliam,M,8387\\r\\nJames,M,5224\\r\\nCharles,M,4826\\r\\nGeorge,M,4736\\r\\nFrank,M,2986\\r\\nJoseph,M,2516\\r\\nHenry,M,2383\\r\\nRobert,M,2334\\r\\nThomas,M,2316\\r\\nEdward,M,2250\\r\\nHarry,M,2110\\r\\nWalter,M,1705\\r\\nArthur,M,1591\\r\\nFred,M,1502\\r\\nAlbert,M,1496\\r\\nSamuel,M,937\\r\\nClarence,M,837\\r\\nLouis,M,796\\r\\nDavid,M,735\\r\\nRichard,M,649\\r\\nCharlie,M,643\\r\\nErnest,M,641\\r\\nAndrew,M,623\\r\\nDaniel,M,615\\r\\nJoe,M,607\\r\\nOscar,M,607\\r\\nJesse,M,584\\r\\nWill,M,576\\r\\nRoy,M,556\\r\\nBenjamin,M,508\\r\\nCarl,M,480\\r\\nSam,M,476\\r\\nWillie,M,474\\r\\nAlfred,M,457\\r\\nPeter,M,450\\r\\nFrederick,M,438\\r\\nLewis,M,431\\r\\nHoward,M,429\\r\\nElmer,M,423\\r\\nHerbert,M,422\\r\\nEarl,M,389\\r\\nLee,M,388\\r\\nTom,M,386\\r\\nRalph,M,385\\r\\nMartin,M,377\\r\\nHerman,M,359\\r\\nPaul,M,358\\r\\nJacob,M,356\\r\\nClyde,M,336\\r\\nEugene,M,325\\r\\nJim,M,322\\r\\nHarvey,M,318\\r\\nClaude,M,315\\r\\nMichael,M,307\\r\\nBen,M,306\\r\\nEdwin,M,299\\r\\nEdgar,M,292\\r\\nChester,M,290\\r\\nFrancis,M,285\\r\\nLawrence,M,282\\r\\nBert,M,273\\r\\nCharley,M,254\\r\\nEd,M,247\\r\\nJack,M,242\\r\\nOtto,M,240\\r\\nIra,M,239\\r\\nRaymond,M,233\\r\\nLuther,M,229\\r\\nIsaac,M,227\\r\\nGuy,M,224\\r\\nOliver,M,219\\r\\nFloyd,M,217\\r\\nHugh,M,215\\r\\nPatrick,M,213\\r\\nHomer,M,210\\r\\nAugust,M,209\\r\\nRay,M,202\\r\\nLeonard,M,200\\r\\nAlexander,M,187\\r\\nTheodore,M,185\\r\\nAllen,M,175\\r\\nHorace,M,167\\r\\nArchie,M,166\\r\\nPhilip,M,166\\r\\nSidney,M,165\\r\\nMarion,M,163\\r\\nJulius,M,160\\r\\nJessie,M,151\\r\\nMilton,M,149\\r\\nWarren,M,146\\r\\nAnthony,M,143\\r\\nEverett,M,143\\r\\nLeroy,M,143\\r\\nLeo,M,142\\r\\nBernard,M,141\\r\\nLeon,M,140\\r\\nStephen,M,140\\r\\nEmil,M,139\\r\\nClifford,M,138\\r\\nDave,M,135\\r\\nPerry,M,133\\r\\nWillis,M,131\\r\\nGrover,M,127\\r\\nEddie,M,125\\r\\nRufus,M,125\\r\\nCalvin,M,122\\r\\nAlex,M,120\\r\\nDan,M,120\\r\\nLeslie,M,120\\r\\nLester,M,116\\r\\nAdolph,M,115\\r\\nAlvin,M,113\\r\\nAmos,M,113\\r\\nDennis,M,112\\r\\nJess,M,112\\r\\nHarold,M,108\\r\\nAdam,M,107\\r\\nJerry,M,107\\r\\nNorman,M,106\\r\\nAaron,M,105\\r\\nWesley,M,104\\r\\nAlonzo,M,100\\r\\nWallace,M,100\\r\\nVictor,M,99\\r\\nLloyd,M,98\\r\\nMack,M,98\\r\\nJay,M,97\\r\\nJake,M,96\\r\\nMelvin,M,96\\r\\nFranklin,M,94\\r\\nNathan,M,93\\r\\nCornelius,M,92\\r\\nElbert,M,92\\r\\nElijah,M,92\\r\\nGilbert,M,92\\r\\nPhillip,M,92\\r\\nRoscoe,M,92\\r\\nWillard,M,92\\r\\nClaud,M,91\\r\\nLonnie,M,91\\r\\nMark,M,91\\r\\nSimon,M,90\\r\\nChristopher,M,89\\r\\nMaurice,M,89\\r\\nOtis,M,89\\r\\nRoss,M,88\\r\\nClinton,M,87\\r\\nEarnest,M,87\\r\\nEmmett,M,87\\r\\nPercy,M,87\\r\\nMatthew,M,86\\r\\nHiram,M,85\\r\\nLevi,M,85\\r\\nFredrick,M,84\\r\\nEli,M,82\\r\\nMoses,M,82\\r\\nGus,M,81\\r\\nNoah,M,81\\r\\nMarshall,M,79\\r\\nNelson,M,79\\r\\nSilas,M,77\\r\\nMax,M,75\\r\\nMorris,M,75\\r\\nJasper,M,74\\r\\nJose,M,74\\r\\nManuel,M,74\\r\\nEllis,M,73\\r\\nIrvin,M,73\\r\\nMike,M,73\\r\\nWilbur,M,73\\r\\nAlva,M,72\\r\\nWiley,M,72\\r\\nMarvin,M,71\\r\\nNicholas,M,71\\r\\nVirgil,M,70\\r\\nSylvester,M,69\\r\\nFelix,M,68\\r\\nStanley,M,68\\r\\nRussell,M,67\\r\\nWilson,M,67\\r\\nGlenn,M,65\\r\\nMose,M,65\\r\\nOra,M,65\\r\\nAnton,M,63\\r\\nDock,M,63\\r\\nEdmund,M,63\\r\\nHarley,M,63\\r\\nOwen,M,63\\r\\nBob,M,62\\r\\nSteve,M,62\\r\\nTimothy,M,62\\r\\nAsa,M,61\\r\\nHarrison,M,61\\r\\nOllie,M,61\\r\\nRudolph,M,61\\r\\nNewton,M,59\\r\\nOrville,M,59\\r\\nClayton,M,58\\r\\nPearl,M,57\\r\\nReuben,M,57\\r\\nJoshua,M,55\\r\\nDon,M,54\\r\\nWade,M,54\\r\\nAugustus,M,53\\r\\nCurtis,M,53\\r\\nHubert,M,53\\r\\nAbraham,M,52\\r\\nDonald,M,52\\r\\nEdmond,M,52\\r\\nPreston,M,52\\r\\nCecil,M,51\\r\\nJoel,M,51\\r\\nLon,M,51\\r\\nBill,M,50\\r\\nBruce,M,50\\r\\nByron,M,50\\r\\nChristian,M,50\\r\\nIke,M,50\\r\\nJuan,M,50\\r\\nColumbus,M,49\\r\\nGarfield,M,49\\r\\nGustave,M,49\\r\\nNathaniel,M,49\\r\\nBarney,M,48\\r\\nJohnnie,M,48\\r\\nJulian,M,48\\r\\nSherman,M,48\\r\\nChris,M,47\\r\\nCyrus,M,47\\r\\nScott,M,47\\r\\nErvin,M,46\\r\\nIrving,M,46\\r\\nMonroe,M,46\\r\\nVernon,M,46\\r\\nWinfield,M,46\\r\\nClark,M,45\\r\\nRiley,M,45\\r\\nSolomon,M,45\\r\\nElias,M,44\\r\\nEnoch,M,44\\r\\nGustav,M,44\\r\\nJeff,M,44\\r\\nMillard,M,44\\r\\nAbe,M,43\\r\\nAndy,M,43\\r\\nAustin,M,43\\r\\nDelbert,M,43\\r\\nEdd,M,43\\r\\nEmery,M,43\\r\\nPete,M,43\\r\\nVincent,M,43\\r\\nArnold,M,42\\r\\nBud,M,42\\r\\nElisha,M,42\\r\\nLouie,M,42\\r\\nMiles,M,42\\r\\nWilfred,M,42\\r\\nLemuel,M,41\\r\\nMajor,M,41\\r\\nBurton,M,40\\r\\nMatt,M,39\\r\\nAnderson,M,38\\r\\nArch,M,38\\r\\nChas,M,38\\r\\nConrad,M,38\\r\\nEmory,M,38\\r\\nGordon,M,38\\r\\nHugo,M,38\\r\\nLuke,M,38\\r\\nMarcus,M,38\\r\\nWilbert,M,38\\r\\nJeremiah,M,37\\r\\nMathew,M,37\\r\\nAmbrose,M,36\\r\\nJerome,M,36\\r\\nNick,M,36\\r\\nRoland,M,36\\r\\nBurt,M,35\\r\\nCleveland,M,35\\r\\nOle,M,35\\r\\nEmanuel,M,34\\r\\nJackson,M,34\\r\\nDouglas,M,33\\r\\nEarle,M,33\\r\\nGreen,M,33\\r\\nKarl,M,33\\r\\nLynn,M,33\\r\\nFoster,M,32\\r\\nGrant,M,32\\r\\nJefferson,M,32\\r\\nMary,M,32\\r\\nTony,M,32\\r\\nCarroll,M,31\\r\\nClem,M,31\\r\\nClement,M,31\\r\\nVan,M,31\\r\\nAntonio,M,30\\r\\nChauncey,M,30\\r\\nEllsworth,M,30\\r\\nFerdinand,M,30\\r\\nIsaiah,M,30\\r\\nMitchell,M,30\\r\\nNed,M,30\\r\\nRuben,M,30\\r\\nBenjiman,M,29\\r\\nIvan,M,29\\r\\nNeal,M,29\\r\\nAlton,M,28\\r\\nArchibald,M,28\\r\\nEzra,M,28\\r\\nForest,M,28\\r\\nHans,M,28\\r\\nIrwin,M,28\\r\\nLaurence,M,28\\r\\nSpencer,M,28\\r\\nZack,M,28\\r\\nAbner,M,27\\r\\nFletcher,M,27\\r\\nGlen,M,27\\r\\nJosh,M,27\\r\\nTaylor,M,27\\r\\nWard,M,27\\r\\nClifton,M,26\\r\\nElliott,M,26\\r\\nErwin,M,26\\r\\nJimmie,M,26\\r\\nKenneth,M,26\\r\\nLyman,M,26\\r\\nSeth,M,26\\r\\nClay,M,25\\r\\nEmmet,M,25\\r\\nForrest,M,25\\r\\nGeneral,M,25\\r\\nLucius,M,25\\r\\nWayne,M,25\\r\\nAllie,M,24\\r\\nBerry,M,24\\r\\nDick,M,24\\r\\nDudley,M,24\\r\\nElwood,M,24\\r\\nFrancisco,M,24\\r\\nIsiah,M,24\\r\\nJudge,M,24\\r\\nLem,M,24\\r\\nRoger,M,24\\r\\nEmile,M,23\\r\\nHamilton,M,23\\r\\nMalcolm,M,23\\r\\nMerle,M,23\\r\\nMerton,M,23\\r\\nNeil,M,23\\r\\nOmer,M,23\\r\\nPhil,M,23\\r\\nPorter,M,23\\r\\nSandy,M,23\\r\\nSim,M,23\\r\\nVern,M,23\\r\\nCarlos,M,22\\r\\nDee,M,22\\r\\nGuss,M,22\\r\\nJonas,M,22\\r\\nJudson,M,22\\r\\nKing,M,22\\r\\nLoren,M,22\\r\\nMadison,M,22\\r\\nMyron,M,22\\r\\nNapoleon,M,22\\r\\nOtho,M,22\\r\\nSanford,M,22\\r\\nAl,M,21\\r\\nBennie,M,21\\r\\nBoyd,M,21\\r\\nDewitt,M,21\\r\\nHarve,M,21\\r\\nLeland,M,21\\r\\nLige,M,21\\r\\nLucian,M,21\\r\\nRoyal,M,21\\r\\nTruman,M,21\\r\\nAbram,M,20\\r\\nAddison,M,20\\r\\nAubrey,M,20\\r\\nEmerson,M,20\\r\\nFrederic,M,20\\r\\nFreeman,M,20\\r\\nHal,M,20\\r\\nJunius,M,20\\r\\nLogan,M,20\\r\\nLorenzo,M,20\\r\\nMerrill,M,20\\r\\nMilo,M,20\\r\\nMurray,M,20\\r\\nPat,M,20\\r\\nRamon,M,20\\r\\nSterling,M,20\\r\\nWalker,M,20\\r\\nWash,M,20\\r\\nWashington,M,20\\r\\nWebster,M,20\\r\\nWilford,M,20\\r\\nAdolphus,M,19\\r\\nAllan,M,19\\r\\nCarey,M,19\\r\\nCarlton,M,19\\r\\nDallas,M,19\\r\\nEnos,M,19\\r\\nJean,M,19\\r\\nMorgan,M,19\\r\\nNels,M,19\\r\\nRolla,M,19\\r\\nAlvah,M,18\\r\\nBenton,M,18\\r\\nBertram,M,18\\r\\nDoc,M,18\\r\\nDuncan,M,18\\r\\nElza,M,18\\r\\nEvan,M,18\\r\\nEvert,M,18\\r\\nHaywood,M,18\\r\\nIsom,M,18\\r\\nIsrael,M,18\\r\\nJules,M,18\\r\\nLawson,M,18\\r\\nLeander,M,18\\r\\nMathias,M,18\\r\\nOlin,M,18\\r\\nOrin,M,18\\r\\nPedro,M,18\\r\\nPrince,M,18\\r\\nStewart,M,18\\r\\nWarner,M,18\\r\\nAngus,M,17\\r\\nArther,M,17\\r\\nChrist,M,17\\r\\nClint,M,17\\r\\nFrances,M,17\\r\\nGiles,M,17\\r\\nHarmon,M,17\\r\\nHenery,M,17\\r\\nJonathan,M,17\\r\\nJordan,M,17\\r\\nOlaf,M,17\\r\\nPink,M,17\\r\\nRaleigh,M,17\\r\\nRolland,M,17\\r\\nWilber,M,17\\r\\nAnna,M,16\\r\\nCaleb,M,16\\r\\nCasper,M,16\\r\\nClarance,M,16\\r\\nElmo,M,16\\r\\nErnst,M,16\\r\\nHouston,M,16\\r\\nRandolph,M,16\\r\\nSol,M,16\\r\\nTim,M,16\\r\\nValentine,M,16\\r\\nWm,M,16\\r\\nAlf,M,15\\r\\nBenjamine,M,15\\r\\nClair,M,15\\r\\nDorsey,M,15\\r\\nEarly,M,15\\r\\nElvin,M,15\\r\\nFay,M,15\\r\\nGranville,M,15\\r\\nHarris,M,15\\r\\nHenderson,M,15\\r\\nHezekiah,M,15\\r\\nJohnie,M,15\\r\\nLonzo,M,15\\r\\nMont,M,15\\r\\nNewt,M,15\\r\\nNoble,M,15\\r\\nRex,M,15\\r\\nRollin,M,15\\r\\nWilmer,M,15\\r\\nAdelbert,M,14\\r\\nAdrian,M,14\\r\\nAlphonse,M,14\\r\\nArlie,M,14\\r\\nAvery,M,14\\r\\nCal,M,14\\r\\nEphraim,M,14\\r\\nEverette,M,14\\r\\nEzekiel,M,14\\r\\nHardy,M,14\\r\\nJohnny,M,14\\r\\nJosiah,M,14\\r\\nLum,M,14\\r\\nMinnie,M,14\\r\\nTheo,M,14\\r\\nUlysses,M,14\\r\\nWalton,M,14\\r\\nWatson,M,14\\r\\nAlford,M,13\\r\\nAloysius,M,13\\r\\nBlaine,M,13\\r\\nElie,M,13\\r\\nElizabeth,M,13\\r\\nGarrett,M,13\\r\\nGerald,M,13\\r\\nIssac,M,13\\r\\nJarvis,M,13\\r\\nJason,M,13\\r\\nLoyd,M,13\\r\\nMahlon,M,13\\r\\nMargaret,M,13\\r\\nMicheal,M,13\\r\\nNat,M,13\\r\\nOmar,M,13\\r\\nOtha,M,13\\r\\nPierre,M,13\\r\\nRichmond,M,13\\r\\nRollie,M,13\\r\\nShirley,M,13\\r\\nSimeon,M,13\\r\\nSmith,M,13\\r\\nSteven,M,13\\r\\nTed,M,13\\r\\nThornton,M,13\\r\\nTomas,M,13\\r\\nTroy,M,13\\r\\nWilliams,M,13\\r\\nZeb,M,13\\r\\nAbel,M,12\\r\\nAlden,M,12\\r\\nAllison,M,12\\r\\nAxel,M,12\\r\\nBrown,M,12\\r\\nClare,M,12\\r\\nCleve,M,12\\r\\nColeman,M,12\\r\\nDean,M,12\\r\\nElzie,M,12\\r\\nErnie,M,12\\r\\nFritz,M,12\\r\\nGust,M,12\\r\\nHollis,M,12\\r\\nJesus,M,12\\r\\nJohnson,M,12\\r\\nKelly,M,12\\r\\nLarry,M,12\\r\\nLincoln,M,12\\r\\nLindsey,M,12\\r\\nMason,M,12\\r\\nMiguel,M,12\\r\\nOrson,M,12\\r\\nRandall,M,12\\r\\nReginald,M,12\\r\\nRush,M,12\\r\\nSquire,M,12\\r\\nSumner,M,12\\r\\nWheeler,M,12\\r\\nYoung,M,12\\r\\nAlpha,M,11\\r\\nAuthor,M,11\\r\\nBart,M,11\\r\\nBenjaman,M,11\\r\\nBurl,M,11\\r\\nCarter,M,11\\r\\nChin,M,11\\r\\nCicero,M,11\\r\\nDale,M,11\\r\\nDavis,M,11\\r\\nDell,M,11\\r\\nDrew,M,11\\r\\nDwight,M,11\\r\\nEric,M,11\\r\\nFlorence,M,11\\r\\nGarland,M,11\\r\\nHayes,M,11\\r\\nHilliard,M,11\\r\\nHosea,M,11\\r\\nLafayette,M,11\\r\\nLew,M,11\\r\\nLou,M,11\\r\\nLucien,M,11\\r\\nMelville,M,11\\r\\nMilford,M,11\\r\\nNorris,M,11\\r\\nOran,M,11\\r\\nOrange,M,11\\r\\nOrlando,M,11\\r\\nOrrin,M,11\\r\\nRodney,M,11\\r\\nStuart,M,11\\r\\nSydney,M,11\\r\\nThaddeus,M,11\\r\\nTheron,M,11\\r\\nTommy,M,11\\r\\nTurner,M,11\\r\\nWest,M,11\\r\\nWilburn,M,11\\r\\nWinfred,M,11\\r\\nAlma,M,10\\r\\nAlmon,M,10\\r\\nBertie,M,10\\r\\nBerton,M,10\\r\\nBeverly,M,10\\r\\nBishop,M,10\\r\\nBuford,M,10\\r\\nCary,M,10\\r\\nCassius,M,10\\r\\nCliff,M,10\\r\\nColonel,M,10\\r\\nCrawford,M,10\\r\\nDillard,M,10\\r\\nElmore,M,10\\r\\nGabriel,M,10\\r\\nGene,M,10\\r\\nGodfrey,M,10\\r\\nHarper,M,10\\r\\nHector,M,10\\r\\nHollie,M,10\\r\\nHowell,M,10\\r\\nJonah,M,10\\r\\nLen,M,10\\r\\nLinwood,M,10\\r\\nLucious,M,10\\r\\nMaxwell,M,10\\r\\nMaynard,M,10\\r\\nMinor,M,10\\r\\nMortimer,M,10\\r\\nNewell,M,10\\r\\nOcie,M,10\\r\\nOlen,M,10\\r\\nOren,M,10\\r\\nOswald,M,10\\r\\nPablo,M,10\\r\\nPrice,M,10\\r\\nReece,M,10\\r\\nRoman,M,10\\r\\nRube,M,10\\r\\nSeymour,M,10\\r\\nSid,M,10\\r\\nSoloman,M,10\\r\\nTerry,M,10\\r\\nTobe,M,10\\r\\nTommie,M,10\\r\\nWright,M,10\\r\\nWylie,M,10\\r\\nAlfonso,M,9\\r\\nAlonza,M,9\\r\\nAndres,M,9\\r\\nAnson,M,9\\r\\nAntone,M,9\\r\\nAshley,M,9\\r\\nAugustine,M,9\\r\\nBennett,M,9\\r\\nBirt,M,9\\r\\nClara,M,9\\r\\nCloyd,M,9\\r\\nCollins,M,9\\r\\nDempsey,M,9\\r\\nDolphus,M,9\\r\\nDora,M,9\\r\\nEphriam,M,9\\r\\nFate,M,9\\r\\nFleming,M,9\\r\\nHampton,M,9\\r\\nHerschel,M,9\\r\\nHyrum,M,9\\r\\nIsadore,M,9\\r\\nIsham,M,9\\r\\nMarshal,M,9\\r\\nMartha,M,9\\r\\nMerritt,M,9\\r\\nPinkney,M,9\\r\\nRansom,M,9\\r\\nRupert,M,9\\r\\nTravis,M,9\\r\\nVance,M,9\\r\\nWillam,M,9\\r\\nWong,M,9\\r\\nAlois,M,8\\r\\nAlvie,M,8\\r\\nAnnie,M,8\\r\\nAntoine,M,8\\r\\nArmand,M,8\\r\\nAron,M,8\\r\\nAuther,M,8\\r\\nBailey,M,8\\r\\nBarton,M,8\\r\\nBasil,M,8\\r\\nBradley,M,8\\r\\nBrady,M,8\\r\\nBurley,M,8\\r\\nCornelious,M,8\\r\\nDow,M,8\\r\\nEdson,M,8\\r\\nEgbert,M,8\\r\\nFerd,M,8\\r\\nFestus,M,8\\r\\nFord,M,8\\r\\nGustaf,M,8\\r\\nHamp,M,8\\r\\nHosteen,M,8\\r\\nJewell,M,8\\r\\nKirby,M,8\\r\\nLlewellyn,M,8\\r\\nLowell,M,8\\r\\nLuis,M,8\\r\\nMelton,M,8\\r\\nOdell,M,8\\r\\nOrley,M,8\\r\\nOrval,M,8\\r\\nParker,M,8\\r\\nPerley,M,8\\r\\nReese,M,8\\r\\nReinhold,M,8\\r\\nRene,M,8\\r\\nRosco,M,8\\r\\nSanders,M,8\\r\\nShelby,M,8\\r\\nShelton,M,8\\r\\nWillian,M,8\\r\\nWilton,M,8\\r\\nAddie,M,7\\r\\nAlbin,M,7\\r\\nAlpheus,M,7\\r\\nArt,M,7\\r\\nArtie,M,7\\r\\nBallard,M,7\\r\\nBartholomew,M,7\\r\\nBascom,M,7\\r\\nBee,M,7\\r\\nBernice,M,7\\r\\nBernie,M,7\\r\\nBoss,M,7\\r\\nBurr,M,7\\r\\nBuster,M,7\\r\\nButler,M,7\\r\\nByrd,M,7\\r\\nChauncy,M,7\\r\\nConnie,M,7\\r\\nCreed,M,7\\r\\nCyril,M,7\\r\\nDelmer,M,7\\r\\nDenis,M,7\\r\\nDoctor,M,7\\r\\nDominick,M,7\\r\\nEben,M,7\\r\\nEffie,M,7\\r\\nEldred,M,7\\r\\nEllie,M,7\\r\\nEllison,M,7\\r\\nElton,M,7\\r\\nEmma,M,7\\r\\nEmmitt,M,7\\r\\nEwell,M,7\\r\\nFinley,M,7\\r\\nFrench,M,7\\r\\nFurman,M,7\\r\\nGaston,M,7\\r\\nGeo,M,7\\r\\nGerhard,M,7\\r\\nGraham,M,7\\r\\nHallie,M,7\\r\\nHarman,M,7\\r\\nHershel,M,7\\r\\nIvory,M,7\\r\\nIvy,M,7\\r\\nJimmy,M,7\\r\\nLacy,M,7\\r\\nLars,M,7\\r\\nLenard,M,7\\r\\nLevy,M,7\\r\\nLionel,M,7\\r\\nLouise,M,7\\r\\nLyle,M,7\\r\\nMat,M,7\\r\\nMervin,M,7\\r\\nMilas,M,7\\r\\nMiller,M,7\\r\\nMiner,M,7\\r\\nMontgomery,M,7\\r\\nMurphy,M,7\\r\\nOdie,M,7\\r\\nOrrie,M,7\\r\\nOttis,M,7\\r\\nParis,M,7\\r\\nPleas,M,7\\r\\nPleasant,M,7\\r\\nRafael,M,7\\r\\nReed,M,7\\r\\nRogers,M,7\\r\\nSantiago,M,7\\r\\nSarah,M,7\\r\\nThad,M,7\\r\\nTheadore,M,7\\r\\nUnknown,M,7\\r\\nUrban,M,7\\r\\nVivian,M,7\\r\\nWendell,M,7\\r\\nWess,M,7\\r\\nWoody,M,7\\r\\nAce,M,6\\r\\nAdolf,M,6\\r\\nAlgie,M,6\\r\\nAlice,M,6\\r\\nAlphonso,M,6\\r\\nAlvis,M,6\\r\\nAmmon,M,6\\r\\nArlington,M,6\\r\\nAsbury,M,6\\r\\nAshton,M,6\\r\\nAuthur,M,6\\r\\nBaxter,M,6\\r\\nBertha,M,6\\r\\nBryan,M,6\\r\\nBudd,M,6\\r\\nCameron,M,6\\r\\nColey,M,6\\r\\nCullen,M,6\\r\\nCurt,M,6\\r\\nDana,M,6\\r\\nDelos,M,6\\r\\nDennie,M,6\\r\\nDexter,M,6\\r\\nDouglass,M,6\\r\\nEdna,M,6\\r\\nElam,M,6\\r\\nEldridge,M,6\\r\\nElsworth,M,6\\r\\nEnnis,M,6\\r\\nEnrique,M,6\\r\\nFelipe,M,6\\r\\nFernando,M,6\\r\\nFinis,M,6\\r\\nFreddie,M,6\\r\\nGabe,M,6\\r\\nHarland,M,6\\r\\nHartwell,M,6\\r\\nHeber,M,6\\r\\nHilary,M,6\\r\\nHilton,M,6\\r\\nHoyt,M,6\\r\\nHumphrey,M,6\\r\\nHunter,M,6\\r\\nIrvine,M,6\\r\\nIsidor,M,6\\r\\nIsreal,M,6\\r\\nJeptha,M,6\\r\\nJune,M,6\\r\\nLandon,M,6\\r\\nLarkin,M,6\\r\\nLennie,M,6\\r\\nLillian,M,6\\r\\nLudwig,M,6\\r\\nMabel,M,6\\r\\nMalcom,M,6\\r\\nManning,M,6\\r\\nMaude,M,6\\r\\nMay,M,6\\r\\nMell,M,6\\r\\nMeyer,M,6\\r\\nMorton,M,6\\r\\nObie,M,6\\r\\nOlie,M,6\\r\\nOlof,M,6\\r\\nOrie,M,6\\r\\nOrlo,M,6\\r\\nQuincy,M,6\\r\\nRice,M,6\\r\\nRobt,M,6\\r\\nRonald,M,6\\r\\nSampson,M,6\\r\\nSamual,M,6\\r\\nSimpson,M,6\\r\\nSpurgeon,M,6\\r\\nSylvanus,M,6\\r\\nTandy,M,6\\r\\nThos,M,6\\r\\nThurlow,M,6\\r\\nThurman,M,6\\r\\nTobias,M,6\\r\\nToy,M,6\\r\\nTracy,M,6\\r\\nVerne,M,6\\r\\nVicente,M,6\\r\\nWaldo,M,6\\r\\nWeldon,M,6\\r\\nWhit,M,6\\r\\nWilhelm,M,6\\r\\nWinston,M,6\\r\\nWoodie,M,6\\r\\nWyatt,M,6\\r\\nZeke,M,6\\r\\nZeno,M,6\\r\\nAlbertus,M,5\\r\\nAlcide,M,5\\r\\nAlec,M,5\\r\\nAlphonsus,M,5\\r\\nAlvan,M,5\\r\\nAmado,M,5\\r\\nAnanias,M,5\\r\\nAncel,M,5\\r\\nArvid,M,5\\r\\nAtlas,M,5\\r\\nBanks,M,5\\r\\nBarry,M,5\\r\\nBelton,M,5\\r\\nBenedict,M,5\\r\\nBernhard,M,5\\r\\nBertrand,M,5\\r\\nBlair,M,5\\r\\nBlake,M,5\\r\\nBlanchard,M,5\\r\\nBluford,M,5\\r\\nBose,M,5\\r\\nBryant,M,5\\r\\nBuck,M,5\\r\\nCaptain,M,5\\r\\nCarleton,M,5\\r\\nCeasar,M,5\\r\\nChalmers,M,5\\r\\nChance,M,5\\r\\nChancey,M,5\\r\\nChancy,M,5\\r\\nCharle,M,5\\r\\nClide,M,5\\r\\nColin,M,5\\r\\nCommodore,M,5\\r\\nCoy,M,5\\r\\nCrockett,M,5\\r\\nDaisy,M,5\\r\\nDanial,M,5\\r\\nDelmar,M,5\\r\\nDink,M,5\\r\\nDolph,M,5\\r\\nDuke,M,5\\r\\nElder,M,5\\r\\nElige,M,5\\r\\nElihu,M,5\\r\\nElla,M,5\\r\\nElva,M,5\\r\\nElwin,M,5\\r\\nEmett,M,5\\r\\nEmilio,M,5\\r\\nEmmit,M,5\\r\\nErick,M,5\\r\\nEssex,M,5\\r\\nEstill,M,5\\r\\nEwin,M,5\\r\\nFayette,M,5\\r\\nFenton,M,5\\r\\nGale,M,5\\r\\nGarret,M,5\\r\\nGay,M,5\\r\\nGideon,M,5\\r\\nGolden,M,5\\r\\nGottlieb,M,5\\r\\nGregorio,M,5\\r\\nGrove,M,5\\r\\nHanson,M,5\\r\\nHarlan,M,5\\r\\nHarlie,M,5\\r\\nHarlow,M,5\\r\\nHaskell,M,5\\r\\nHelen,M,5\\r\\nHermann,M,5\\r\\nHoratio,M,5\\r\\nHyman,M,5\\r\\nIda,M,5\\r\\nIngram,M,5\\r\\nIva,M,5\\r\\nJep,M,5\\r\\nJodie,M,5\\r\\nJosephus,M,5\\r\\nJoy,M,5\\r\\nJudd,M,5\\r\\nJulious,M,5\\r\\nJunious,M,5\\r\\nLambert,M,5\\r\\nLemon,M,5\\r\\nLesley,M,5\\r\\nLessie,M,5\\r\\nLillie,M,5\\r\\nLinton,M,5\\r\\nLinzy,M,5\\r\\nLittle,M,5\\r\\nLoney,M,5\\r\\nLonie,M,5\\r\\nLoring,M,5\\r\\nLovie,M,5\\r\\nLucas,M,5\\r\\nLute,M,5\\r\\nMac,M,5\\r\\nMace,M,5\\r\\nMal,M,5\\r\\nManford,M,5\\r\\nManley,M,5\\r\\nMannie,M,5\\r\\nMarcellus,M,5\\r\\nMatthias,M,5\\r\\nMaud,M,5\\r\\nMeredith,M,5\\r\\nMichel,M,5\\r\\nMitchel,M,5\\r\\nMoody,M,5\\r\\nNickolas,M,5\\r\\nNoel,M,5\\r\\nNorwood,M,5\\r\\nOley,M,5\\r\\nOral,M,5\\r\\nOrel,M,5\\r\\nOrra,M,5\\r\\nPercival,M,5\\r\\nPerl,M,5\\r\\nPierce,M,5\\r\\nPles,M,5\\r\\nPowell,M,5\\r\\nRoe,M,5\\r\\nRome,M,5\\r\\nRose,M,5\\r\\nRoswell,M,5\\r\\nRutherford,M,5\\r\\nSaul,M,5\\r\\nSchuyler,M,5\\r\\nSebron,M,5\\r\\nShed,M,5\\r\\nSie,M,5\\r\\nTilford,M,5\\r\\nTitus,M,5\\r\\nToney,M,5\\r\\nVerna,M,5\\r\\nWinnie,M,5\\r\\nWinthrop,M,5\\r\\n'"
       ]
      }
     ],
     "prompt_number": 8
    },
    {
     "cell_type": "markdown",
     "metadata": {},
     "source": [
      "#Working with Series and Dataframes"
     ]
    },
    {
     "cell_type": "code",
     "collapsed": false,
     "input": [
      "ser = Series([4,7,-5,3])\n",
      "ser"
     ],
     "language": "python",
     "metadata": {},
     "outputs": [
      {
       "metadata": {},
       "output_type": "pyout",
       "prompt_number": 9,
       "text": [
        "0    4\n",
        "1    7\n",
        "2   -5\n",
        "3    3\n",
        "dtype: int64"
       ]
      }
     ],
     "prompt_number": 9
    },
    {
     "cell_type": "code",
     "collapsed": false,
     "input": [
      "ser.values "
     ],
     "language": "python",
     "metadata": {},
     "outputs": [
      {
       "metadata": {},
       "output_type": "pyout",
       "prompt_number": 10,
       "text": [
        "array([ 4,  7, -5,  3])"
       ]
      }
     ],
     "prompt_number": 10
    },
    {
     "cell_type": "code",
     "collapsed": false,
     "input": [
      "ser.index"
     ],
     "language": "python",
     "metadata": {},
     "outputs": [
      {
       "metadata": {},
       "output_type": "pyout",
       "prompt_number": 11,
       "text": [
        "Int64Index([0, 1, 2, 3], dtype=int64)"
       ]
      }
     ],
     "prompt_number": 11
    },
    {
     "cell_type": "code",
     "collapsed": false,
     "input": [
      "ser2 = Series([4, 7, -5, 3], index=['d', 'b', 'a', 'c'])\n",
      "ser2"
     ],
     "language": "python",
     "metadata": {},
     "outputs": [
      {
       "metadata": {},
       "output_type": "pyout",
       "prompt_number": 12,
       "text": [
        "d    4\n",
        "b    7\n",
        "a   -5\n",
        "c    3\n",
        "dtype: int64"
       ]
      }
     ],
     "prompt_number": 12
    },
    {
     "cell_type": "code",
     "collapsed": false,
     "input": [
      "ser2.index"
     ],
     "language": "python",
     "metadata": {},
     "outputs": [
      {
       "metadata": {},
       "output_type": "pyout",
       "prompt_number": 13,
       "text": [
        "Index([u'd', u'b', u'a', u'c'], dtype=object)"
       ]
      }
     ],
     "prompt_number": 13
    },
    {
     "cell_type": "code",
     "collapsed": false,
     "input": [
      "ser2['d']=12;ser2"
     ],
     "language": "python",
     "metadata": {},
     "outputs": [
      {
       "metadata": {},
       "output_type": "pyout",
       "prompt_number": 14,
       "text": [
        "d    12\n",
        "b     7\n",
        "a    -5\n",
        "c     3\n",
        "dtype: int64"
       ]
      }
     ],
     "prompt_number": 14
    },
    {
     "cell_type": "code",
     "collapsed": false,
     "input": [
      "ser2[ser2.values > 0]"
     ],
     "language": "python",
     "metadata": {},
     "outputs": [
      {
       "metadata": {},
       "output_type": "pyout",
       "prompt_number": 15,
       "text": [
        "d    12\n",
        "b     7\n",
        "c     3\n",
        "dtype: int64"
       ]
      }
     ],
     "prompt_number": 15
    },
    {
     "cell_type": "code",
     "collapsed": false,
     "input": [
      "ser2[ser2 > 0]"
     ],
     "language": "python",
     "metadata": {},
     "outputs": [
      {
       "metadata": {},
       "output_type": "pyout",
       "prompt_number": 16,
       "text": [
        "d    12\n",
        "b     7\n",
        "c     3\n",
        "dtype: int64"
       ]
      }
     ],
     "prompt_number": 16
    },
    {
     "cell_type": "code",
     "collapsed": false,
     "input": [
      "ser2 * 2"
     ],
     "language": "python",
     "metadata": {},
     "outputs": [
      {
       "metadata": {},
       "output_type": "pyout",
       "prompt_number": 17,
       "text": [
        "d    24\n",
        "b    14\n",
        "a   -10\n",
        "c     6\n",
        "dtype: int64"
       ]
      }
     ],
     "prompt_number": 17
    },
    {
     "cell_type": "code",
     "collapsed": false,
     "input": [
      "ser2 ** 2"
     ],
     "language": "python",
     "metadata": {},
     "outputs": [
      {
       "metadata": {},
       "output_type": "pyout",
       "prompt_number": 18,
       "text": [
        "d    144\n",
        "b     49\n",
        "a     25\n",
        "c      9\n",
        "dtype: int64"
       ]
      }
     ],
     "prompt_number": 18
    },
    {
     "cell_type": "code",
     "collapsed": false,
     "input": [
      "np.exp(ser2)"
     ],
     "language": "python",
     "metadata": {},
     "outputs": [
      {
       "metadata": {},
       "output_type": "pyout",
       "prompt_number": 19,
       "text": [
        "d    162754.791419\n",
        "b      1096.633158\n",
        "a         0.006738\n",
        "c        20.085537\n",
        "dtype: float64"
       ]
      }
     ],
     "prompt_number": 19
    },
    {
     "cell_type": "code",
     "collapsed": false,
     "input": [
      "#reindexing\n",
      "#get help on the reindex command\n",
      "ser.reindex?"
     ],
     "language": "python",
     "metadata": {},
     "outputs": [],
     "prompt_number": 20
    },
    {
     "cell_type": "code",
     "collapsed": false,
     "input": [
      "ser2_1 = ser2.reindex(['a','b','c','d','e'])\n",
      "ser2_1"
     ],
     "language": "python",
     "metadata": {},
     "outputs": [
      {
       "metadata": {},
       "output_type": "pyout",
       "prompt_number": 21,
       "text": [
        "a    -5\n",
        "b     7\n",
        "c     3\n",
        "d    12\n",
        "e   NaN\n",
        "dtype: float64"
       ]
      }
     ],
     "prompt_number": 21
    },
    {
     "cell_type": "code",
     "collapsed": false,
     "input": [
      "ser2_2 = Series(['blue','green','red'])\n",
      "ser2_2.reindex(range(6),method='ffill')\n",
      "#ser2_2.reindex(range(6),method='bfill')"
     ],
     "language": "python",
     "metadata": {},
     "outputs": [
      {
       "metadata": {},
       "output_type": "pyout",
       "prompt_number": 22,
       "text": [
        "0     blue\n",
        "1    green\n",
        "2      red\n",
        "3      red\n",
        "4      red\n",
        "5      red\n",
        "dtype: object"
       ]
      }
     ],
     "prompt_number": 22
    },
    {
     "cell_type": "code",
     "collapsed": false,
     "input": [
      "'b' in ser2_1"
     ],
     "language": "python",
     "metadata": {},
     "outputs": [
      {
       "metadata": {},
       "output_type": "pyout",
       "prompt_number": 23,
       "text": [
        "True"
       ]
      }
     ],
     "prompt_number": 23
    },
    {
     "cell_type": "code",
     "collapsed": false,
     "input": [
      "'f' in ser2_1"
     ],
     "language": "python",
     "metadata": {},
     "outputs": [
      {
       "metadata": {},
       "output_type": "pyout",
       "prompt_number": 24,
       "text": [
        "False"
       ]
      }
     ],
     "prompt_number": 24
    },
    {
     "cell_type": "code",
     "collapsed": false,
     "input": [
      "#this is a dict (for dictionary key:value)\n",
      "sdata = {'Ohio': 35000, 'Texas': 71000, 'Oregon': 16000, 'Utah': 5000}\n",
      "sdata"
     ],
     "language": "python",
     "metadata": {},
     "outputs": [
      {
       "metadata": {},
       "output_type": "pyout",
       "prompt_number": 25,
       "text": [
        "{'Ohio': 35000, 'Oregon': 16000, 'Texas': 71000, 'Utah': 5000}"
       ]
      }
     ],
     "prompt_number": 25
    },
    {
     "cell_type": "code",
     "collapsed": false,
     "input": [
      "ser3 = Series(sdata)\n",
      "ser3"
     ],
     "language": "python",
     "metadata": {},
     "outputs": [
      {
       "metadata": {},
       "output_type": "pyout",
       "prompt_number": 26,
       "text": [
        "Ohio      35000\n",
        "Oregon    16000\n",
        "Texas     71000\n",
        "Utah       5000\n",
        "dtype: int64"
       ]
      }
     ],
     "prompt_number": 26
    },
    {
     "cell_type": "code",
     "collapsed": false,
     "input": [
      "states = ['California', 'Ohio', 'Oregon', 'Texas']\n",
      "ser4 = Series(sdata, index=states)\n",
      "ser4"
     ],
     "language": "python",
     "metadata": {},
     "outputs": [
      {
       "metadata": {},
       "output_type": "pyout",
       "prompt_number": 27,
       "text": [
        "California      NaN\n",
        "Ohio          35000\n",
        "Oregon        16000\n",
        "Texas         71000\n",
        "dtype: float64"
       ]
      }
     ],
     "prompt_number": 27
    },
    {
     "cell_type": "code",
     "collapsed": false,
     "input": [
      "pd.isnull(ser4)"
     ],
     "language": "python",
     "metadata": {},
     "outputs": [
      {
       "metadata": {},
       "output_type": "pyout",
       "prompt_number": 28,
       "text": [
        "California     True\n",
        "Ohio          False\n",
        "Oregon        False\n",
        "Texas         False\n",
        "dtype: bool"
       ]
      }
     ],
     "prompt_number": 28
    },
    {
     "cell_type": "code",
     "collapsed": false,
     "input": [
      "#clean up NaN's\n",
      "ser4.dropna()"
     ],
     "language": "python",
     "metadata": {},
     "outputs": [
      {
       "metadata": {},
       "output_type": "pyout",
       "prompt_number": 29,
       "text": [
        "Ohio      35000\n",
        "Oregon    16000\n",
        "Texas     71000\n",
        "dtype: float64"
       ]
      }
     ],
     "prompt_number": 29
    },
    {
     "cell_type": "markdown",
     "metadata": {},
     "source": [
      "Dataframes"
     ]
    },
    {
     "cell_type": "code",
     "collapsed": false,
     "input": [
      "df = DataFrame( {'a' : np.random.randn(6),\n",
      "                 'b' : ['foo', 'bar'] * 3,\n",
      "                 'c' : np.random.randn(6) } )\n",
      "df"
     ],
     "language": "python",
     "metadata": {},
     "outputs": [
      {
       "html": [
        "<div style=\"max-height:1000px;max-width:1500px;overflow:auto;\">\n",
        "<table border=\"1\" class=\"dataframe\">\n",
        "  <thead>\n",
        "    <tr style=\"text-align: right;\">\n",
        "      <th></th>\n",
        "      <th>a</th>\n",
        "      <th>b</th>\n",
        "      <th>c</th>\n",
        "    </tr>\n",
        "  </thead>\n",
        "  <tbody>\n",
        "    <tr>\n",
        "      <th>0</th>\n",
        "      <td>-2.448349</td>\n",
        "      <td> foo</td>\n",
        "      <td>-0.109548</td>\n",
        "    </tr>\n",
        "    <tr>\n",
        "      <th>1</th>\n",
        "      <td>-0.447287</td>\n",
        "      <td> bar</td>\n",
        "      <td> 2.001079</td>\n",
        "    </tr>\n",
        "    <tr>\n",
        "      <th>2</th>\n",
        "      <td>-0.878445</td>\n",
        "      <td> foo</td>\n",
        "      <td> 0.045680</td>\n",
        "    </tr>\n",
        "    <tr>\n",
        "      <th>3</th>\n",
        "      <td>-0.741828</td>\n",
        "      <td> bar</td>\n",
        "      <td> 0.048575</td>\n",
        "    </tr>\n",
        "    <tr>\n",
        "      <th>4</th>\n",
        "      <td> 0.104278</td>\n",
        "      <td> foo</td>\n",
        "      <td>-0.027001</td>\n",
        "    </tr>\n",
        "    <tr>\n",
        "      <th>5</th>\n",
        "      <td>-1.085192</td>\n",
        "      <td> bar</td>\n",
        "      <td>-0.433300</td>\n",
        "    </tr>\n",
        "  </tbody>\n",
        "</table>\n",
        "</div>"
       ],
       "metadata": {},
       "output_type": "pyout",
       "prompt_number": 30,
       "text": [
        "          a    b         c\n",
        "0 -2.448349  foo -0.109548\n",
        "1 -0.447287  bar  2.001079\n",
        "2 -0.878445  foo  0.045680\n",
        "3 -0.741828  bar  0.048575\n",
        "4  0.104278  foo -0.027001\n",
        "5 -1.085192  bar -0.433300"
       ]
      }
     ],
     "prompt_number": 30
    },
    {
     "cell_type": "code",
     "collapsed": false,
     "input": [
      "df['d']=5\n",
      "df"
     ],
     "language": "python",
     "metadata": {},
     "outputs": [
      {
       "html": [
        "<div style=\"max-height:1000px;max-width:1500px;overflow:auto;\">\n",
        "<table border=\"1\" class=\"dataframe\">\n",
        "  <thead>\n",
        "    <tr style=\"text-align: right;\">\n",
        "      <th></th>\n",
        "      <th>a</th>\n",
        "      <th>b</th>\n",
        "      <th>c</th>\n",
        "      <th>d</th>\n",
        "    </tr>\n",
        "  </thead>\n",
        "  <tbody>\n",
        "    <tr>\n",
        "      <th>0</th>\n",
        "      <td>-2.448349</td>\n",
        "      <td> foo</td>\n",
        "      <td>-0.109548</td>\n",
        "      <td> 5</td>\n",
        "    </tr>\n",
        "    <tr>\n",
        "      <th>1</th>\n",
        "      <td>-0.447287</td>\n",
        "      <td> bar</td>\n",
        "      <td> 2.001079</td>\n",
        "      <td> 5</td>\n",
        "    </tr>\n",
        "    <tr>\n",
        "      <th>2</th>\n",
        "      <td>-0.878445</td>\n",
        "      <td> foo</td>\n",
        "      <td> 0.045680</td>\n",
        "      <td> 5</td>\n",
        "    </tr>\n",
        "    <tr>\n",
        "      <th>3</th>\n",
        "      <td>-0.741828</td>\n",
        "      <td> bar</td>\n",
        "      <td> 0.048575</td>\n",
        "      <td> 5</td>\n",
        "    </tr>\n",
        "    <tr>\n",
        "      <th>4</th>\n",
        "      <td> 0.104278</td>\n",
        "      <td> foo</td>\n",
        "      <td>-0.027001</td>\n",
        "      <td> 5</td>\n",
        "    </tr>\n",
        "    <tr>\n",
        "      <th>5</th>\n",
        "      <td>-1.085192</td>\n",
        "      <td> bar</td>\n",
        "      <td>-0.433300</td>\n",
        "      <td> 5</td>\n",
        "    </tr>\n",
        "  </tbody>\n",
        "</table>\n",
        "</div>"
       ],
       "metadata": {},
       "output_type": "pyout",
       "prompt_number": 31,
       "text": [
        "          a    b         c  d\n",
        "0 -2.448349  foo -0.109548  5\n",
        "1 -0.447287  bar  2.001079  5\n",
        "2 -0.878445  foo  0.045680  5\n",
        "3 -0.741828  bar  0.048575  5\n",
        "4  0.104278  foo -0.027001  5\n",
        "5 -1.085192  bar -0.433300  5"
       ]
      }
     ],
     "prompt_number": 31
    },
    {
     "cell_type": "code",
     "collapsed": false,
     "input": [
      "#slice all but one column\n",
      "df['d']"
     ],
     "language": "python",
     "metadata": {},
     "outputs": [
      {
       "metadata": {},
       "output_type": "pyout",
       "prompt_number": 32,
       "text": [
        "0    5\n",
        "1    5\n",
        "2    5\n",
        "3    5\n",
        "4    5\n",
        "5    5\n",
        "Name: d, dtype: int64"
       ]
      }
     ],
     "prompt_number": 32
    },
    {
     "cell_type": "code",
     "collapsed": false,
     "input": [
      "#slice first two rows\n",
      "df[:2]"
     ],
     "language": "python",
     "metadata": {},
     "outputs": [
      {
       "html": [
        "<div style=\"max-height:1000px;max-width:1500px;overflow:auto;\">\n",
        "<table border=\"1\" class=\"dataframe\">\n",
        "  <thead>\n",
        "    <tr style=\"text-align: right;\">\n",
        "      <th></th>\n",
        "      <th>a</th>\n",
        "      <th>b</th>\n",
        "      <th>c</th>\n",
        "      <th>d</th>\n",
        "    </tr>\n",
        "  </thead>\n",
        "  <tbody>\n",
        "    <tr>\n",
        "      <th>0</th>\n",
        "      <td>-2.448349</td>\n",
        "      <td> foo</td>\n",
        "      <td>-0.109548</td>\n",
        "      <td> 5</td>\n",
        "    </tr>\n",
        "    <tr>\n",
        "      <th>1</th>\n",
        "      <td>-0.447287</td>\n",
        "      <td> bar</td>\n",
        "      <td> 2.001079</td>\n",
        "      <td> 5</td>\n",
        "    </tr>\n",
        "  </tbody>\n",
        "</table>\n",
        "</div>"
       ],
       "metadata": {},
       "output_type": "pyout",
       "prompt_number": 33,
       "text": [
        "          a    b         c  d\n",
        "0 -2.448349  foo -0.109548  5\n",
        "1 -0.447287  bar  2.001079  5"
       ]
      }
     ],
     "prompt_number": 33
    },
    {
     "cell_type": "code",
     "collapsed": false,
     "input": [
      "#make a Series of first row\n",
      "df.xs(0)"
     ],
     "language": "python",
     "metadata": {},
     "outputs": [
      {
       "metadata": {},
       "output_type": "pyout",
       "prompt_number": 34,
       "text": [
        "a    -2.448349\n",
        "b          foo\n",
        "c   -0.1095479\n",
        "d            5\n",
        "Name: 0, dtype: object"
       ]
      }
     ],
     "prompt_number": 34
    },
    {
     "cell_type": "code",
     "collapsed": false,
     "input": [
      "#another way to make a Series of first row\n",
      "df.ix[0]"
     ],
     "language": "python",
     "metadata": {},
     "outputs": [
      {
       "metadata": {},
       "output_type": "pyout",
       "prompt_number": 35,
       "text": [
        "a    -2.448349\n",
        "b          foo\n",
        "c   -0.1095479\n",
        "d            5\n",
        "Name: 0, dtype: object"
       ]
      }
     ],
     "prompt_number": 35
    },
    {
     "cell_type": "code",
     "collapsed": false,
     "input": [
      "df.ix[3:5]"
     ],
     "language": "python",
     "metadata": {},
     "outputs": [
      {
       "html": [
        "<div style=\"max-height:1000px;max-width:1500px;overflow:auto;\">\n",
        "<table border=\"1\" class=\"dataframe\">\n",
        "  <thead>\n",
        "    <tr style=\"text-align: right;\">\n",
        "      <th></th>\n",
        "      <th>a</th>\n",
        "      <th>b</th>\n",
        "      <th>c</th>\n",
        "      <th>d</th>\n",
        "    </tr>\n",
        "  </thead>\n",
        "  <tbody>\n",
        "    <tr>\n",
        "      <th>3</th>\n",
        "      <td>-0.741828</td>\n",
        "      <td> bar</td>\n",
        "      <td> 0.048575</td>\n",
        "      <td> 5</td>\n",
        "    </tr>\n",
        "    <tr>\n",
        "      <th>4</th>\n",
        "      <td> 0.104278</td>\n",
        "      <td> foo</td>\n",
        "      <td>-0.027001</td>\n",
        "      <td> 5</td>\n",
        "    </tr>\n",
        "    <tr>\n",
        "      <th>5</th>\n",
        "      <td>-1.085192</td>\n",
        "      <td> bar</td>\n",
        "      <td>-0.433300</td>\n",
        "      <td> 5</td>\n",
        "    </tr>\n",
        "  </tbody>\n",
        "</table>\n",
        "</div>"
       ],
       "metadata": {},
       "output_type": "pyout",
       "prompt_number": 36,
       "text": [
        "          a    b         c  d\n",
        "3 -0.741828  bar  0.048575  5\n",
        "4  0.104278  foo -0.027001  5\n",
        "5 -1.085192  bar -0.433300  5"
       ]
      }
     ],
     "prompt_number": 36
    },
    {
     "cell_type": "code",
     "collapsed": false,
     "input": [
      "# all but first rows, column c\n",
      "df.ix[1:,'c']"
     ],
     "language": "python",
     "metadata": {},
     "outputs": [
      {
       "metadata": {},
       "output_type": "pyout",
       "prompt_number": 37,
       "text": [
        "1    2.001079\n",
        "2    0.045680\n",
        "3    0.048575\n",
        "4   -0.027001\n",
        "5   -0.433300\n",
        "Name: c, dtype: float64"
       ]
      }
     ],
     "prompt_number": 37
    },
    {
     "cell_type": "code",
     "collapsed": false,
     "input": [
      "df.ix[:2,0:]"
     ],
     "language": "python",
     "metadata": {},
     "outputs": [
      {
       "html": [
        "<div style=\"max-height:1000px;max-width:1500px;overflow:auto;\">\n",
        "<table border=\"1\" class=\"dataframe\">\n",
        "  <thead>\n",
        "    <tr style=\"text-align: right;\">\n",
        "      <th></th>\n",
        "      <th>a</th>\n",
        "      <th>b</th>\n",
        "      <th>c</th>\n",
        "      <th>d</th>\n",
        "    </tr>\n",
        "  </thead>\n",
        "  <tbody>\n",
        "    <tr>\n",
        "      <th>0</th>\n",
        "      <td>-2.448349</td>\n",
        "      <td> foo</td>\n",
        "      <td>-0.109548</td>\n",
        "      <td> 5</td>\n",
        "    </tr>\n",
        "    <tr>\n",
        "      <th>1</th>\n",
        "      <td>-0.447287</td>\n",
        "      <td> bar</td>\n",
        "      <td> 2.001079</td>\n",
        "      <td> 5</td>\n",
        "    </tr>\n",
        "    <tr>\n",
        "      <th>2</th>\n",
        "      <td>-0.878445</td>\n",
        "      <td> foo</td>\n",
        "      <td> 0.045680</td>\n",
        "      <td> 5</td>\n",
        "    </tr>\n",
        "  </tbody>\n",
        "</table>\n",
        "</div>"
       ],
       "metadata": {},
       "output_type": "pyout",
       "prompt_number": 48,
       "text": [
        "          a    b         c  d\n",
        "0 -2.448349  foo -0.109548  5\n",
        "1 -0.447287  bar  2.001079  5\n",
        "2 -0.878445  foo  0.045680  5"
       ]
      }
     ],
     "prompt_number": 48
    },
    {
     "cell_type": "code",
     "collapsed": false,
     "input": [
      "#  rows 2, 3 and 4, columns b,d \n",
      "df.ix[2:4,['b','d']]"
     ],
     "language": "python",
     "metadata": {},
     "outputs": [
      {
       "html": [
        "<div style=\"max-height:1000px;max-width:1500px;overflow:auto;\">\n",
        "<table border=\"1\" class=\"dataframe\">\n",
        "  <thead>\n",
        "    <tr style=\"text-align: right;\">\n",
        "      <th></th>\n",
        "      <th>b</th>\n",
        "      <th>d</th>\n",
        "    </tr>\n",
        "  </thead>\n",
        "  <tbody>\n",
        "    <tr>\n",
        "      <th>2</th>\n",
        "      <td> foo</td>\n",
        "      <td> 5</td>\n",
        "    </tr>\n",
        "    <tr>\n",
        "      <th>3</th>\n",
        "      <td> bar</td>\n",
        "      <td> 5</td>\n",
        "    </tr>\n",
        "    <tr>\n",
        "      <th>4</th>\n",
        "      <td> foo</td>\n",
        "      <td> 5</td>\n",
        "    </tr>\n",
        "  </tbody>\n",
        "</table>\n",
        "</div>"
       ],
       "metadata": {},
       "output_type": "pyout",
       "prompt_number": 39,
       "text": [
        "     b  d\n",
        "2  foo  5\n",
        "3  bar  5\n",
        "4  foo  5"
       ]
      }
     ],
     "prompt_number": 39
    },
    {
     "cell_type": "code",
     "collapsed": false,
     "input": [
      "#use this Boolean array...\n",
      "df['c']>0"
     ],
     "language": "python",
     "metadata": {},
     "outputs": [
      {
       "metadata": {},
       "output_type": "pyout",
       "prompt_number": 40,
       "text": [
        "0    False\n",
        "1     True\n",
        "2     True\n",
        "3     True\n",
        "4    False\n",
        "5    False\n",
        "Name: c, dtype: bool"
       ]
      }
     ],
     "prompt_number": 40
    },
    {
     "cell_type": "code",
     "collapsed": false,
     "input": [
      "# ...to find  all the entries in column c that are positive\n",
      "df.ix[df['c']>0]"
     ],
     "language": "python",
     "metadata": {},
     "outputs": [
      {
       "html": [
        "<div style=\"max-height:1000px;max-width:1500px;overflow:auto;\">\n",
        "<table border=\"1\" class=\"dataframe\">\n",
        "  <thead>\n",
        "    <tr style=\"text-align: right;\">\n",
        "      <th></th>\n",
        "      <th>a</th>\n",
        "      <th>b</th>\n",
        "      <th>c</th>\n",
        "      <th>d</th>\n",
        "    </tr>\n",
        "  </thead>\n",
        "  <tbody>\n",
        "    <tr>\n",
        "      <th>1</th>\n",
        "      <td>-0.447287</td>\n",
        "      <td> bar</td>\n",
        "      <td> 2.001079</td>\n",
        "      <td> 5</td>\n",
        "    </tr>\n",
        "    <tr>\n",
        "      <th>2</th>\n",
        "      <td>-0.878445</td>\n",
        "      <td> foo</td>\n",
        "      <td> 0.045680</td>\n",
        "      <td> 5</td>\n",
        "    </tr>\n",
        "    <tr>\n",
        "      <th>3</th>\n",
        "      <td>-0.741828</td>\n",
        "      <td> bar</td>\n",
        "      <td> 0.048575</td>\n",
        "      <td> 5</td>\n",
        "    </tr>\n",
        "  </tbody>\n",
        "</table>\n",
        "</div>"
       ],
       "metadata": {},
       "output_type": "pyout",
       "prompt_number": 41,
       "text": [
        "          a    b         c  d\n",
        "1 -0.447287  bar  2.001079  5\n",
        "2 -0.878445  foo  0.045680  5\n",
        "3 -0.741828  bar  0.048575  5"
       ]
      }
     ],
     "prompt_number": 41
    },
    {
     "cell_type": "code",
     "collapsed": false,
     "input": [
      "#this shortcut also works\n",
      "df[df['c']>0]"
     ],
     "language": "python",
     "metadata": {},
     "outputs": [
      {
       "html": [
        "<div style=\"max-height:1000px;max-width:1500px;overflow:auto;\">\n",
        "<table border=\"1\" class=\"dataframe\">\n",
        "  <thead>\n",
        "    <tr style=\"text-align: right;\">\n",
        "      <th></th>\n",
        "      <th>a</th>\n",
        "      <th>b</th>\n",
        "      <th>c</th>\n",
        "      <th>d</th>\n",
        "    </tr>\n",
        "  </thead>\n",
        "  <tbody>\n",
        "    <tr>\n",
        "      <th>1</th>\n",
        "      <td>-0.447287</td>\n",
        "      <td> bar</td>\n",
        "      <td> 2.001079</td>\n",
        "      <td> 5</td>\n",
        "    </tr>\n",
        "    <tr>\n",
        "      <th>2</th>\n",
        "      <td>-0.878445</td>\n",
        "      <td> foo</td>\n",
        "      <td> 0.045680</td>\n",
        "      <td> 5</td>\n",
        "    </tr>\n",
        "    <tr>\n",
        "      <th>3</th>\n",
        "      <td>-0.741828</td>\n",
        "      <td> bar</td>\n",
        "      <td> 0.048575</td>\n",
        "      <td> 5</td>\n",
        "    </tr>\n",
        "  </tbody>\n",
        "</table>\n",
        "</div>"
       ],
       "metadata": {},
       "output_type": "pyout",
       "prompt_number": 42,
       "text": [
        "          a    b         c  d\n",
        "1 -0.447287  bar  2.001079  5\n",
        "2 -0.878445  foo  0.045680  5\n",
        "3 -0.741828  bar  0.048575  5"
       ]
      }
     ],
     "prompt_number": 42
    },
    {
     "cell_type": "code",
     "collapsed": false,
     "input": [
      "#Now with certain columns only and create a column of NaN's. (shortcut won't work here)\n",
      "df.ix[df['c']>0,['a','c','e']]"
     ],
     "language": "python",
     "metadata": {},
     "outputs": [
      {
       "html": [
        "<div style=\"max-height:1000px;max-width:1500px;overflow:auto;\">\n",
        "<table border=\"1\" class=\"dataframe\">\n",
        "  <thead>\n",
        "    <tr style=\"text-align: right;\">\n",
        "      <th></th>\n",
        "      <th>a</th>\n",
        "      <th>c</th>\n",
        "      <th>e</th>\n",
        "    </tr>\n",
        "  </thead>\n",
        "  <tbody>\n",
        "    <tr>\n",
        "      <th>1</th>\n",
        "      <td>-0.447287</td>\n",
        "      <td> 2.001079</td>\n",
        "      <td>NaN</td>\n",
        "    </tr>\n",
        "    <tr>\n",
        "      <th>2</th>\n",
        "      <td>-0.878445</td>\n",
        "      <td> 0.045680</td>\n",
        "      <td>NaN</td>\n",
        "    </tr>\n",
        "    <tr>\n",
        "      <th>3</th>\n",
        "      <td>-0.741828</td>\n",
        "      <td> 0.048575</td>\n",
        "      <td>NaN</td>\n",
        "    </tr>\n",
        "  </tbody>\n",
        "</table>\n",
        "</div>"
       ],
       "metadata": {},
       "output_type": "pyout",
       "prompt_number": 43,
       "text": [
        "          a         c   e\n",
        "1 -0.447287  2.001079 NaN\n",
        "2 -0.878445  0.045680 NaN\n",
        "3 -0.741828  0.048575 NaN"
       ]
      }
     ],
     "prompt_number": 43
    },
    {
     "cell_type": "code",
     "collapsed": false,
     "input": [
      "#can create a date/time for time series data\n",
      "df2 = DataFrame({'a':np.random.randn(6),\n",
      "                 'b':['foo', 'bar'] * 3,\n",
      "                 'c':np.random.randn(6)},\n",
      "            index=pd.DateRange('1/1/2000', periods=6))\n",
      "df2"
     ],
     "language": "python",
     "metadata": {},
     "outputs": [
      {
       "output_type": "stream",
       "stream": "stderr",
       "text": [
        "/Users/marklaney/Library/Enthought/Canopy_64bit/User/lib/python2.7/site-packages/pandas/core/daterange.py:23: FutureWarning: DateRange is deprecated, use DatetimeIndex instead\n",
        "  FutureWarning)\n"
       ]
      },
      {
       "html": [
        "<div style=\"max-height:1000px;max-width:1500px;overflow:auto;\">\n",
        "<table border=\"1\" class=\"dataframe\">\n",
        "  <thead>\n",
        "    <tr style=\"text-align: right;\">\n",
        "      <th></th>\n",
        "      <th>a</th>\n",
        "      <th>b</th>\n",
        "      <th>c</th>\n",
        "    </tr>\n",
        "  </thead>\n",
        "  <tbody>\n",
        "    <tr>\n",
        "      <th>2000-01-03</th>\n",
        "      <td>-1.147952</td>\n",
        "      <td> foo</td>\n",
        "      <td>-0.202823</td>\n",
        "    </tr>\n",
        "    <tr>\n",
        "      <th>2000-01-04</th>\n",
        "      <td>-0.398524</td>\n",
        "      <td> bar</td>\n",
        "      <td>-0.801869</td>\n",
        "    </tr>\n",
        "    <tr>\n",
        "      <th>2000-01-05</th>\n",
        "      <td>-0.232372</td>\n",
        "      <td> foo</td>\n",
        "      <td> 0.226569</td>\n",
        "    </tr>\n",
        "    <tr>\n",
        "      <th>2000-01-06</th>\n",
        "      <td>-1.543777</td>\n",
        "      <td> bar</td>\n",
        "      <td>-0.146226</td>\n",
        "    </tr>\n",
        "    <tr>\n",
        "      <th>2000-01-07</th>\n",
        "      <td> 0.780453</td>\n",
        "      <td> foo</td>\n",
        "      <td> 0.850891</td>\n",
        "    </tr>\n",
        "    <tr>\n",
        "      <th>2000-01-10</th>\n",
        "      <td> 0.809902</td>\n",
        "      <td> bar</td>\n",
        "      <td>-0.826153</td>\n",
        "    </tr>\n",
        "  </tbody>\n",
        "</table>\n",
        "</div>"
       ],
       "metadata": {},
       "output_type": "pyout",
       "prompt_number": 44,
       "text": [
        "                   a    b         c\n",
        "2000-01-03 -1.147952  foo -0.202823\n",
        "2000-01-04 -0.398524  bar -0.801869\n",
        "2000-01-05 -0.232372  foo  0.226569\n",
        "2000-01-06 -1.543777  bar -0.146226\n",
        "2000-01-07  0.780453  foo  0.850891\n",
        "2000-01-10  0.809902  bar -0.826153"
       ]
      }
     ],
     "prompt_number": 44
    },
    {
     "cell_type": "code",
     "collapsed": false,
     "input": [
      "#creating columns outside given range\n",
      "df3 = DataFrame({'a':np.random.randn(6),\n",
      "                 'b':['foo', 'bar'] * 3, \n",
      "                 'c':np.random.randn(6)},\n",
      "               columns=['a','b','c','d'])\n",
      "df3"
     ],
     "language": "python",
     "metadata": {},
     "outputs": [
      {
       "html": [
        "<div style=\"max-height:1000px;max-width:1500px;overflow:auto;\">\n",
        "<table border=\"1\" class=\"dataframe\">\n",
        "  <thead>\n",
        "    <tr style=\"text-align: right;\">\n",
        "      <th></th>\n",
        "      <th>a</th>\n",
        "      <th>b</th>\n",
        "      <th>c</th>\n",
        "      <th>d</th>\n",
        "    </tr>\n",
        "  </thead>\n",
        "  <tbody>\n",
        "    <tr>\n",
        "      <th>0</th>\n",
        "      <td>-0.841649</td>\n",
        "      <td> foo</td>\n",
        "      <td> 0.341760</td>\n",
        "      <td> NaN</td>\n",
        "    </tr>\n",
        "    <tr>\n",
        "      <th>1</th>\n",
        "      <td>-1.361864</td>\n",
        "      <td> bar</td>\n",
        "      <td> 0.513309</td>\n",
        "      <td> NaN</td>\n",
        "    </tr>\n",
        "    <tr>\n",
        "      <th>2</th>\n",
        "      <td> 1.721950</td>\n",
        "      <td> foo</td>\n",
        "      <td>-0.605021</td>\n",
        "      <td> NaN</td>\n",
        "    </tr>\n",
        "    <tr>\n",
        "      <th>3</th>\n",
        "      <td> 0.376430</td>\n",
        "      <td> bar</td>\n",
        "      <td>-0.783520</td>\n",
        "      <td> NaN</td>\n",
        "    </tr>\n",
        "    <tr>\n",
        "      <th>4</th>\n",
        "      <td> 0.382248</td>\n",
        "      <td> foo</td>\n",
        "      <td> 0.241757</td>\n",
        "      <td> NaN</td>\n",
        "    </tr>\n",
        "    <tr>\n",
        "      <th>5</th>\n",
        "      <td>-0.056844</td>\n",
        "      <td> bar</td>\n",
        "      <td>-1.212928</td>\n",
        "      <td> NaN</td>\n",
        "    </tr>\n",
        "  </tbody>\n",
        "</table>\n",
        "</div>"
       ],
       "metadata": {},
       "output_type": "pyout",
       "prompt_number": 45,
       "text": [
        "          a    b         c    d\n",
        "0 -0.841649  foo  0.341760  NaN\n",
        "1 -1.361864  bar  0.513309  NaN\n",
        "2  1.721950  foo -0.605021  NaN\n",
        "3  0.376430  bar -0.783520  NaN\n",
        "4  0.382248  foo  0.241757  NaN\n",
        "5 -0.056844  bar -1.212928  NaN"
       ]
      }
     ],
     "prompt_number": 45
    },
    {
     "cell_type": "code",
     "collapsed": false,
     "input": [
      "pd.isnull(df3)"
     ],
     "language": "python",
     "metadata": {},
     "outputs": [
      {
       "html": [
        "<div style=\"max-height:1000px;max-width:1500px;overflow:auto;\">\n",
        "<table border=\"1\" class=\"dataframe\">\n",
        "  <thead>\n",
        "    <tr style=\"text-align: right;\">\n",
        "      <th></th>\n",
        "      <th>a</th>\n",
        "      <th>b</th>\n",
        "      <th>c</th>\n",
        "      <th>d</th>\n",
        "    </tr>\n",
        "  </thead>\n",
        "  <tbody>\n",
        "    <tr>\n",
        "      <th>0</th>\n",
        "      <td> False</td>\n",
        "      <td> False</td>\n",
        "      <td> False</td>\n",
        "      <td> True</td>\n",
        "    </tr>\n",
        "    <tr>\n",
        "      <th>1</th>\n",
        "      <td> False</td>\n",
        "      <td> False</td>\n",
        "      <td> False</td>\n",
        "      <td> True</td>\n",
        "    </tr>\n",
        "    <tr>\n",
        "      <th>2</th>\n",
        "      <td> False</td>\n",
        "      <td> False</td>\n",
        "      <td> False</td>\n",
        "      <td> True</td>\n",
        "    </tr>\n",
        "    <tr>\n",
        "      <th>3</th>\n",
        "      <td> False</td>\n",
        "      <td> False</td>\n",
        "      <td> False</td>\n",
        "      <td> True</td>\n",
        "    </tr>\n",
        "    <tr>\n",
        "      <th>4</th>\n",
        "      <td> False</td>\n",
        "      <td> False</td>\n",
        "      <td> False</td>\n",
        "      <td> True</td>\n",
        "    </tr>\n",
        "    <tr>\n",
        "      <th>5</th>\n",
        "      <td> False</td>\n",
        "      <td> False</td>\n",
        "      <td> False</td>\n",
        "      <td> True</td>\n",
        "    </tr>\n",
        "  </tbody>\n",
        "</table>\n",
        "</div>"
       ],
       "metadata": {},
       "output_type": "pyout",
       "prompt_number": 46,
       "text": [
        "       a      b      c     d\n",
        "0  False  False  False  True\n",
        "1  False  False  False  True\n",
        "2  False  False  False  True\n",
        "3  False  False  False  True\n",
        "4  False  False  False  True\n",
        "5  False  False  False  True"
       ]
      }
     ],
     "prompt_number": 46
    },
    {
     "cell_type": "code",
     "collapsed": false,
     "input": [
      "#reindex\n",
      "df4 = DataFrame(np.arange(9).reshape((3,3)), index=['a','c','d'], \n",
      "                        columns=['Colorado', 'Washington', 'South Dakota'])\n",
      "df4"
     ],
     "language": "python",
     "metadata": {},
     "outputs": [
      {
       "html": [
        "<div style=\"max-height:1000px;max-width:1500px;overflow:auto;\">\n",
        "<table border=\"1\" class=\"dataframe\">\n",
        "  <thead>\n",
        "    <tr style=\"text-align: right;\">\n",
        "      <th></th>\n",
        "      <th>Colorado</th>\n",
        "      <th>Washington</th>\n",
        "      <th>South Dakota</th>\n",
        "    </tr>\n",
        "  </thead>\n",
        "  <tbody>\n",
        "    <tr>\n",
        "      <th>a</th>\n",
        "      <td> 0</td>\n",
        "      <td> 1</td>\n",
        "      <td> 2</td>\n",
        "    </tr>\n",
        "    <tr>\n",
        "      <th>c</th>\n",
        "      <td> 3</td>\n",
        "      <td> 4</td>\n",
        "      <td> 5</td>\n",
        "    </tr>\n",
        "    <tr>\n",
        "      <th>d</th>\n",
        "      <td> 6</td>\n",
        "      <td> 7</td>\n",
        "      <td> 8</td>\n",
        "    </tr>\n",
        "  </tbody>\n",
        "</table>\n",
        "</div>"
       ],
       "metadata": {},
       "output_type": "pyout",
       "prompt_number": 47,
       "text": [
        "   Colorado  Washington  South Dakota\n",
        "a         0           1             2\n",
        "c         3           4             5\n",
        "d         6           7             8"
       ]
      }
     ],
     "prompt_number": 47
    },
    {
     "cell_type": "code",
     "collapsed": false,
     "input": [
      "states = ['Colorado', 'Maine','Washington']\n",
      "df4.reindex(columns=states)"
     ],
     "language": "python",
     "metadata": {},
     "outputs": [
      {
       "html": [
        "<div style=\"max-height:1000px;max-width:1500px;overflow:auto;\">\n",
        "<table border=\"1\" class=\"dataframe\">\n",
        "  <thead>\n",
        "    <tr style=\"text-align: right;\">\n",
        "      <th></th>\n",
        "      <th>Colorado</th>\n",
        "      <th>Maine</th>\n",
        "      <th>Washington</th>\n",
        "    </tr>\n",
        "  </thead>\n",
        "  <tbody>\n",
        "    <tr>\n",
        "      <th>a</th>\n",
        "      <td> 0</td>\n",
        "      <td>NaN</td>\n",
        "      <td> 1</td>\n",
        "    </tr>\n",
        "    <tr>\n",
        "      <th>c</th>\n",
        "      <td> 3</td>\n",
        "      <td>NaN</td>\n",
        "      <td> 4</td>\n",
        "    </tr>\n",
        "    <tr>\n",
        "      <th>d</th>\n",
        "      <td> 6</td>\n",
        "      <td>NaN</td>\n",
        "      <td> 7</td>\n",
        "    </tr>\n",
        "  </tbody>\n",
        "</table>\n",
        "</div>"
       ],
       "metadata": {},
       "output_type": "pyout",
       "prompt_number": 50,
       "text": [
        "   Colorado  Maine  Washington\n",
        "a         0    NaN           1\n",
        "c         3    NaN           4\n",
        "d         6    NaN           7"
       ]
      }
     ],
     "prompt_number": 50
    },
    {
     "cell_type": "code",
     "collapsed": false,
     "input": [
      "df4.reindex(index=['a','b', 'c', 'd'], method='ffill', columns=states)"
     ],
     "language": "python",
     "metadata": {},
     "outputs": [
      {
       "html": [
        "<div style=\"max-height:1000px;max-width:1500px;overflow:auto;\">\n",
        "<table border=\"1\" class=\"dataframe\">\n",
        "  <thead>\n",
        "    <tr style=\"text-align: right;\">\n",
        "      <th></th>\n",
        "      <th>Colorado</th>\n",
        "      <th>Maine</th>\n",
        "      <th>Washington</th>\n",
        "    </tr>\n",
        "  </thead>\n",
        "  <tbody>\n",
        "    <tr>\n",
        "      <th>a</th>\n",
        "      <td> 0</td>\n",
        "      <td>NaN</td>\n",
        "      <td> 1</td>\n",
        "    </tr>\n",
        "    <tr>\n",
        "      <th>b</th>\n",
        "      <td> 0</td>\n",
        "      <td>NaN</td>\n",
        "      <td> 1</td>\n",
        "    </tr>\n",
        "    <tr>\n",
        "      <th>c</th>\n",
        "      <td> 3</td>\n",
        "      <td>NaN</td>\n",
        "      <td> 4</td>\n",
        "    </tr>\n",
        "    <tr>\n",
        "      <th>d</th>\n",
        "      <td> 6</td>\n",
        "      <td>NaN</td>\n",
        "      <td> 7</td>\n",
        "    </tr>\n",
        "  </tbody>\n",
        "</table>\n",
        "</div>"
       ],
       "metadata": {},
       "output_type": "pyout",
       "prompt_number": 51,
       "text": [
        "   Colorado  Maine  Washington\n",
        "a         0    NaN           1\n",
        "b         0    NaN           1\n",
        "c         3    NaN           4\n",
        "d         6    NaN           7"
       ]
      }
     ],
     "prompt_number": 51
    },
    {
     "cell_type": "code",
     "collapsed": false,
     "input": [
      "#use a loop to create heirarchical dicts of random floats \n",
      "data={}\n",
      "for col in ['foo','bar','baz']:\n",
      "    for row in ['a','b','c','d']:\n",
      "        data.setdefault(col, {})[row] = randn()\n",
      "data"
     ],
     "language": "python",
     "metadata": {},
     "outputs": [
      {
       "metadata": {},
       "output_type": "pyout",
       "prompt_number": 52,
       "text": [
        "{'bar': {'a': 1.6285748108769864,\n",
        "  'b': 0.2816576017142687,\n",
        "  'c': 2.061843829257473,\n",
        "  'd': 0.2129983078023147},\n",
        " 'baz': {'a': 1.1075476110496407,\n",
        "  'b': 2.477185574334066,\n",
        "  'c': -0.3784296235384446,\n",
        "  'd': -0.022571776142495222},\n",
        " 'foo': {'a': 0.653456745971373,\n",
        "  'b': 0.6390806024920535,\n",
        "  'c': -0.14705230578116116,\n",
        "  'd': -1.0931909624931364}}"
       ]
      }
     ],
     "prompt_number": 52
    },
    {
     "cell_type": "code",
     "collapsed": false,
     "input": [
      "df4= DataFrame(data) ; df4\n",
      "#takes each top level dict and makes a column. uses second level as index"
     ],
     "language": "python",
     "metadata": {},
     "outputs": [
      {
       "html": [
        "<div style=\"max-height:1000px;max-width:1500px;overflow:auto;\">\n",
        "<table border=\"1\" class=\"dataframe\">\n",
        "  <thead>\n",
        "    <tr style=\"text-align: right;\">\n",
        "      <th></th>\n",
        "      <th>bar</th>\n",
        "      <th>baz</th>\n",
        "      <th>foo</th>\n",
        "    </tr>\n",
        "  </thead>\n",
        "  <tbody>\n",
        "    <tr>\n",
        "      <th>a</th>\n",
        "      <td> 1.628575</td>\n",
        "      <td> 1.107548</td>\n",
        "      <td> 0.653457</td>\n",
        "    </tr>\n",
        "    <tr>\n",
        "      <th>b</th>\n",
        "      <td> 0.281658</td>\n",
        "      <td> 2.477186</td>\n",
        "      <td> 0.639081</td>\n",
        "    </tr>\n",
        "    <tr>\n",
        "      <th>c</th>\n",
        "      <td> 2.061844</td>\n",
        "      <td>-0.378430</td>\n",
        "      <td>-0.147052</td>\n",
        "    </tr>\n",
        "    <tr>\n",
        "      <th>d</th>\n",
        "      <td> 0.212998</td>\n",
        "      <td>-0.022572</td>\n",
        "      <td>-1.093191</td>\n",
        "    </tr>\n",
        "  </tbody>\n",
        "</table>\n",
        "</div>"
       ],
       "metadata": {},
       "output_type": "pyout",
       "prompt_number": 53,
       "text": [
        "        bar       baz       foo\n",
        "a  1.628575  1.107548  0.653457\n",
        "b  0.281658  2.477186  0.639081\n",
        "c  2.061844 -0.378430 -0.147052\n",
        "d  0.212998 -0.022572 -1.093191"
       ]
      }
     ],
     "prompt_number": 53
    },
    {
     "cell_type": "code",
     "collapsed": false,
     "input": [
      "del data['foo']['c']"
     ],
     "language": "python",
     "metadata": {},
     "outputs": [],
     "prompt_number": 54
    },
    {
     "cell_type": "code",
     "collapsed": false,
     "input": [
      "df4= DataFrame(data) ; df4"
     ],
     "language": "python",
     "metadata": {},
     "outputs": [
      {
       "html": [
        "<div style=\"max-height:1000px;max-width:1500px;overflow:auto;\">\n",
        "<table border=\"1\" class=\"dataframe\">\n",
        "  <thead>\n",
        "    <tr style=\"text-align: right;\">\n",
        "      <th></th>\n",
        "      <th>bar</th>\n",
        "      <th>baz</th>\n",
        "      <th>foo</th>\n",
        "    </tr>\n",
        "  </thead>\n",
        "  <tbody>\n",
        "    <tr>\n",
        "      <th>a</th>\n",
        "      <td> 1.628575</td>\n",
        "      <td> 1.107548</td>\n",
        "      <td> 0.653457</td>\n",
        "    </tr>\n",
        "    <tr>\n",
        "      <th>b</th>\n",
        "      <td> 0.281658</td>\n",
        "      <td> 2.477186</td>\n",
        "      <td> 0.639081</td>\n",
        "    </tr>\n",
        "    <tr>\n",
        "      <th>c</th>\n",
        "      <td> 2.061844</td>\n",
        "      <td>-0.378430</td>\n",
        "      <td>      NaN</td>\n",
        "    </tr>\n",
        "    <tr>\n",
        "      <th>d</th>\n",
        "      <td> 0.212998</td>\n",
        "      <td>-0.022572</td>\n",
        "      <td>-1.093191</td>\n",
        "    </tr>\n",
        "  </tbody>\n",
        "</table>\n",
        "</div>"
       ],
       "metadata": {},
       "output_type": "pyout",
       "prompt_number": 55,
       "text": [
        "        bar       baz       foo\n",
        "a  1.628575  1.107548  0.653457\n",
        "b  0.281658  2.477186  0.639081\n",
        "c  2.061844 -0.378430       NaN\n",
        "d  0.212998 -0.022572 -1.093191"
       ]
      }
     ],
     "prompt_number": 55
    },
    {
     "cell_type": "code",
     "collapsed": false,
     "input": [
      "#or we could have just NaN'ed the cell from df4\n",
      "#df4.ix['c','foo']= nan  ;df4"
     ],
     "language": "python",
     "metadata": {},
     "outputs": [],
     "prompt_number": 56
    },
    {
     "cell_type": "markdown",
     "metadata": {},
     "source": [
      "#applying functions"
     ]
    },
    {
     "cell_type": "code",
     "collapsed": false,
     "input": [
      "#use the \"list\" function as a convenient way to make column labels\n",
      "f1 = DataFrame(np.random.randn(4, 3), columns=list('abc'), \n",
      "                  index=['Facebook', 'Google', 'Hortonworks', 'LinkedIn'])\n",
      "f1"
     ],
     "language": "python",
     "metadata": {},
     "outputs": [
      {
       "html": [
        "<div style=\"max-height:1000px;max-width:1500px;overflow:auto;\">\n",
        "<table border=\"1\" class=\"dataframe\">\n",
        "  <thead>\n",
        "    <tr style=\"text-align: right;\">\n",
        "      <th></th>\n",
        "      <th>a</th>\n",
        "      <th>b</th>\n",
        "      <th>c</th>\n",
        "    </tr>\n",
        "  </thead>\n",
        "  <tbody>\n",
        "    <tr>\n",
        "      <th>Facebook</th>\n",
        "      <td> 0.198518</td>\n",
        "      <td>-0.772972</td>\n",
        "      <td> 0.960138</td>\n",
        "    </tr>\n",
        "    <tr>\n",
        "      <th>Google</th>\n",
        "      <td> 0.037398</td>\n",
        "      <td>-1.172092</td>\n",
        "      <td>-0.025972</td>\n",
        "    </tr>\n",
        "    <tr>\n",
        "      <th>Hortonworks</th>\n",
        "      <td> 0.578888</td>\n",
        "      <td> 0.861347</td>\n",
        "      <td> 0.242557</td>\n",
        "    </tr>\n",
        "    <tr>\n",
        "      <th>LinkedIn</th>\n",
        "      <td> 1.541898</td>\n",
        "      <td>-1.045061</td>\n",
        "      <td> 0.571157</td>\n",
        "    </tr>\n",
        "  </tbody>\n",
        "</table>\n",
        "</div>"
       ],
       "metadata": {},
       "output_type": "pyout",
       "prompt_number": 57,
       "text": [
        "                    a         b         c\n",
        "Facebook     0.198518 -0.772972  0.960138\n",
        "Google       0.037398 -1.172092 -0.025972\n",
        "Hortonworks  0.578888  0.861347  0.242557\n",
        "LinkedIn     1.541898 -1.045061  0.571157"
       ]
      }
     ],
     "prompt_number": 57
    },
    {
     "cell_type": "code",
     "collapsed": false,
     "input": [
      "np.abs(f1)"
     ],
     "language": "python",
     "metadata": {},
     "outputs": [
      {
       "html": [
        "<div style=\"max-height:1000px;max-width:1500px;overflow:auto;\">\n",
        "<table border=\"1\" class=\"dataframe\">\n",
        "  <thead>\n",
        "    <tr style=\"text-align: right;\">\n",
        "      <th></th>\n",
        "      <th>a</th>\n",
        "      <th>b</th>\n",
        "      <th>c</th>\n",
        "    </tr>\n",
        "  </thead>\n",
        "  <tbody>\n",
        "    <tr>\n",
        "      <th>Facebook</th>\n",
        "      <td> 0.198518</td>\n",
        "      <td> 0.772972</td>\n",
        "      <td> 0.960138</td>\n",
        "    </tr>\n",
        "    <tr>\n",
        "      <th>Google</th>\n",
        "      <td> 0.037398</td>\n",
        "      <td> 1.172092</td>\n",
        "      <td> 0.025972</td>\n",
        "    </tr>\n",
        "    <tr>\n",
        "      <th>Hortonworks</th>\n",
        "      <td> 0.578888</td>\n",
        "      <td> 0.861347</td>\n",
        "      <td> 0.242557</td>\n",
        "    </tr>\n",
        "    <tr>\n",
        "      <th>LinkedIn</th>\n",
        "      <td> 1.541898</td>\n",
        "      <td> 1.045061</td>\n",
        "      <td> 0.571157</td>\n",
        "    </tr>\n",
        "  </tbody>\n",
        "</table>\n",
        "</div>"
       ],
       "metadata": {},
       "output_type": "pyout",
       "prompt_number": 58,
       "text": [
        "                    a         b         c\n",
        "Facebook     0.198518  0.772972  0.960138\n",
        "Google       0.037398  1.172092  0.025972\n",
        "Hortonworks  0.578888  0.861347  0.242557\n",
        "LinkedIn     1.541898  1.045061  0.571157"
       ]
      }
     ],
     "prompt_number": 58
    },
    {
     "cell_type": "code",
     "collapsed": false,
     "input": [
      "#use apply to process columns and rows. Define a function, fn\n",
      "fn = lambda x: x.max()-x.min()"
     ],
     "language": "python",
     "metadata": {},
     "outputs": [],
     "prompt_number": 59
    },
    {
     "cell_type": "code",
     "collapsed": false,
     "input": [
      "f1.apply(fn)\n",
      "#same as f1.apply(fn, axis=0)"
     ],
     "language": "python",
     "metadata": {},
     "outputs": [
      {
       "metadata": {},
       "output_type": "pyout",
       "prompt_number": 60,
       "text": [
        "a    1.504500\n",
        "b    2.033438\n",
        "c    0.986110\n",
        "dtype: float64"
       ]
      }
     ],
     "prompt_number": 60
    },
    {
     "cell_type": "code",
     "collapsed": false,
     "input": [
      "f1.apply(fn,axis=1)"
     ],
     "language": "python",
     "metadata": {},
     "outputs": [
      {
       "metadata": {},
       "output_type": "pyout",
       "prompt_number": 61,
       "text": [
        "Facebook       1.733110\n",
        "Google         1.209490\n",
        "Hortonworks    0.618790\n",
        "LinkedIn       2.586959\n",
        "dtype: float64"
       ]
      }
     ],
     "prompt_number": 61
    },
    {
     "cell_type": "code",
     "collapsed": false,
     "input": [
      "#apply does not have to return a scalar. It can return a Series with \n",
      "#multiple values\n",
      "def q(x):\n",
      "    return Series([x.min(),x.max()], index = ['min','max'])"
     ],
     "language": "python",
     "metadata": {},
     "outputs": [],
     "prompt_number": 62
    },
    {
     "cell_type": "code",
     "collapsed": false,
     "input": [
      "f1.apply(q)"
     ],
     "language": "python",
     "metadata": {},
     "outputs": [
      {
       "html": [
        "<div style=\"max-height:1000px;max-width:1500px;overflow:auto;\">\n",
        "<table border=\"1\" class=\"dataframe\">\n",
        "  <thead>\n",
        "    <tr style=\"text-align: right;\">\n",
        "      <th></th>\n",
        "      <th>a</th>\n",
        "      <th>b</th>\n",
        "      <th>c</th>\n",
        "    </tr>\n",
        "  </thead>\n",
        "  <tbody>\n",
        "    <tr>\n",
        "      <th>min</th>\n",
        "      <td> 0.037398</td>\n",
        "      <td>-1.172092</td>\n",
        "      <td>-0.025972</td>\n",
        "    </tr>\n",
        "    <tr>\n",
        "      <th>max</th>\n",
        "      <td> 1.541898</td>\n",
        "      <td> 0.861347</td>\n",
        "      <td> 0.960138</td>\n",
        "    </tr>\n",
        "  </tbody>\n",
        "</table>\n",
        "</div>"
       ],
       "metadata": {},
       "output_type": "pyout",
       "prompt_number": 63,
       "text": [
        "            a         b         c\n",
        "min  0.037398 -1.172092 -0.025972\n",
        "max  1.541898  0.861347  0.960138"
       ]
      }
     ],
     "prompt_number": 63
    },
    {
     "cell_type": "code",
     "collapsed": false,
     "input": [
      "#reformat = lambda x: '%.2f' %x"
     ],
     "language": "python",
     "metadata": {},
     "outputs": [],
     "prompt_number": 64
    },
    {
     "cell_type": "code",
     "collapsed": false,
     "input": [
      "#compute a formatted string from each floadint point value in f1\n",
      "#f1.applymap(reformat)"
     ],
     "language": "python",
     "metadata": {},
     "outputs": [],
     "prompt_number": 65
    },
    {
     "cell_type": "markdown",
     "metadata": {},
     "source": [
      "#sorting and ranking"
     ]
    },
    {
     "cell_type": "code",
     "collapsed": false,
     "input": [
      "S1 = Series(range(4),index=['d', 'a', 'b', 'c'])\n",
      "S1"
     ],
     "language": "python",
     "metadata": {},
     "outputs": [
      {
       "metadata": {},
       "output_type": "pyout",
       "prompt_number": 66,
       "text": [
        "d    0\n",
        "a    1\n",
        "b    2\n",
        "c    3\n",
        "dtype: int64"
       ]
      }
     ],
     "prompt_number": 66
    },
    {
     "cell_type": "code",
     "collapsed": false,
     "input": [
      "S2=S1.sort_index()\n",
      "S2"
     ],
     "language": "python",
     "metadata": {},
     "outputs": [
      {
       "metadata": {},
       "output_type": "pyout",
       "prompt_number": 67,
       "text": [
        "a    1\n",
        "b    2\n",
        "c    3\n",
        "d    0\n",
        "dtype: int64"
       ]
      }
     ],
     "prompt_number": 67
    },
    {
     "cell_type": "code",
     "collapsed": false,
     "input": [
      "#sort on values, use 'order' method\n",
      "S2.order()"
     ],
     "language": "python",
     "metadata": {},
     "outputs": [
      {
       "metadata": {},
       "output_type": "pyout",
       "prompt_number": 68,
       "text": [
        "d    0\n",
        "a    1\n",
        "b    2\n",
        "c    3\n",
        "dtype: int64"
       ]
      }
     ],
     "prompt_number": 68
    },
    {
     "cell_type": "code",
     "collapsed": false,
     "input": [
      "#missing values....\n",
      "S3 = Series([4, np.nan, 7, np.nan, -3, 2])\n",
      "S3"
     ],
     "language": "python",
     "metadata": {},
     "outputs": [
      {
       "metadata": {},
       "output_type": "pyout",
       "prompt_number": 69,
       "text": [
        "0     4\n",
        "1   NaN\n",
        "2     7\n",
        "3   NaN\n",
        "4    -3\n",
        "5     2\n",
        "dtype: float64"
       ]
      }
     ],
     "prompt_number": 69
    },
    {
     "cell_type": "code",
     "collapsed": false,
     "input": [
      "#...go to the end of the Series\n",
      "S3.order()"
     ],
     "language": "python",
     "metadata": {},
     "outputs": [
      {
       "metadata": {},
       "output_type": "pyout",
       "prompt_number": 70,
       "text": [
        "4    -3\n",
        "5     2\n",
        "0     4\n",
        "2     7\n",
        "1   NaN\n",
        "3   NaN\n",
        "dtype: float64"
       ]
      }
     ],
     "prompt_number": 70
    },
    {
     "cell_type": "code",
     "collapsed": false,
     "input": [
      "DF = DataFrame(np.arange(8).reshape((2, 4)), index=['three', 'one'],\n",
      "               columns=['d', 'a', 'b', 'c'])\n",
      "DF"
     ],
     "language": "python",
     "metadata": {},
     "outputs": [
      {
       "html": [
        "<div style=\"max-height:1000px;max-width:1500px;overflow:auto;\">\n",
        "<table border=\"1\" class=\"dataframe\">\n",
        "  <thead>\n",
        "    <tr style=\"text-align: right;\">\n",
        "      <th></th>\n",
        "      <th>d</th>\n",
        "      <th>a</th>\n",
        "      <th>b</th>\n",
        "      <th>c</th>\n",
        "    </tr>\n",
        "  </thead>\n",
        "  <tbody>\n",
        "    <tr>\n",
        "      <th>three</th>\n",
        "      <td> 0</td>\n",
        "      <td> 1</td>\n",
        "      <td> 2</td>\n",
        "      <td> 3</td>\n",
        "    </tr>\n",
        "    <tr>\n",
        "      <th>one</th>\n",
        "      <td> 4</td>\n",
        "      <td> 5</td>\n",
        "      <td> 6</td>\n",
        "      <td> 7</td>\n",
        "    </tr>\n",
        "  </tbody>\n",
        "</table>\n",
        "</div>"
       ],
       "metadata": {},
       "output_type": "pyout",
       "prompt_number": 71,
       "text": [
        "       d  a  b  c\n",
        "three  0  1  2  3\n",
        "one    4  5  6  7"
       ]
      }
     ],
     "prompt_number": 71
    },
    {
     "cell_type": "code",
     "collapsed": false,
     "input": [
      "#sort on rows\n",
      "DF.sort_index()"
     ],
     "language": "python",
     "metadata": {},
     "outputs": [
      {
       "html": [
        "<div style=\"max-height:1000px;max-width:1500px;overflow:auto;\">\n",
        "<table border=\"1\" class=\"dataframe\">\n",
        "  <thead>\n",
        "    <tr style=\"text-align: right;\">\n",
        "      <th></th>\n",
        "      <th>d</th>\n",
        "      <th>a</th>\n",
        "      <th>b</th>\n",
        "      <th>c</th>\n",
        "    </tr>\n",
        "  </thead>\n",
        "  <tbody>\n",
        "    <tr>\n",
        "      <th>one</th>\n",
        "      <td> 4</td>\n",
        "      <td> 5</td>\n",
        "      <td> 6</td>\n",
        "      <td> 7</td>\n",
        "    </tr>\n",
        "    <tr>\n",
        "      <th>three</th>\n",
        "      <td> 0</td>\n",
        "      <td> 1</td>\n",
        "      <td> 2</td>\n",
        "      <td> 3</td>\n",
        "    </tr>\n",
        "  </tbody>\n",
        "</table>\n",
        "</div>"
       ],
       "metadata": {},
       "output_type": "pyout",
       "prompt_number": 72,
       "text": [
        "       d  a  b  c\n",
        "one    4  5  6  7\n",
        "three  0  1  2  3"
       ]
      }
     ],
     "prompt_number": 72
    },
    {
     "cell_type": "code",
     "collapsed": false,
     "input": [
      "#sort on columns\n",
      "DF.sort_index(axis=1)"
     ],
     "language": "python",
     "metadata": {},
     "outputs": [
      {
       "html": [
        "<div style=\"max-height:1000px;max-width:1500px;overflow:auto;\">\n",
        "<table border=\"1\" class=\"dataframe\">\n",
        "  <thead>\n",
        "    <tr style=\"text-align: right;\">\n",
        "      <th></th>\n",
        "      <th>a</th>\n",
        "      <th>b</th>\n",
        "      <th>c</th>\n",
        "      <th>d</th>\n",
        "    </tr>\n",
        "  </thead>\n",
        "  <tbody>\n",
        "    <tr>\n",
        "      <th>three</th>\n",
        "      <td> 1</td>\n",
        "      <td> 2</td>\n",
        "      <td> 3</td>\n",
        "      <td> 0</td>\n",
        "    </tr>\n",
        "    <tr>\n",
        "      <th>one</th>\n",
        "      <td> 5</td>\n",
        "      <td> 6</td>\n",
        "      <td> 7</td>\n",
        "      <td> 4</td>\n",
        "    </tr>\n",
        "  </tbody>\n",
        "</table>\n",
        "</div>"
       ],
       "metadata": {},
       "output_type": "pyout",
       "prompt_number": 73,
       "text": [
        "       a  b  c  d\n",
        "three  1  2  3  0\n",
        "one    5  6  7  4"
       ]
      }
     ],
     "prompt_number": 73
    },
    {
     "cell_type": "code",
     "collapsed": false,
     "input": [
      "#ascending is default.  For descending, \n",
      "DF.sort_index(axis=1, ascending=False)"
     ],
     "language": "python",
     "metadata": {},
     "outputs": [
      {
       "html": [
        "<div style=\"max-height:1000px;max-width:1500px;overflow:auto;\">\n",
        "<table border=\"1\" class=\"dataframe\">\n",
        "  <thead>\n",
        "    <tr style=\"text-align: right;\">\n",
        "      <th></th>\n",
        "      <th>d</th>\n",
        "      <th>c</th>\n",
        "      <th>b</th>\n",
        "      <th>a</th>\n",
        "    </tr>\n",
        "  </thead>\n",
        "  <tbody>\n",
        "    <tr>\n",
        "      <th>three</th>\n",
        "      <td> 0</td>\n",
        "      <td> 3</td>\n",
        "      <td> 2</td>\n",
        "      <td> 1</td>\n",
        "    </tr>\n",
        "    <tr>\n",
        "      <th>one</th>\n",
        "      <td> 4</td>\n",
        "      <td> 7</td>\n",
        "      <td> 6</td>\n",
        "      <td> 5</td>\n",
        "    </tr>\n",
        "  </tbody>\n",
        "</table>\n",
        "</div>"
       ],
       "metadata": {},
       "output_type": "pyout",
       "prompt_number": 74,
       "text": [
        "       d  c  b  a\n",
        "three  0  3  2  1\n",
        "one    4  7  6  5"
       ]
      }
     ],
     "prompt_number": 74
    },
    {
     "cell_type": "code",
     "collapsed": false,
     "input": [
      "#sorting on more than one column\n",
      "DF2 = DataFrame({'b': [4, 7, -3, 2], 'a': [0, 1, 0, 1]})\n",
      "DF2"
     ],
     "language": "python",
     "metadata": {},
     "outputs": [
      {
       "html": [
        "<div style=\"max-height:1000px;max-width:1500px;overflow:auto;\">\n",
        "<table border=\"1\" class=\"dataframe\">\n",
        "  <thead>\n",
        "    <tr style=\"text-align: right;\">\n",
        "      <th></th>\n",
        "      <th>a</th>\n",
        "      <th>b</th>\n",
        "    </tr>\n",
        "  </thead>\n",
        "  <tbody>\n",
        "    <tr>\n",
        "      <th>0</th>\n",
        "      <td> 0</td>\n",
        "      <td> 4</td>\n",
        "    </tr>\n",
        "    <tr>\n",
        "      <th>1</th>\n",
        "      <td> 1</td>\n",
        "      <td> 7</td>\n",
        "    </tr>\n",
        "    <tr>\n",
        "      <th>2</th>\n",
        "      <td> 0</td>\n",
        "      <td>-3</td>\n",
        "    </tr>\n",
        "    <tr>\n",
        "      <th>3</th>\n",
        "      <td> 1</td>\n",
        "      <td> 2</td>\n",
        "    </tr>\n",
        "  </tbody>\n",
        "</table>\n",
        "</div>"
       ],
       "metadata": {},
       "output_type": "pyout",
       "prompt_number": 75,
       "text": [
        "   a  b\n",
        "0  0  4\n",
        "1  1  7\n",
        "2  0 -3\n",
        "3  1  2"
       ]
      }
     ],
     "prompt_number": 75
    },
    {
     "cell_type": "code",
     "collapsed": false,
     "input": [
      "DF2.sort_index(by='b')"
     ],
     "language": "python",
     "metadata": {},
     "outputs": [
      {
       "html": [
        "<div style=\"max-height:1000px;max-width:1500px;overflow:auto;\">\n",
        "<table border=\"1\" class=\"dataframe\">\n",
        "  <thead>\n",
        "    <tr style=\"text-align: right;\">\n",
        "      <th></th>\n",
        "      <th>a</th>\n",
        "      <th>b</th>\n",
        "    </tr>\n",
        "  </thead>\n",
        "  <tbody>\n",
        "    <tr>\n",
        "      <th>2</th>\n",
        "      <td> 0</td>\n",
        "      <td>-3</td>\n",
        "    </tr>\n",
        "    <tr>\n",
        "      <th>3</th>\n",
        "      <td> 1</td>\n",
        "      <td> 2</td>\n",
        "    </tr>\n",
        "    <tr>\n",
        "      <th>0</th>\n",
        "      <td> 0</td>\n",
        "      <td> 4</td>\n",
        "    </tr>\n",
        "    <tr>\n",
        "      <th>1</th>\n",
        "      <td> 1</td>\n",
        "      <td> 7</td>\n",
        "    </tr>\n",
        "  </tbody>\n",
        "</table>\n",
        "</div>"
       ],
       "metadata": {},
       "output_type": "pyout",
       "prompt_number": 76,
       "text": [
        "   a  b\n",
        "2  0 -3\n",
        "3  1  2\n",
        "0  0  4\n",
        "1  1  7"
       ]
      }
     ],
     "prompt_number": 76
    },
    {
     "cell_type": "code",
     "collapsed": false,
     "input": [
      "DF2.sort_index(by=['a', 'b'])"
     ],
     "language": "python",
     "metadata": {},
     "outputs": [
      {
       "html": [
        "<div style=\"max-height:1000px;max-width:1500px;overflow:auto;\">\n",
        "<table border=\"1\" class=\"dataframe\">\n",
        "  <thead>\n",
        "    <tr style=\"text-align: right;\">\n",
        "      <th></th>\n",
        "      <th>a</th>\n",
        "      <th>b</th>\n",
        "    </tr>\n",
        "  </thead>\n",
        "  <tbody>\n",
        "    <tr>\n",
        "      <th>2</th>\n",
        "      <td> 0</td>\n",
        "      <td>-3</td>\n",
        "    </tr>\n",
        "    <tr>\n",
        "      <th>0</th>\n",
        "      <td> 0</td>\n",
        "      <td> 4</td>\n",
        "    </tr>\n",
        "    <tr>\n",
        "      <th>3</th>\n",
        "      <td> 1</td>\n",
        "      <td> 2</td>\n",
        "    </tr>\n",
        "    <tr>\n",
        "      <th>1</th>\n",
        "      <td> 1</td>\n",
        "      <td> 7</td>\n",
        "    </tr>\n",
        "  </tbody>\n",
        "</table>\n",
        "</div>"
       ],
       "metadata": {},
       "output_type": "pyout",
       "prompt_number": 77,
       "text": [
        "   a  b\n",
        "2  0 -3\n",
        "0  0  4\n",
        "3  1  2\n",
        "1  1  7"
       ]
      }
     ],
     "prompt_number": 77
    },
    {
     "cell_type": "markdown",
     "metadata": {},
     "source": [
      "#Statistics"
     ]
    },
    {
     "cell_type": "code",
     "collapsed": false,
     "input": [
      "DF1 = DataFrame([[1.4, np.nan], [7.1, -4.5], [np.nan, np.nan], [0.75, -1.3]],\n",
      "index=['a', 'b', 'c', 'd'], columns=['one', 'two'])\n",
      "DF1"
     ],
     "language": "python",
     "metadata": {},
     "outputs": [
      {
       "html": [
        "<div style=\"max-height:1000px;max-width:1500px;overflow:auto;\">\n",
        "<table border=\"1\" class=\"dataframe\">\n",
        "  <thead>\n",
        "    <tr style=\"text-align: right;\">\n",
        "      <th></th>\n",
        "      <th>one</th>\n",
        "      <th>two</th>\n",
        "    </tr>\n",
        "  </thead>\n",
        "  <tbody>\n",
        "    <tr>\n",
        "      <th>a</th>\n",
        "      <td> 1.40</td>\n",
        "      <td> NaN</td>\n",
        "    </tr>\n",
        "    <tr>\n",
        "      <th>b</th>\n",
        "      <td> 7.10</td>\n",
        "      <td>-4.5</td>\n",
        "    </tr>\n",
        "    <tr>\n",
        "      <th>c</th>\n",
        "      <td>  NaN</td>\n",
        "      <td> NaN</td>\n",
        "    </tr>\n",
        "    <tr>\n",
        "      <th>d</th>\n",
        "      <td> 0.75</td>\n",
        "      <td>-1.3</td>\n",
        "    </tr>\n",
        "  </tbody>\n",
        "</table>\n",
        "</div>"
       ],
       "metadata": {},
       "output_type": "pyout",
       "prompt_number": 78,
       "text": [
        "    one  two\n",
        "a  1.40  NaN\n",
        "b  7.10 -4.5\n",
        "c   NaN  NaN\n",
        "d  0.75 -1.3"
       ]
      }
     ],
     "prompt_number": 78
    },
    {
     "cell_type": "code",
     "collapsed": false,
     "input": [
      "DF1.sum()"
     ],
     "language": "python",
     "metadata": {},
     "outputs": [
      {
       "metadata": {},
       "output_type": "pyout",
       "prompt_number": 79,
       "text": [
        "one    9.25\n",
        "two   -5.80\n",
        "dtype: float64"
       ]
      }
     ],
     "prompt_number": 79
    },
    {
     "cell_type": "code",
     "collapsed": false,
     "input": [
      "DF1.sum(axis=1)"
     ],
     "language": "python",
     "metadata": {},
     "outputs": [
      {
       "metadata": {},
       "output_type": "pyout",
       "prompt_number": 80,
       "text": [
        "a    1.40\n",
        "b    2.60\n",
        "c     NaN\n",
        "d   -0.55\n",
        "dtype: float64"
       ]
      }
     ],
     "prompt_number": 80
    },
    {
     "cell_type": "code",
     "collapsed": false,
     "input": [
      "DF1.sum(axis=1,skipna=False)"
     ],
     "language": "python",
     "metadata": {},
     "outputs": [
      {
       "metadata": {},
       "output_type": "pyout",
       "prompt_number": 81,
       "text": [
        "a     NaN\n",
        "b    2.60\n",
        "c     NaN\n",
        "d   -0.55\n",
        "dtype: float64"
       ]
      }
     ],
     "prompt_number": 81
    },
    {
     "cell_type": "code",
     "collapsed": false,
     "input": [
      "DF1.idxmax()    #DF1.idxmin()"
     ],
     "language": "python",
     "metadata": {},
     "outputs": [
      {
       "metadata": {},
       "output_type": "pyout",
       "prompt_number": 82,
       "text": [
        "one    b\n",
        "two    d\n",
        "dtype: object"
       ]
      }
     ],
     "prompt_number": 82
    },
    {
     "cell_type": "code",
     "collapsed": false,
     "input": [
      "DF1.cumsum()"
     ],
     "language": "python",
     "metadata": {},
     "outputs": [
      {
       "html": [
        "<div style=\"max-height:1000px;max-width:1500px;overflow:auto;\">\n",
        "<table border=\"1\" class=\"dataframe\">\n",
        "  <thead>\n",
        "    <tr style=\"text-align: right;\">\n",
        "      <th></th>\n",
        "      <th>one</th>\n",
        "      <th>two</th>\n",
        "    </tr>\n",
        "  </thead>\n",
        "  <tbody>\n",
        "    <tr>\n",
        "      <th>a</th>\n",
        "      <td> 1.40</td>\n",
        "      <td> NaN</td>\n",
        "    </tr>\n",
        "    <tr>\n",
        "      <th>b</th>\n",
        "      <td> 8.50</td>\n",
        "      <td>-4.5</td>\n",
        "    </tr>\n",
        "    <tr>\n",
        "      <th>c</th>\n",
        "      <td>  NaN</td>\n",
        "      <td> NaN</td>\n",
        "    </tr>\n",
        "    <tr>\n",
        "      <th>d</th>\n",
        "      <td> 9.25</td>\n",
        "      <td>-5.8</td>\n",
        "    </tr>\n",
        "  </tbody>\n",
        "</table>\n",
        "</div>"
       ],
       "metadata": {},
       "output_type": "pyout",
       "prompt_number": 83,
       "text": [
        "    one  two\n",
        "a  1.40  NaN\n",
        "b  8.50 -4.5\n",
        "c   NaN  NaN\n",
        "d  9.25 -5.8"
       ]
      }
     ],
     "prompt_number": 83
    },
    {
     "cell_type": "code",
     "collapsed": false,
     "input": [
      "#summary statistics\n",
      "DF1.describe()"
     ],
     "language": "python",
     "metadata": {},
     "outputs": [
      {
       "html": [
        "<div style=\"max-height:1000px;max-width:1500px;overflow:auto;\">\n",
        "<table border=\"1\" class=\"dataframe\">\n",
        "  <thead>\n",
        "    <tr style=\"text-align: right;\">\n",
        "      <th></th>\n",
        "      <th>one</th>\n",
        "      <th>two</th>\n",
        "    </tr>\n",
        "  </thead>\n",
        "  <tbody>\n",
        "    <tr>\n",
        "      <th>count</th>\n",
        "      <td> 3.000000</td>\n",
        "      <td> 2.000000</td>\n",
        "    </tr>\n",
        "    <tr>\n",
        "      <th>mean</th>\n",
        "      <td> 3.083333</td>\n",
        "      <td>-2.900000</td>\n",
        "    </tr>\n",
        "    <tr>\n",
        "      <th>std</th>\n",
        "      <td> 3.493685</td>\n",
        "      <td> 2.262742</td>\n",
        "    </tr>\n",
        "    <tr>\n",
        "      <th>min</th>\n",
        "      <td> 0.750000</td>\n",
        "      <td>-4.500000</td>\n",
        "    </tr>\n",
        "    <tr>\n",
        "      <th>25%</th>\n",
        "      <td> 1.075000</td>\n",
        "      <td>-3.700000</td>\n",
        "    </tr>\n",
        "    <tr>\n",
        "      <th>50%</th>\n",
        "      <td> 1.400000</td>\n",
        "      <td>-2.900000</td>\n",
        "    </tr>\n",
        "    <tr>\n",
        "      <th>75%</th>\n",
        "      <td> 4.250000</td>\n",
        "      <td>-2.100000</td>\n",
        "    </tr>\n",
        "    <tr>\n",
        "      <th>max</th>\n",
        "      <td> 7.100000</td>\n",
        "      <td>-1.300000</td>\n",
        "    </tr>\n",
        "  </tbody>\n",
        "</table>\n",
        "</div>"
       ],
       "metadata": {},
       "output_type": "pyout",
       "prompt_number": 84,
       "text": [
        "            one       two\n",
        "count  3.000000  2.000000\n",
        "mean   3.083333 -2.900000\n",
        "std    3.493685  2.262742\n",
        "min    0.750000 -4.500000\n",
        "25%    1.075000 -3.700000\n",
        "50%    1.400000 -2.900000\n",
        "75%    4.250000 -2.100000\n",
        "max    7.100000 -1.300000"
       ]
      }
     ],
     "prompt_number": 84
    },
    {
     "cell_type": "code",
     "collapsed": false,
     "input": [
      "non_numeric = Series(['a', 'a', 'b', 'c'] * 4)\n",
      "non_numeric"
     ],
     "language": "python",
     "metadata": {},
     "outputs": [
      {
       "metadata": {},
       "output_type": "pyout",
       "prompt_number": 85,
       "text": [
        "0     a\n",
        "1     a\n",
        "2     b\n",
        "3     c\n",
        "4     a\n",
        "5     a\n",
        "6     b\n",
        "7     c\n",
        "8     a\n",
        "9     a\n",
        "10    b\n",
        "11    c\n",
        "12    a\n",
        "13    a\n",
        "14    b\n",
        "15    c\n",
        "dtype: object"
       ]
      }
     ],
     "prompt_number": 85
    },
    {
     "cell_type": "code",
     "collapsed": false,
     "input": [
      "non_numeric.describe()"
     ],
     "language": "python",
     "metadata": {},
     "outputs": [
      {
       "metadata": {},
       "output_type": "pyout",
       "prompt_number": 86,
       "text": [
        "count     16\n",
        "unique     3\n",
        "top        a\n",
        "freq       8\n",
        "dtype: object"
       ]
      }
     ],
     "prompt_number": 86
    }
   ],
   "metadata": {}
  }
 ]
}