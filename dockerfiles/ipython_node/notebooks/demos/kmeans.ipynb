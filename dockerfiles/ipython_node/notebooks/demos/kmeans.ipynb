{
 "metadata": {
  "name": "",
  "signature": "sha256:66da4b80f318b3e142c28c2bc89478dd57351ac7fc45fd3458ea0b70c54cdde7"
 },
 "nbformat": 3,
 "nbformat_minor": 0,
 "worksheets": [
  {
   "cells": [
    {
     "cell_type": "code",
     "collapsed": false,
     "input": [
      "%matplotlib inline"
     ],
     "language": "python",
     "metadata": {},
     "outputs": [],
     "prompt_number": 1
    },
    {
     "cell_type": "code",
     "collapsed": false,
     "input": [
      "import sys\n",
      "\n",
      "from sklearn.feature_extraction.text import TfidfVectorizer\n",
      "from sklearn.cluster import KMeans\n",
      "\n",
      "import numpy as np\n",
      "import pandas as pd\n",
      "from pandas import DataFrame\n",
      "from pandas import Series\n",
      "\n",
      "import avro.schema\n",
      "from avro.datafile import DataFileReader\n",
      "from avro.io import DatumReader\n",
      "\n",
      "reader = DataFileReader(open(\"newsgroups/newsgroups.avro\", \"r\"), DatumReader())\n",
      "datamap = []\n",
      "for message in reader:\n",
      "    topics = message[\"newsgroups\"].split(',')\n",
      "    topics = [topic.strip() for topic in topics]\n",
      "    for topic in topics:\n",
      "        datamap.append({\"topic\": topic, \"article_id\": message[\"articleId\"], \n",
      "                        \"content\": message[\"content\"]})\n",
      "dataset = DataFrame(datamap)\n",
      "\n",
      "vectorizer = TfidfVectorizer(stop_words='english', use_idf=True)\n",
      "feature_vectors = vectorizer.fit_transform(dataset[\"content\"])\n",
      "km = KMeans(n_clusters=10, init='k-means++', max_iter=100, n_init=10, verbose=0)\n",
      "\n",
      "clusters = km.fit_predict(feature_vectors)\n",
      "\n",
      "dataset[\"cluster_id\"] = clusters\n",
      "\n",
      "result = DataFrame(dataset.groupby([\"cluster_id\"])[\"article_id\"].count(), \n",
      "                   columns = [\"doc_count\"])\n",
      "result.plot(kind=\"bar\")"
     ],
     "language": "python",
     "metadata": {},
     "outputs": [
      {
       "output_type": "stream",
       "stream": "stdout",
       "text": [
        "(1838,)\n"
       ]
      },
      {
       "metadata": {},
       "output_type": "pyout",
       "prompt_number": 7,
       "text": [
        "<matplotlib.axes.AxesSubplot at 0x7fdf8fba6590>"
       ]
      },
      {
       "metadata": {},
       "output_type": "display_data",
       "png": "[encoded data removed]",
       "text": [
        "<matplotlib.figure.Figure at 0x7fdf8fba6450>"
       ]
      }
     ],
     "prompt_number": 7
    },
    {
     "cell_type": "code",
     "collapsed": false,
     "input": [
      "print(clusters)\n",
      "print(km.transform(feature_vectors))"
     ],
     "language": "python",
     "metadata": {},
     "outputs": [
      {
       "output_type": "stream",
       "stream": "stdout",
       "text": [
        "[8 8 8 ..., 5 5 5]\n",
        "[[ 1.07109274  1.01872169  1.34422092 ...,  1.09551742  0.99270401\n",
        "   1.17264703]\n",
        " [ 1.07109274  1.01872169  1.34422092 ...,  1.09551742  0.99270401\n",
        "   1.17264703]\n",
        " [ 1.07109274  1.01872169  1.34422092 ...,  1.09551742  0.99270401\n",
        "   1.17264703]\n",
        " ..., \n",
        " [ 1.05285826  1.01023236  1.34400019 ...,  1.0284279   0.98526238\n",
        "   1.172727  ]\n",
        " [ 1.05285826  1.01023236  1.34400019 ...,  1.0284279   0.98526238\n",
        "   1.172727  ]\n",
        " [ 1.05285826  1.01023236  1.34400019 ...,  1.0284279   0.98526238\n",
        "   1.172727  ]]\n"
       ]
      }
     ],
     "prompt_number": 9
    }
   ],
   "metadata": {}
  }
 ]
}