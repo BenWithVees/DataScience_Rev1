{
 "metadata": {
  "name": "",
  "signature": "sha256:7383c9919a6fbc349ea2f913663f66b26d82991e6495872556c8fe6c374ac7ed"
 },
 "nbformat": 3,
 "nbformat_minor": 0,
 "worksheets": [
  {
   "cells": [
    {
     "cell_type": "code",
     "collapsed": false,
     "input": [
      "%matplotlib inline"
     ],
     "language": "python",
     "metadata": {},
     "outputs": []
    },
    {
     "cell_type": "code",
     "collapsed": false,
     "input": [
      "import sys\n",
      "\n",
      "from sklearn.feature_extraction.text import TfidfVectorizer\n",
      "from sklearn.cluster import KMeans\n",
      "\n",
      "import numpy as np\n",
      "import pandas as pd\n",
      "from pandas import DataFrame\n",
      "from pandas import Series\n",
      "\n",
      "import avro.schema\n",
      "from avro.datafile import DataFileReader\n",
      "from avro.io import DatumReader\n",
      "\n",
      "reader = DataFileReader(open(\"newsgroups/scispace.avro\", \"r\"), DatumReader())\n",
      "datamap = []\n",
      "for message in reader:\n",
      "    topics = message[\"newsgroups\"].split(',')\n",
      "    topics = [topic.strip() for topic in topics]\n",
      "    for topic in topics:\n",
      "        datamap.append({\"topic\": topic, \"article_id\": message[\"articleId\"], \n",
      "                        \"content\": message[\"content\"]})\n",
      "dataset = DataFrame(datamap)\n",
      "\n",
      "vectorizer = TfidfVectorizer(stop_words='english', use_idf=True)\n",
      "feature_vectors = vectorizer.fit_transform(dataset[\"content\"])\n",
      "km = KMeans(n_clusters=10, init='k-means++', max_iter=100, n_init=10, verbose=0)\n",
      "\n",
      "clusters = km.fit_predict(feature_vectors)\n",
      "\n",
      "dataset[\"cluster_id\"] = clusters\n",
      "\n",
      "result = DataFrame(dataset.groupby([\"cluster_id\"])[\"article_id\"].count(), \n",
      "                   columns = [\"doc_count\"])\n",
      "result.plot(kind=\"bar\")"
     ],
     "language": "python",
     "metadata": {},
     "outputs": []
    }
   ],
   "metadata": {}
  }
 ]
}